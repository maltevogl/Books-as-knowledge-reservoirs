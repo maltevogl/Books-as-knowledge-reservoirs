{
 "cells": [
  {
   "cell_type": "markdown",
   "metadata": {},
   "source": [
    "# Chapter\n",
    "\n",
    "## Title 1\n",
    "\n",
    "Text has _many_ options for **formating**. \n",
    "\n",
    "E.g. `[Link](https://www.mpiwg-berlin.mpg.de)` becomes [Links](https://www.mpiwg-berlin.mpg.de) \n",
    "\n",
    "### Subsection 1\n",
    "\n",
    "Formulares can be writen in Latex: `$\\int_0^{10} x^3 dx$` becomes $\\int_0^{10} x^3 dx$"
   ]
  },
  {
   "cell_type": "code",
   "execution_count": 2,
   "metadata": {},
   "outputs": [],
   "source": [
    "from gensim.models import LdaMulticore\n",
    "import metadata_toolbox.utils as metadata\n",
    "import pandas as pd\n",
    "from pathlib import Path"
   ]
  }
 ],
 "metadata": {
  "kernelspec": {
   "display_name": "Python 3",
   "language": "python",
   "name": "python3"
  },
  "language_info": {
   "codemirror_mode": {
    "name": "ipython",
    "version": 3
   },
   "file_extension": ".py",
   "mimetype": "text/x-python",
   "name": "python",
   "nbconvert_exporter": "python",
   "pygments_lexer": "ipython3",
   "version": "3.6.5"
  }
 },
 "nbformat": 4,
 "nbformat_minor": 2
}
