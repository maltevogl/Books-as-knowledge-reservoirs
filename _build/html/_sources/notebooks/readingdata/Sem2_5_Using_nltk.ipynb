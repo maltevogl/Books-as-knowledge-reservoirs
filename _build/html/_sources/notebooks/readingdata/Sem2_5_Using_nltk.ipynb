{
 "cells": [
  {
   "cell_type": "markdown",
   "metadata": {},
   "source": [
    "# Working with natural language processing\n",
    "\n",
    "A short introduction to the package `nltk`, which is described in full-length in the website [nltk.org/book](http://www.nltk.org/book)."
   ]
  },
  {
   "cell_type": "code",
   "execution_count": 2,
   "metadata": {},
   "outputs": [],
   "source": [
    "import nltk\n",
    "from nltk import word_tokenize, FreqDist\n",
    "import pandas as pd\n",
    "import matplotlib.pylab as plt"
   ]
  },
  {
   "cell_type": "markdown",
   "metadata": {},
   "source": [
    "If you get package errors, that data is missing, you can use `nltk.download()` to get them."
   ]
  },
  {
   "cell_type": "code",
   "execution_count": 4,
   "metadata": {},
   "outputs": [],
   "source": [
    "#nltk.download('stopwords')"
   ]
  },
  {
   "cell_type": "code",
   "execution_count": 9,
   "metadata": {},
   "outputs": [],
   "source": [
    "data = pd.read_hdf('./data/df_tucholsky.hd5')"
   ]
  },
  {
   "cell_type": "markdown",
   "metadata": {},
   "source": [
    "Sort data by publication year"
   ]
  },
  {
   "cell_type": "code",
   "execution_count": 10,
   "metadata": {},
   "outputs": [],
   "source": [
    "data = data.sort_values('year')"
   ]
  },
  {
   "cell_type": "markdown",
   "metadata": {},
   "source": [
    "Select subset of texts containing \"Krieg\" as a separate word."
   ]
  },
  {
   "cell_type": "code",
   "execution_count": 11,
   "metadata": {},
   "outputs": [],
   "source": [
    "subset = data[data.text.str.contains('\\sKrieg\\s')]"
   ]
  },
  {
   "cell_type": "markdown",
   "metadata": {},
   "source": [
    "We have around 200 texts."
   ]
  },
  {
   "cell_type": "code",
   "execution_count": 12,
   "metadata": {},
   "outputs": [
    {
     "data": {
      "text/plain": [
       "(230, 4)"
      ]
     },
     "execution_count": 12,
     "metadata": {},
     "output_type": "execute_result"
    }
   ],
   "source": [
    "subset.shape"
   ]
  },
  {
   "cell_type": "markdown",
   "metadata": {},
   "source": [
    "Create a list of transformed texts and word frequencies."
   ]
  },
  {
   "cell_type": "code",
   "execution_count": 13,
   "metadata": {},
   "outputs": [],
   "source": [
    "allTexts = [] \n",
    "for i,row in subset.iterrows():\n",
    "    name = \"{0} ({1})\".format(row['title'],row['year'])\n",
    "    tokens = word_tokenize(row['text'])\n",
    "    text = nltk.Text(tokens,name)\n",
    "    fdist = FreqDist(text)\n",
    "    allTexts.append([text, fdist])"
   ]
  },
  {
   "cell_type": "markdown",
   "metadata": {},
   "source": [
    "Lets have a look at one specific text. Since the list `allTexts`contains elements of lists we can define the values for text and frequency distribution as follows"
   ]
  },
  {
   "cell_type": "code",
   "execution_count": 14,
   "metadata": {},
   "outputs": [],
   "source": [
    "text5, fdist5 = allTexts[5]"
   ]
  },
  {
   "cell_type": "markdown",
   "metadata": {},
   "source": [
    "Running the code cell with only the `text5` variable, will print the title and year."
   ]
  },
  {
   "cell_type": "code",
   "execution_count": 15,
   "metadata": {},
   "outputs": [
    {
     "data": {
      "text/plain": [
       "<Text: Macchiavelli (1918)>"
      ]
     },
     "execution_count": 15,
     "metadata": {},
     "output_type": "execute_result"
    }
   ],
   "source": [
    "text5"
   ]
  },
  {
   "cell_type": "markdown",
   "metadata": {},
   "source": [
    "Test the `concordance(WORD)` and other functions with some words\n",
    "  - Concordance of \"Krieg\", \"Politik\", \"Ethik\"\n",
    "  - Similar of \"Politik\"\n",
    "  - Common context of \"Politik\" and \"Ethik\""
   ]
  },
  {
   "cell_type": "code",
   "execution_count": 16,
   "metadata": {},
   "outputs": [
    {
     "ename": "TypeError",
     "evalue": "concordance() missing 1 required positional argument: 'word'",
     "output_type": "error",
     "traceback": [
      "\u001b[0;31m---------------------------------------------------------------------------\u001b[0m",
      "\u001b[0;31mTypeError\u001b[0m                                 Traceback (most recent call last)",
      "\u001b[0;32m<ipython-input-16-8ffdaa8757b2>\u001b[0m in \u001b[0;36m<module>\u001b[0;34m\u001b[0m\n\u001b[0;32m----> 1\u001b[0;31m \u001b[0mtext5\u001b[0m\u001b[0;34m.\u001b[0m\u001b[0mconcordance\u001b[0m\u001b[0;34m(\u001b[0m\u001b[0;34m)\u001b[0m\u001b[0;34m\u001b[0m\u001b[0;34m\u001b[0m\u001b[0m\n\u001b[0m",
      "\u001b[0;31mTypeError\u001b[0m: concordance() missing 1 required positional argument: 'word'"
     ]
    }
   ],
   "source": [
    "text5.concordance()"
   ]
  },
  {
   "cell_type": "markdown",
   "metadata": {},
   "source": [
    "We can check which words have a similar context by using `similar(WORD)`"
   ]
  },
  {
   "cell_type": "code",
   "execution_count": 17,
   "metadata": {},
   "outputs": [
    {
     "ename": "TypeError",
     "evalue": "similar() missing 1 required positional argument: 'word'",
     "output_type": "error",
     "traceback": [
      "\u001b[0;31m---------------------------------------------------------------------------\u001b[0m",
      "\u001b[0;31mTypeError\u001b[0m                                 Traceback (most recent call last)",
      "\u001b[0;32m<ipython-input-17-328b7c0f9015>\u001b[0m in \u001b[0;36m<module>\u001b[0;34m\u001b[0m\n\u001b[0;32m----> 1\u001b[0;31m \u001b[0mtext5\u001b[0m\u001b[0;34m.\u001b[0m\u001b[0msimilar\u001b[0m\u001b[0;34m(\u001b[0m\u001b[0;34m)\u001b[0m\u001b[0;34m\u001b[0m\u001b[0;34m\u001b[0m\u001b[0m\n\u001b[0m",
      "\u001b[0;31mTypeError\u001b[0m: similar() missing 1 required positional argument: 'word'"
     ]
    }
   ],
   "source": [
    "text5.similar()"
   ]
  },
  {
   "cell_type": "markdown",
   "metadata": {},
   "source": [
    "Related to the `similar()` function, we can check for `common_contexts([WORD1, WORD2])`."
   ]
  },
  {
   "cell_type": "code",
   "execution_count": 18,
   "metadata": {},
   "outputs": [
    {
     "ename": "NameError",
     "evalue": "name 'WORD' is not defined",
     "output_type": "error",
     "traceback": [
      "\u001b[0;31m---------------------------------------------------------------------------\u001b[0m",
      "\u001b[0;31mNameError\u001b[0m                                 Traceback (most recent call last)",
      "\u001b[0;32m<ipython-input-18-858b41d68ff8>\u001b[0m in \u001b[0;36m<module>\u001b[0;34m\u001b[0m\n\u001b[0;32m----> 1\u001b[0;31m \u001b[0mtext5\u001b[0m\u001b[0;34m.\u001b[0m\u001b[0mcommon_contexts\u001b[0m\u001b[0;34m(\u001b[0m\u001b[0;34m[\u001b[0m\u001b[0mWORD\u001b[0m\u001b[0;34m,\u001b[0m\u001b[0mWORD\u001b[0m\u001b[0;34m]\u001b[0m\u001b[0;34m)\u001b[0m\u001b[0;34m\u001b[0m\u001b[0;34m\u001b[0m\u001b[0m\n\u001b[0m",
      "\u001b[0;31mNameError\u001b[0m: name 'WORD' is not defined"
     ]
    }
   ],
   "source": [
    "text5.common_contexts([WORD,WORD])"
   ]
  },
  {
   "cell_type": "markdown",
   "metadata": {},
   "source": [
    "The function `collocations()` gives groups of words, that often occure together."
   ]
  },
  {
   "cell_type": "code",
   "execution_count": 19,
   "metadata": {},
   "outputs": [
    {
     "name": "stdout",
     "output_type": "stream",
     "text": [
      "aus dem; zur Gewalt; diesem Kriege; göttliche Recht; besorgt hat; Das\n",
      "ist; ist keine; darf man; dem Volke; dem Vorlesungsverzeichnis; ist\n",
      "eine; sie unsittlich; weil sie; das göttliche; die Welt;\n",
      "Vorlesungsverzeichnis der; der Menge; der Sittenlehre; der\n",
      "philosophischen; auch nur\n"
     ]
    }
   ],
   "source": [
    "text5.collocations()"
   ]
  },
  {
   "cell_type": "markdown",
   "metadata": {},
   "source": [
    "To quickly visualize the occurance of words throughout a text, we can use `dispersion_plot([WORD1, WORD2])`.\n",
    "\n",
    "  - Plot the dispersion of \"Krieg\", \"Politik\" and \"Ethik\""
   ]
  },
  {
   "cell_type": "code",
   "execution_count": 20,
   "metadata": {},
   "outputs": [
    {
     "name": "stderr",
     "output_type": "stream",
     "text": [
      "/home/mvogl/Dokumente/GMPG/Lehre/Books-as-knowledge-reservoirs/env/lib/python3.7/site-packages/nltk/draw/__init__.py:15: UserWarning: nltk.draw package not loaded (please install Tkinter library).\n",
      "  warnings.warn(\"nltk.draw package not loaded \" \"(please install Tkinter library).\")\n"
     ]
    },
    {
     "data": {
      "image/png": "[encoded data removed]",
      "text/plain": [
       "<Figure size 432x288 with 1 Axes>"
      ]
     },
     "metadata": {
      "needs_background": "light"
     },
     "output_type": "display_data"
    }
   ],
   "source": [
    "text5.dispersion_plot([])"
   ]
  },
  {
   "cell_type": "markdown",
   "metadata": {},
   "source": [
    "## Frequency distributions\n",
    "\n",
    "Frequency distributions describe the number of occurances of words in a text. To find the most common words use `most_common`. This returns a ordered list of words and their occurance in the text. "
   ]
  },
  {
   "cell_type": "code",
   "execution_count": 21,
   "metadata": {},
   "outputs": [
    {
     "data": {
      "text/plain": [
       "[(',', 106),\n",
       " ('.', 52),\n",
       " ('und', 29),\n",
       " ('der', 28),\n",
       " ('die', 25),\n",
       " ('zu', 24),\n",
       " ('ist', 20),\n",
       " ('nicht', 19),\n",
       " ('es', 16),\n",
       " ('das', 15),\n",
       " ('Politik', 14),\n",
       " ('sie', 14),\n",
       " ('den', 13),\n",
       " ('?', 13),\n",
       " (':', 12),\n",
       " ('dem', 10),\n",
       " ('–', 10),\n",
       " ('Ethik', 10),\n",
       " ('in', 10),\n",
       " ('man', 8)]"
      ]
     },
     "execution_count": 21,
     "metadata": {},
     "output_type": "execute_result"
    }
   ],
   "source": [
    "fdist5.most_common(20)"
   ]
  },
  {
   "cell_type": "markdown",
   "metadata": {},
   "source": [
    "Inputing a specific word gives the number of occurances.\n",
    "\n",
    "  - Check for \"Krieg\" and \"Politik\""
   ]
  },
  {
   "cell_type": "code",
   "execution_count": 22,
   "metadata": {},
   "outputs": [
    {
     "ename": "SyntaxError",
     "evalue": "invalid syntax (<ipython-input-22-663afc20100e>, line 1)",
     "output_type": "error",
     "traceback": [
      "\u001b[0;36m  File \u001b[0;32m\"<ipython-input-22-663afc20100e>\"\u001b[0;36m, line \u001b[0;32m1\u001b[0m\n\u001b[0;31m    fdist5[]\u001b[0m\n\u001b[0m           ^\u001b[0m\n\u001b[0;31mSyntaxError\u001b[0m\u001b[0;31m:\u001b[0m invalid syntax\n"
     ]
    }
   ],
   "source": [
    "fdist5[]"
   ]
  },
  {
   "cell_type": "markdown",
   "metadata": {},
   "source": [
    "To find the opposite end, i.e. words which occure only once, we can use `.hapaxes()`. _Hapax legomenon_ are sometimes used to characterize the unknown authors of texts. \n",
    "\n",
    "  - Are the a useful candidate for _keywords_ to describe the character of a document? \n",
    "  - why? Why not? "
   ]
  },
  {
   "cell_type": "code",
   "execution_count": null,
   "metadata": {},
   "outputs": [],
   "source": [
    "fdist5.hapaxes()[:20]"
   ]
  },
  {
   "cell_type": "markdown",
   "metadata": {},
   "source": [
    "Another option for keywords could be a mix of often occuring and long enough words.\n",
    "\n",
    "  - In the following code, find a combination of length and frequency that gives useful words"
   ]
  },
  {
   "cell_type": "code",
   "execution_count": null,
   "metadata": {},
   "outputs": [],
   "source": [
    "length = \n",
    "frequency = \n",
    "sorted(w for w in set(text5) if len(w) > length and fdist5[w] > frequency)"
   ]
  },
  {
   "cell_type": "markdown",
   "metadata": {},
   "source": [
    "Fdist also offers plotting, e.g. to see how the most common words shape the whole text."
   ]
  },
  {
   "cell_type": "code",
   "execution_count": null,
   "metadata": {},
   "outputs": [],
   "source": [
    "fdist5.plot(50, cumulative=True)"
   ]
  },
  {
   "cell_type": "code",
   "execution_count": null,
   "metadata": {},
   "outputs": [],
   "source": [
    "print(fdist5)"
   ]
  },
  {
   "cell_type": "markdown",
   "metadata": {},
   "source": [
    "Since there are only around 1200 words in the text, the 50 most common words are building 50 % of the text."
   ]
  },
  {
   "cell_type": "markdown",
   "metadata": {},
   "source": [
    "## Bonus: Zipf's law\n",
    "\n",
    "[Zipf's law](https://en.wikipedia.org/wiki/Zipf%27s_law) is claimed to be a general law in language, that in any natural language text the frequency of every word is inverse to its rank in the frequency table. This means, that if you order all words of a text by their occurance, and give them a related to their position in the ordered list, a log-log plot of (rank,frequency) should be linear. \n",
    "\n",
    "  - Bonus: Reproduce Zipf's law for a given Tucholsky text\n",
    "  - Hints: \n",
    "    - Use matplotlib [scatter plot](https://pythonspot.com/matplotlib-scatterplot/)\n",
    "    - 'fdist.B' gives the number of bins, i.e. words in a corpus, same as len(fdist)\n",
    "    - How do you get all the first elements in a list of lists?\n",
    "    - plt.xscale('log) and plt.yscale('log') set logarithmic scales\n",
    "  - Bonus II: Write a function returning the plot for any input text, with the text title as plot title\n",
    "  - Hints: \n",
    "    - plt.title(text) sets the title of a plot"
   ]
  },
  {
   "cell_type": "code",
   "execution_count": null,
   "metadata": {},
   "outputs": [],
   "source": [
    "[x[1] for x in LIST]"
   ]
  },
  {
   "cell_type": "code",
   "execution_count": 118,
   "metadata": {},
   "outputs": [],
   "source": [
    "def plot(inp):\n",
    "    text = inp[0]\n",
    "    fdist = inp[1]\n",
    "    p = plt.plot(range(1,fdist.B() + 1),[x[1] for x in fdist.most_common()])\n",
    "    plt.xscale('log')\n",
    "    plt.yscale('log')\n",
    "    plt.title(text)\n",
    "    return p"
   ]
  },
  {
   "cell_type": "code",
   "execution_count": 119,
   "metadata": {},
   "outputs": [
    {
     "data": {
      "text/plain": [
       "[<matplotlib.lines.Line2D at 0x7f71c8436350>]"
      ]
     },
     "execution_count": 119,
     "metadata": {},
     "output_type": "execute_result"
    },
    {
     "data": {
      "image/png": "[encoded data removed]",
      "text/plain": [
       "<Figure size 432x288 with 1 Axes>"
      ]
     },
     "metadata": {
      "needs_background": "light"
     },
     "output_type": "display_data"
    }
   ],
   "source": [
    "plot(allTexts[10])"
   ]
  },
  {
   "cell_type": "code",
   "execution_count": 1,
   "metadata": {},
   "outputs": [],
   "source": [
    "from HanTa import HanoverTagger as ht"
   ]
  },
  {
   "cell_type": "code",
   "execution_count": 2,
   "metadata": {},
   "outputs": [],
   "source": [
    "tagger = ht.HanoverTagger('morphmodel_ger.pgz')"
   ]
  },
  {
   "cell_type": "code",
   "execution_count": 41,
   "metadata": {},
   "outputs": [],
   "source": [
    "def lemmaNouns(text):\n",
    "    words = [] \n",
    "    sentences = nltk.sent_tokenize(text,language='german')\n",
    "    sentences_tok = [nltk.tokenize.word_tokenize(sent) for sent in sentences]\n",
    "    for sent in sentences_tok:\n",
    "        tags = tagger.tag_sent(sent) \n",
    "        words_from_sent = [lemma for (word,lemma,pos) in tags]\n",
    "        words.extend(words_from_sent)\n",
    "\n",
    "    return words"
   ]
  },
  {
   "cell_type": "code",
   "execution_count": 43,
   "metadata": {},
   "outputs": [
    {
     "data": {
      "text/plain": [
       "'\\n\\n                              Die Romantik des Geschmacklosen\\n\\n                              Das Essaybuch von Max Brod ›Die Schönheit der häßlichen Bilder‹ (das von Kurt Wolff in Leipzig verlegt ist) erscheint mir als das beste seiner letzten Bücher. Da sind alle die Arbeiten gesammelt, die zerstreut herauskamen und unser Entzücken erregten. (Viele haben in der ›Schaubühne‹ gestanden.)\\nDen Titel hat das Buch, weil die meisten Aufsätze sich liebevoll damit befassen, die untergehende Geschmacklosigkeit als romantisch, als abwegig, als etwas nicht Alltägliches hinzustellen. Es gibt von Max Brod ein wundervolles Gedicht in dem schönen Bande ›Der Weg des Verliebten‹. Da steht drin, daß in einem Lande, wo Wunder, Helden und Fehden, Satansmessen und Vampyre an der Tagesordnung sind, die Romantiker einsam im Gebirge wohnen und ihrerseits ein Land erfunden haben, »von dem sie schwärmen. Dort gibts saure Weine, Hausbälle, Ehen, sogar Singvereine.« Das ist es. Wie hat er das rührende sterbende Kaiserpanorama besungen! Es muß wohl mit allen Einzelheiten auf der ganzen Welt gleich sein – denn so, wie es in Prag ist, so ist es in Berlin, und so wird es wohl auch in Paris sein und sonstwo. Sorgfältig hat er die Kleinigkeiten, die Environs, unter denen eine Sache vor sich geht, gesammelt, untersucht, analysiert. Er hat eine wundervolle Art, den Kitsch ernst zu nehmen, ihn für alles verantwortlich zu machen. Da heißt es in ›Vorstadtbühne‹: »Dann brach eine Dämmerung ein, die ruckweise fortschritt, so, als vergäße der liebe Gott immer eine Weile, es dunkeln zu lassen, besänne sich jedesmal und hole es dann plötzlich mit Energie ein . . . « In der Art. Es reizt ihn, die zusammengeballten Klischees unsrer Umgebung wieder aufzulösen, zu zeigen, woher sie kommen. Verstaubt, aber unversehrt, entsteigen herrliche Gebilde dem Orkus. Hier scheint mir der Reiz zu liegen. Varieté, Kunst, Literatur – das schöne Buch verdient, daß viele sich daran erfreuen.\\n\\n\\n\\n· Peter Panter\\nDie Schaubühne, 17.07.1913, Nr. 28, S. 723.\\n\\n\\n\\n'"
      ]
     },
     "execution_count": 43,
     "metadata": {},
     "output_type": "execute_result"
    }
   ],
   "source": [
    "data.text.iloc[10]"
   ]
  },
  {
   "cell_type": "code",
   "execution_count": 42,
   "metadata": {},
   "outputs": [
    {
     "data": {
      "text/plain": [
       "['die',\n",
       " 'Romantik',\n",
       " 'des',\n",
       " 'geschmacklos',\n",
       " 'das',\n",
       " 'Essaybuch',\n",
       " 'von',\n",
       " 'Max',\n",
       " 'Brod',\n",
       " '›die',\n",
       " 'Schönheit',\n",
       " 'der',\n",
       " 'häßlich',\n",
       " 'Bilder‹',\n",
       " '--',\n",
       " 'das',\n",
       " 'von',\n",
       " 'Kurt',\n",
       " 'Wolff',\n",
       " 'in',\n",
       " 'Leipzig',\n",
       " 'verlegen',\n",
       " 'sein',\n",
       " '--',\n",
       " 'erscheinen',\n",
       " 'mir',\n",
       " 'als',\n",
       " 'das',\n",
       " 'gut',\n",
       " 'sein',\n",
       " 'letzter',\n",
       " 'Buch',\n",
       " '--',\n",
       " 'da',\n",
       " 'sein',\n",
       " 'alle',\n",
       " 'die',\n",
       " 'Arbeit',\n",
       " 'sammeln',\n",
       " '--',\n",
       " 'die',\n",
       " 'zerstreuen',\n",
       " 'herauskommen',\n",
       " 'und',\n",
       " 'unser',\n",
       " 'Entzücken',\n",
       " 'erregen',\n",
       " '--',\n",
       " '--',\n",
       " 'viele',\n",
       " 'haben',\n",
       " 'in',\n",
       " 'der',\n",
       " '›schaubühne‹',\n",
       " 'stehen',\n",
       " '--',\n",
       " '--',\n",
       " 'den',\n",
       " 'Titel',\n",
       " 'haben',\n",
       " 'das',\n",
       " 'Buch',\n",
       " '--',\n",
       " 'weil',\n",
       " 'die',\n",
       " 'meisten',\n",
       " 'Aufsatz',\n",
       " 'sich',\n",
       " 'liebevoll',\n",
       " 'damit',\n",
       " 'befassen',\n",
       " '--',\n",
       " 'die',\n",
       " 'untergehend',\n",
       " 'Geschmacklosigkeit',\n",
       " 'als',\n",
       " 'romantisch',\n",
       " '--',\n",
       " 'als',\n",
       " 'abwegig',\n",
       " '--',\n",
       " 'als',\n",
       " 'etwas',\n",
       " 'nicht',\n",
       " 'alltäglich',\n",
       " 'hinstellen',\n",
       " '--',\n",
       " 'es',\n",
       " 'geben',\n",
       " 'von',\n",
       " 'Max',\n",
       " 'Brod',\n",
       " 'ein',\n",
       " 'wundervoll',\n",
       " 'Gedicht',\n",
       " 'in',\n",
       " 'dem',\n",
       " 'schön',\n",
       " 'Bande',\n",
       " '›der',\n",
       " 'Weg',\n",
       " 'des',\n",
       " 'Verliebten‹',\n",
       " '--',\n",
       " 'da',\n",
       " 'stehen',\n",
       " 'drin',\n",
       " '--',\n",
       " 'daß',\n",
       " 'in',\n",
       " 'einem',\n",
       " 'Land',\n",
       " '--',\n",
       " 'wo',\n",
       " 'Wunder',\n",
       " '--',\n",
       " 'Held',\n",
       " 'und',\n",
       " 'Fehden',\n",
       " '--',\n",
       " 'Satansmessen',\n",
       " 'und',\n",
       " 'Vampyre',\n",
       " 'an',\n",
       " 'der',\n",
       " 'Tagesordnung',\n",
       " 'sein',\n",
       " '--',\n",
       " 'die',\n",
       " 'Romantiker',\n",
       " 'einsam',\n",
       " 'im',\n",
       " 'Gebirge',\n",
       " 'wohnen',\n",
       " 'und',\n",
       " 'ihrerseits',\n",
       " 'ein',\n",
       " 'Land',\n",
       " 'erfinden',\n",
       " 'haben',\n",
       " '--',\n",
       " '»',\n",
       " 'von',\n",
       " 'dem',\n",
       " 'sie',\n",
       " 'schwärmen',\n",
       " '--',\n",
       " 'dort',\n",
       " 'gibts',\n",
       " 'sau',\n",
       " 'Wein',\n",
       " '--',\n",
       " 'Hausbälle',\n",
       " '--',\n",
       " 'Ehe',\n",
       " '--',\n",
       " 'sogar',\n",
       " 'singvereine.',\n",
       " '«',\n",
       " 'Das',\n",
       " 'sein',\n",
       " 'es',\n",
       " '--',\n",
       " 'wie',\n",
       " 'haben',\n",
       " 'er',\n",
       " 'das',\n",
       " 'rührend',\n",
       " 'sterbend',\n",
       " 'Kaiserpanorama',\n",
       " 'besingen',\n",
       " '--',\n",
       " 'es',\n",
       " 'müssen',\n",
       " 'wohl',\n",
       " 'mit',\n",
       " 'allen',\n",
       " 'Einzelheit',\n",
       " 'auf',\n",
       " 'der',\n",
       " 'ganz',\n",
       " 'Welt',\n",
       " 'gleich',\n",
       " 'sein',\n",
       " '–',\n",
       " 'denn',\n",
       " 'so',\n",
       " '--',\n",
       " 'wie',\n",
       " 'es',\n",
       " 'in',\n",
       " 'Prag',\n",
       " 'sein',\n",
       " '--',\n",
       " 'so',\n",
       " 'sein',\n",
       " 'es',\n",
       " 'in',\n",
       " 'Berlin',\n",
       " '--',\n",
       " 'und',\n",
       " 'so',\n",
       " 'werden',\n",
       " 'es',\n",
       " 'wohl',\n",
       " 'auch',\n",
       " 'in',\n",
       " 'Paris',\n",
       " 'sein',\n",
       " 'und',\n",
       " 'sonstwo',\n",
       " '--',\n",
       " 'sorgfältig',\n",
       " 'haben',\n",
       " 'er',\n",
       " 'die',\n",
       " 'Kleinigkeit',\n",
       " '--',\n",
       " 'die',\n",
       " 'Environs',\n",
       " '--',\n",
       " 'unter',\n",
       " 'denen',\n",
       " 'eine',\n",
       " 'Sache',\n",
       " 'vor',\n",
       " 'sich',\n",
       " 'gehen',\n",
       " '--',\n",
       " 'sammeln',\n",
       " '--',\n",
       " 'untersuchen',\n",
       " '--',\n",
       " 'analysieren',\n",
       " '--',\n",
       " 'er',\n",
       " 'haben',\n",
       " 'eine',\n",
       " 'wundervoll',\n",
       " 'Art',\n",
       " '--',\n",
       " 'den',\n",
       " 'Kitsch',\n",
       " 'ernst',\n",
       " 'zu',\n",
       " 'nehmen',\n",
       " '--',\n",
       " 'ihn',\n",
       " 'für',\n",
       " 'alles',\n",
       " 'verantwortlich',\n",
       " 'zu',\n",
       " 'machen',\n",
       " '--',\n",
       " 'da',\n",
       " 'heißen',\n",
       " 'es',\n",
       " 'in',\n",
       " '›vorstadtbühne‹',\n",
       " '--',\n",
       " '»',\n",
       " 'dann',\n",
       " 'brechen',\n",
       " 'eine',\n",
       " 'Dämmerung',\n",
       " 'ein',\n",
       " '--',\n",
       " 'die',\n",
       " 'ruckweise',\n",
       " 'fortschreiten',\n",
       " '--',\n",
       " 'so',\n",
       " '--',\n",
       " 'als',\n",
       " 'vergessen',\n",
       " 'der',\n",
       " 'lieb',\n",
       " 'Gott',\n",
       " 'immer',\n",
       " 'eine',\n",
       " 'Weile',\n",
       " '--',\n",
       " 'es',\n",
       " 'Dunkele',\n",
       " 'zu',\n",
       " 'lassen',\n",
       " '--',\n",
       " 'besännen',\n",
       " 'sich',\n",
       " 'jedesmal',\n",
       " 'und',\n",
       " 'holen',\n",
       " 'es',\n",
       " 'dann',\n",
       " 'plötzlich',\n",
       " 'mit',\n",
       " 'Energie',\n",
       " 'ein',\n",
       " '--',\n",
       " '--',\n",
       " '--',\n",
       " '«',\n",
       " 'in',\n",
       " 'der',\n",
       " 'Art',\n",
       " '--',\n",
       " 'es',\n",
       " 'reizen',\n",
       " 'ihn',\n",
       " '--',\n",
       " 'die',\n",
       " 'zusammengeballt',\n",
       " 'Klischee',\n",
       " 'Unsrer',\n",
       " 'Umgebung',\n",
       " 'wieder',\n",
       " 'auflösen',\n",
       " '--',\n",
       " 'zu',\n",
       " 'zeigen',\n",
       " '--',\n",
       " 'woher',\n",
       " 'sie',\n",
       " 'kommen',\n",
       " '--',\n",
       " 'verstauben',\n",
       " '--',\n",
       " 'aber',\n",
       " 'unversehrt',\n",
       " '--',\n",
       " 'entsteigen',\n",
       " 'herrlich',\n",
       " 'Gebilde',\n",
       " 'dem',\n",
       " 'Orkus',\n",
       " '--',\n",
       " 'hier',\n",
       " 'scheinen',\n",
       " 'mir',\n",
       " 'der',\n",
       " 'Reiz',\n",
       " 'zu',\n",
       " 'liegen',\n",
       " '--',\n",
       " 'Varieté',\n",
       " '--',\n",
       " 'Kunst',\n",
       " '--',\n",
       " 'Literatur',\n",
       " '–',\n",
       " 'das',\n",
       " 'schön',\n",
       " 'Buch',\n",
       " 'verdienen',\n",
       " '--',\n",
       " 'daß',\n",
       " 'viele',\n",
       " 'sich',\n",
       " 'daran',\n",
       " 'erfreuen',\n",
       " '--',\n",
       " '·',\n",
       " 'Peter',\n",
       " 'Panter',\n",
       " 'die',\n",
       " 'Schaubühne',\n",
       " '--',\n",
       " '17.07.1913',\n",
       " '--',\n",
       " 'Nr',\n",
       " '--',\n",
       " '28',\n",
       " '--',\n",
       " 'S.',\n",
       " '723',\n",
       " '--']"
      ]
     },
     "execution_count": 42,
     "metadata": {},
     "output_type": "execute_result"
    }
   ],
   "source": [
    "lemmaNouns(data.text.iloc[10])"
   ]
  },
  {
   "cell_type": "code",
   "execution_count": null,
   "metadata": {},
   "outputs": [],
   "source": []
  }
 ],
 "metadata": {
  "kernelspec": {
   "display_name": "Python 3",
   "language": "python",
   "name": "python3"
  },
  "language_info": {
   "codemirror_mode": {
    "name": "ipython",
    "version": 3
   },
   "file_extension": ".py",
   "mimetype": "text/x-python",
   "name": "python",
   "nbconvert_exporter": "python",
   "pygments_lexer": "ipython3",
   "version": "3.8.2"
  }
 },
 "nbformat": 4,
 "nbformat_minor": 4
}
