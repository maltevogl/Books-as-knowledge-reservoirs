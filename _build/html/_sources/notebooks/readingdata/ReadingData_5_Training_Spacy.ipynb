{
 "cells": [
  {
   "cell_type": "markdown",
   "metadata": {},
   "source": [
    "# Training a new spacy model for Tucholsky\n",
    "\n",
    "Spacy offers a relativly simple training pipeline. It uses an exisiting model and introduces new categories to this model.\n",
    "\n",
    "As always with ml methods, the question is how to get training data. In this exercise, a simple method using regular expressions is shown. \n",
    "More useful results however, are obtained using a manually tagged input e.g. from Doccano. "
   ]
  },
  {
   "cell_type": "code",
   "execution_count": null,
   "metadata": {},
   "outputs": [],
   "source": [
    "import spacy\n",
    "import random\n",
    "import numpy as np\n",
    "from spacy.pipeline import EntityRecognizer"
   ]
  },
  {
   "cell_type": "code",
   "execution_count": null,
   "metadata": {},
   "outputs": [],
   "source": [
    "import pandas as pd\n",
    "import re\n",
    "from itertools import tee"
   ]
  },
  {
   "cell_type": "code",
   "execution_count": null,
   "metadata": {},
   "outputs": [],
   "source": [
    "df_all = pd.read_json('PATH_TO/df_tucholsky.json',lines=True)"
   ]
  },
  {
   "cell_type": "markdown",
   "metadata": {},
   "source": [
    "For simplicity and speed we limit ourselfs to those texts containing the word 'Krieg' (german for _War_)."
   ]
  },
  {
   "cell_type": "code",
   "execution_count": null,
   "metadata": {},
   "outputs": [],
   "source": [
    "df = df_all[df_all.text.str.contains('\\sKrieg\\s')]"
   ]
  },
  {
   "cell_type": "markdown",
   "metadata": {},
   "source": [
    "## Create labels by regular expressions\n",
    "\n",
    "Using regular expressions, we create three new labels, the name of the publication, the publishing data, and the pseudonym used. These are all simple tags, since their occurance is either very formalized (e.g. the publication name is always followed by date) or limited (the number of used pseudonyms)."
   ]
  },
  {
   "cell_type": "code",
   "execution_count": null,
   "metadata": {},
   "outputs": [],
   "source": [
    "def getValue(text):\n",
    "    regex = [('Publication Name','(?<=\\n).+(?=,\\s\\d{2}.\\d{2}.\\d{4})'), ('Date','\\d{2}.\\d{2}.\\d{4}'), ('Pseudonym','Kaspar Hauser|Ignaz Wrobel|Kurt Tucholsky|Paul Panther|Theobald Tiger')]\n",
    "    retList = []\n",
    "    for exp in regex:\n",
    "        expr = re.compile(exp[1])\n",
    "        try:\n",
    "            find = re.search(expr, text)\n",
    "            retList.append([find.start(), find.end(), exp[0]])\n",
    "        except AttributeError:\n",
    "            pass\n",
    "    return retList"
   ]
  },
  {
   "cell_type": "markdown",
   "metadata": {},
   "source": [
    "Testing the routing before its application on the full dataframe is a good practice."
   ]
  },
  {
   "cell_type": "code",
   "execution_count": null,
   "metadata": {},
   "outputs": [],
   "source": [
    "getValue(df.text.iloc[0])"
   ]
  },
  {
   "cell_type": "markdown",
   "metadata": {},
   "source": [
    "We create a new column called labels, which contains the results of the routine."
   ]
  },
  {
   "cell_type": "code",
   "execution_count": null,
   "metadata": {},
   "outputs": [],
   "source": [
    "df['labels'] = df.text.apply(lambda row: getValue(row))"
   ]
  },
  {
   "cell_type": "markdown",
   "metadata": {},
   "source": [
    "Test the output of the routine by looking at the head of the dataframe."
   ]
  },
  {
   "cell_type": "code",
   "execution_count": null,
   "metadata": {},
   "outputs": [],
   "source": [
    "df.head(2)"
   ]
  },
  {
   "cell_type": "markdown",
   "metadata": {},
   "source": [
    "## Training part"
   ]
  },
  {
   "cell_type": "markdown",
   "metadata": {},
   "source": [
    "To create training data we have to use the correct format for Spacy. Each text is saved with its found entities in a tuple and added to a list."
   ]
  },
  {
   "cell_type": "code",
   "execution_count": null,
   "metadata": {},
   "outputs": [],
   "source": [
    "TRAIN_DATA = []"
   ]
  },
  {
   "cell_type": "code",
   "execution_count": null,
   "metadata": {},
   "outputs": [],
   "source": [
    "for row in df.iterrows():\n",
    "    TRAIN_DATA.append((row[1]['text'],{'entities':row[1]['labels']}))"
   ]
  },
  {
   "cell_type": "markdown",
   "metadata": {},
   "source": [
    "We can now take the part of the Spacy pipeline we want to train (Named Entity Recognition, NER), and add the new labels."
   ]
  },
  {
   "cell_type": "code",
   "execution_count": null,
   "metadata": {},
   "outputs": [],
   "source": [
    "nlp = spacy.load(\"de_core_news_md\")\n",
    "ner = nlp.get_pipe('ner')\n",
    "ner.add_label(\"Pseudonym\")\n",
    "ner.add_label(\"Publication Name\")\n",
    "ner.add_label(\"Date\")"
   ]
  },
  {
   "cell_type": "markdown",
   "metadata": {},
   "source": [
    "The training itself is started using the following syntax. Note, that it is limited to 20 texts to keep the runtime short."
   ]
  },
  {
   "cell_type": "code",
   "execution_count": null,
   "metadata": {},
   "outputs": [],
   "source": [
    "optimizer = nlp.begin_training()\n",
    "for i in range(20):\n",
    "    random.shuffle(TRAIN_DATA)\n",
    "    for text, annotations in TRAIN_DATA:\n",
    "        nlp.update([text], [annotations], sgd=optimizer)"
   ]
  },
  {
   "cell_type": "markdown",
   "metadata": {},
   "source": [
    "The resulting newly trained model can be saved to disk for later use. Uncomment the following cell to save the model."
   ]
  },
  {
   "cell_type": "code",
   "execution_count": null,
   "metadata": {},
   "outputs": [],
   "source": [
    "#nlp.to_disk(\"../data/tucholsky.model\")"
   ]
  },
  {
   "cell_type": "markdown",
   "metadata": {},
   "source": [
    "## Using pre-tagged data\n",
    "\n",
    "To use a pre-tagged dataset for tagging (in the Docanno format) we only need to make slight adaptions of the procedure. The example dataset has more new labels."
   ]
  },
  {
   "cell_type": "code",
   "execution_count": null,
   "metadata": {},
   "outputs": [],
   "source": [
    "data = pd.read_json('../data/DocannoCorpus.json',lines=True)"
   ]
  },
  {
   "cell_type": "code",
   "execution_count": null,
   "metadata": {},
   "outputs": [],
   "source": [
    "data.head(2)"
   ]
  },
  {
   "cell_type": "code",
   "execution_count": null,
   "metadata": {},
   "outputs": [],
   "source": [
    "TRAIN_DATA = []"
   ]
  },
  {
   "cell_type": "code",
   "execution_count": null,
   "metadata": {},
   "outputs": [],
   "source": [
    "for row in data.iterrows():\n",
    "    if row[1]['labels']:\n",
    "        TRAIN_DATA.append((row[1]['text'],{'entities':row[1]['labels']}))"
   ]
  },
  {
   "cell_type": "code",
   "execution_count": null,
   "metadata": {},
   "outputs": [],
   "source": [
    "l = np.array(TRAIN_DATA)[:,1]"
   ]
  },
  {
   "cell_type": "code",
   "execution_count": null,
   "metadata": {},
   "outputs": [],
   "source": [
    "l[0]"
   ]
  },
  {
   "cell_type": "code",
   "execution_count": null,
   "metadata": {},
   "outputs": [],
   "source": [
    "nlp_doc = spacy.load(\"de_core_news_md\")"
   ]
  },
  {
   "cell_type": "code",
   "execution_count": null,
   "metadata": {},
   "outputs": [],
   "source": [
    "ner = nlp_doc.get_pipe('ner')\n",
    "ner.add_label(\"Pseudonym\")\n",
    "ner.add_label(\"Publication name\")\n",
    "ner.add_label(\"Date\")\n",
    "ner.add_label(\"Title of piece of art\")\n",
    "ner.add_label(\"Location\")\n",
    "ner.add_label(\"Person (real)\")\n",
    "ner.add_label(\"Organization\")\n",
    "ner.add_label(\"Person (fictional)\")\n",
    "\n",
    "\n",
    "optimizer = nlp_doc.begin_training()\n",
    "for i in range(20):\n",
    "    random.shuffle(TRAIN_DATA)\n",
    "    for text, annotations in TRAIN_DATA:\n",
    "        nlp_doc.update([text], [annotations], sgd=optimizer)"
   ]
  },
  {
   "cell_type": "code",
   "execution_count": null,
   "metadata": {},
   "outputs": [],
   "source": [
    "#nlp_doc.to_disk(\"../data/tucholsky_doccano.model\")"
   ]
  },
  {
   "cell_type": "markdown",
   "metadata": {},
   "source": [
    "### Exercise\n",
    "\n",
    "Use the previous notebook that introduced Spacy and load one of the newly trained models for Tucholsky. \n",
    "\n",
    "  - Do you see any difference in the routines of Spacy?\n",
    "  - Use the displacy method for visualizing entities! "
   ]
  },
  {
   "cell_type": "code",
   "execution_count": null,
   "metadata": {},
   "outputs": [],
   "source": []
  }
 ],
 "metadata": {
  "kernelspec": {
   "display_name": "Python 3",
   "language": "python",
   "name": "python3"
  },
  "language_info": {
   "codemirror_mode": {
    "name": "ipython",
    "version": 3
   },
   "file_extension": ".py",
   "mimetype": "text/x-python",
   "name": "python",
   "nbconvert_exporter": "python",
   "pygments_lexer": "ipython3",
   "version": "3.8.5"
  }
 },
 "nbformat": 4,
 "nbformat_minor": 4
}
