{
 "cells": [
  {
   "cell_type": "code",
   "execution_count": 1,
   "metadata": {},
   "outputs": [],
   "source": [
    "import re\n",
    "import pandas as pd"
   ]
  },
  {
   "cell_type": "code",
   "execution_count": 2,
   "metadata": {},
   "outputs": [
    {
     "ename": "ValueError",
     "evalue": "Expected object or value",
     "output_type": "error",
     "traceback": [
      "\u001b[0;31m---------------------------------------------------------------------------\u001b[0m",
      "\u001b[0;31mValueError\u001b[0m                                Traceback (most recent call last)",
      "\u001b[0;32m<ipython-input-2-f43991102218>\u001b[0m in \u001b[0;36m<module>\u001b[0;34m\u001b[0m\n\u001b[0;32m----> 1\u001b[0;31m \u001b[0mdfT\u001b[0m \u001b[0;34m=\u001b[0m \u001b[0mpd\u001b[0m\u001b[0;34m.\u001b[0m\u001b[0mread_json\u001b[0m\u001b[0;34m(\u001b[0m\u001b[0;34m'./data/df_tucholsky.json'\u001b[0m\u001b[0;34m,\u001b[0m\u001b[0mlines\u001b[0m\u001b[0;34m=\u001b[0m\u001b[0;32mTrue\u001b[0m\u001b[0;34m)\u001b[0m\u001b[0;34m\u001b[0m\u001b[0;34m\u001b[0m\u001b[0m\n\u001b[0m",
      "\u001b[0;32m~/Dokumente/GMPG/jupyterbook/env/lib/python3.8/site-packages/pandas/util/_decorators.py\u001b[0m in \u001b[0;36mwrapper\u001b[0;34m(*args, **kwargs)\u001b[0m\n\u001b[1;32m    197\u001b[0m                 \u001b[0;32melse\u001b[0m\u001b[0;34m:\u001b[0m\u001b[0;34m\u001b[0m\u001b[0;34m\u001b[0m\u001b[0m\n\u001b[1;32m    198\u001b[0m                     \u001b[0mkwargs\u001b[0m\u001b[0;34m[\u001b[0m\u001b[0mnew_arg_name\u001b[0m\u001b[0;34m]\u001b[0m \u001b[0;34m=\u001b[0m \u001b[0mnew_arg_value\u001b[0m\u001b[0;34m\u001b[0m\u001b[0;34m\u001b[0m\u001b[0m\n\u001b[0;32m--> 199\u001b[0;31m             \u001b[0;32mreturn\u001b[0m \u001b[0mfunc\u001b[0m\u001b[0;34m(\u001b[0m\u001b[0;34m*\u001b[0m\u001b[0margs\u001b[0m\u001b[0;34m,\u001b[0m \u001b[0;34m**\u001b[0m\u001b[0mkwargs\u001b[0m\u001b[0;34m)\u001b[0m\u001b[0;34m\u001b[0m\u001b[0;34m\u001b[0m\u001b[0m\n\u001b[0m\u001b[1;32m    200\u001b[0m \u001b[0;34m\u001b[0m\u001b[0m\n\u001b[1;32m    201\u001b[0m         \u001b[0;32mreturn\u001b[0m \u001b[0mcast\u001b[0m\u001b[0;34m(\u001b[0m\u001b[0mF\u001b[0m\u001b[0;34m,\u001b[0m \u001b[0mwrapper\u001b[0m\u001b[0;34m)\u001b[0m\u001b[0;34m\u001b[0m\u001b[0;34m\u001b[0m\u001b[0m\n",
      "\u001b[0;32m~/Dokumente/GMPG/jupyterbook/env/lib/python3.8/site-packages/pandas/util/_decorators.py\u001b[0m in \u001b[0;36mwrapper\u001b[0;34m(*args, **kwargs)\u001b[0m\n\u001b[1;32m    294\u001b[0m                 )\n\u001b[1;32m    295\u001b[0m                 \u001b[0mwarnings\u001b[0m\u001b[0;34m.\u001b[0m\u001b[0mwarn\u001b[0m\u001b[0;34m(\u001b[0m\u001b[0mmsg\u001b[0m\u001b[0;34m,\u001b[0m \u001b[0mFutureWarning\u001b[0m\u001b[0;34m,\u001b[0m \u001b[0mstacklevel\u001b[0m\u001b[0;34m=\u001b[0m\u001b[0mstacklevel\u001b[0m\u001b[0;34m)\u001b[0m\u001b[0;34m\u001b[0m\u001b[0;34m\u001b[0m\u001b[0m\n\u001b[0;32m--> 296\u001b[0;31m             \u001b[0;32mreturn\u001b[0m \u001b[0mfunc\u001b[0m\u001b[0;34m(\u001b[0m\u001b[0;34m*\u001b[0m\u001b[0margs\u001b[0m\u001b[0;34m,\u001b[0m \u001b[0;34m**\u001b[0m\u001b[0mkwargs\u001b[0m\u001b[0;34m)\u001b[0m\u001b[0;34m\u001b[0m\u001b[0;34m\u001b[0m\u001b[0m\n\u001b[0m\u001b[1;32m    297\u001b[0m \u001b[0;34m\u001b[0m\u001b[0m\n\u001b[1;32m    298\u001b[0m         \u001b[0;32mreturn\u001b[0m \u001b[0mwrapper\u001b[0m\u001b[0;34m\u001b[0m\u001b[0;34m\u001b[0m\u001b[0m\n",
      "\u001b[0;32m~/Dokumente/GMPG/jupyterbook/env/lib/python3.8/site-packages/pandas/io/json/_json.py\u001b[0m in \u001b[0;36mread_json\u001b[0;34m(path_or_buf, orient, typ, dtype, convert_axes, convert_dates, keep_default_dates, numpy, precise_float, date_unit, encoding, lines, chunksize, compression, nrows)\u001b[0m\n\u001b[1;32m    616\u001b[0m         \u001b[0;32mreturn\u001b[0m \u001b[0mjson_reader\u001b[0m\u001b[0;34m\u001b[0m\u001b[0;34m\u001b[0m\u001b[0m\n\u001b[1;32m    617\u001b[0m \u001b[0;34m\u001b[0m\u001b[0m\n\u001b[0;32m--> 618\u001b[0;31m     \u001b[0mresult\u001b[0m \u001b[0;34m=\u001b[0m \u001b[0mjson_reader\u001b[0m\u001b[0;34m.\u001b[0m\u001b[0mread\u001b[0m\u001b[0;34m(\u001b[0m\u001b[0;34m)\u001b[0m\u001b[0;34m\u001b[0m\u001b[0;34m\u001b[0m\u001b[0m\n\u001b[0m\u001b[1;32m    619\u001b[0m     \u001b[0;32mif\u001b[0m \u001b[0mshould_close\u001b[0m\u001b[0;34m:\u001b[0m\u001b[0;34m\u001b[0m\u001b[0;34m\u001b[0m\u001b[0m\n\u001b[1;32m    620\u001b[0m         \u001b[0mfilepath_or_buffer\u001b[0m\u001b[0;34m.\u001b[0m\u001b[0mclose\u001b[0m\u001b[0;34m(\u001b[0m\u001b[0;34m)\u001b[0m\u001b[0;34m\u001b[0m\u001b[0;34m\u001b[0m\u001b[0m\n",
      "\u001b[0;32m~/Dokumente/GMPG/jupyterbook/env/lib/python3.8/site-packages/pandas/io/json/_json.py\u001b[0m in \u001b[0;36mread\u001b[0;34m(self)\u001b[0m\n\u001b[1;32m    751\u001b[0m                 \u001b[0mdata\u001b[0m \u001b[0;34m=\u001b[0m \u001b[0mensure_str\u001b[0m\u001b[0;34m(\u001b[0m\u001b[0mself\u001b[0m\u001b[0;34m.\u001b[0m\u001b[0mdata\u001b[0m\u001b[0;34m)\u001b[0m\u001b[0;34m\u001b[0m\u001b[0;34m\u001b[0m\u001b[0m\n\u001b[1;32m    752\u001b[0m                 \u001b[0mdata\u001b[0m \u001b[0;34m=\u001b[0m \u001b[0mdata\u001b[0m\u001b[0;34m.\u001b[0m\u001b[0msplit\u001b[0m\u001b[0;34m(\u001b[0m\u001b[0;34m\"\\n\"\u001b[0m\u001b[0;34m)\u001b[0m\u001b[0;34m\u001b[0m\u001b[0;34m\u001b[0m\u001b[0m\n\u001b[0;32m--> 753\u001b[0;31m                 \u001b[0mobj\u001b[0m \u001b[0;34m=\u001b[0m \u001b[0mself\u001b[0m\u001b[0;34m.\u001b[0m\u001b[0m_get_object_parser\u001b[0m\u001b[0;34m(\u001b[0m\u001b[0mself\u001b[0m\u001b[0;34m.\u001b[0m\u001b[0m_combine_lines\u001b[0m\u001b[0;34m(\u001b[0m\u001b[0mdata\u001b[0m\u001b[0;34m)\u001b[0m\u001b[0;34m)\u001b[0m\u001b[0;34m\u001b[0m\u001b[0;34m\u001b[0m\u001b[0m\n\u001b[0m\u001b[1;32m    754\u001b[0m         \u001b[0;32melse\u001b[0m\u001b[0;34m:\u001b[0m\u001b[0;34m\u001b[0m\u001b[0;34m\u001b[0m\u001b[0m\n\u001b[1;32m    755\u001b[0m             \u001b[0mobj\u001b[0m \u001b[0;34m=\u001b[0m \u001b[0mself\u001b[0m\u001b[0;34m.\u001b[0m\u001b[0m_get_object_parser\u001b[0m\u001b[0;34m(\u001b[0m\u001b[0mself\u001b[0m\u001b[0;34m.\u001b[0m\u001b[0mdata\u001b[0m\u001b[0;34m)\u001b[0m\u001b[0;34m\u001b[0m\u001b[0;34m\u001b[0m\u001b[0m\n",
      "\u001b[0;32m~/Dokumente/GMPG/jupyterbook/env/lib/python3.8/site-packages/pandas/io/json/_json.py\u001b[0m in \u001b[0;36m_get_object_parser\u001b[0;34m(self, json)\u001b[0m\n\u001b[1;32m    775\u001b[0m         \u001b[0mobj\u001b[0m \u001b[0;34m=\u001b[0m \u001b[0;32mNone\u001b[0m\u001b[0;34m\u001b[0m\u001b[0;34m\u001b[0m\u001b[0m\n\u001b[1;32m    776\u001b[0m         \u001b[0;32mif\u001b[0m \u001b[0mtyp\u001b[0m \u001b[0;34m==\u001b[0m \u001b[0;34m\"frame\"\u001b[0m\u001b[0;34m:\u001b[0m\u001b[0;34m\u001b[0m\u001b[0;34m\u001b[0m\u001b[0m\n\u001b[0;32m--> 777\u001b[0;31m             \u001b[0mobj\u001b[0m \u001b[0;34m=\u001b[0m \u001b[0mFrameParser\u001b[0m\u001b[0;34m(\u001b[0m\u001b[0mjson\u001b[0m\u001b[0;34m,\u001b[0m \u001b[0;34m**\u001b[0m\u001b[0mkwargs\u001b[0m\u001b[0;34m)\u001b[0m\u001b[0;34m.\u001b[0m\u001b[0mparse\u001b[0m\u001b[0;34m(\u001b[0m\u001b[0;34m)\u001b[0m\u001b[0;34m\u001b[0m\u001b[0;34m\u001b[0m\u001b[0m\n\u001b[0m\u001b[1;32m    778\u001b[0m \u001b[0;34m\u001b[0m\u001b[0m\n\u001b[1;32m    779\u001b[0m         \u001b[0;32mif\u001b[0m \u001b[0mtyp\u001b[0m \u001b[0;34m==\u001b[0m \u001b[0;34m\"series\"\u001b[0m \u001b[0;32mor\u001b[0m \u001b[0mobj\u001b[0m \u001b[0;32mis\u001b[0m \u001b[0;32mNone\u001b[0m\u001b[0;34m:\u001b[0m\u001b[0;34m\u001b[0m\u001b[0;34m\u001b[0m\u001b[0m\n",
      "\u001b[0;32m~/Dokumente/GMPG/jupyterbook/env/lib/python3.8/site-packages/pandas/io/json/_json.py\u001b[0m in \u001b[0;36mparse\u001b[0;34m(self)\u001b[0m\n\u001b[1;32m    884\u001b[0m \u001b[0;34m\u001b[0m\u001b[0m\n\u001b[1;32m    885\u001b[0m         \u001b[0;32melse\u001b[0m\u001b[0;34m:\u001b[0m\u001b[0;34m\u001b[0m\u001b[0;34m\u001b[0m\u001b[0m\n\u001b[0;32m--> 886\u001b[0;31m             \u001b[0mself\u001b[0m\u001b[0;34m.\u001b[0m\u001b[0m_parse_no_numpy\u001b[0m\u001b[0;34m(\u001b[0m\u001b[0;34m)\u001b[0m\u001b[0;34m\u001b[0m\u001b[0;34m\u001b[0m\u001b[0m\n\u001b[0m\u001b[1;32m    887\u001b[0m \u001b[0;34m\u001b[0m\u001b[0m\n\u001b[1;32m    888\u001b[0m         \u001b[0;32mif\u001b[0m \u001b[0mself\u001b[0m\u001b[0;34m.\u001b[0m\u001b[0mobj\u001b[0m \u001b[0;32mis\u001b[0m \u001b[0;32mNone\u001b[0m\u001b[0;34m:\u001b[0m\u001b[0;34m\u001b[0m\u001b[0;34m\u001b[0m\u001b[0m\n",
      "\u001b[0;32m~/Dokumente/GMPG/jupyterbook/env/lib/python3.8/site-packages/pandas/io/json/_json.py\u001b[0m in \u001b[0;36m_parse_no_numpy\u001b[0;34m(self)\u001b[0m\n\u001b[1;32m   1117\u001b[0m         \u001b[0;32mif\u001b[0m \u001b[0morient\u001b[0m \u001b[0;34m==\u001b[0m \u001b[0;34m\"columns\"\u001b[0m\u001b[0;34m:\u001b[0m\u001b[0;34m\u001b[0m\u001b[0;34m\u001b[0m\u001b[0m\n\u001b[1;32m   1118\u001b[0m             self.obj = DataFrame(\n\u001b[0;32m-> 1119\u001b[0;31m                 \u001b[0mloads\u001b[0m\u001b[0;34m(\u001b[0m\u001b[0mjson\u001b[0m\u001b[0;34m,\u001b[0m \u001b[0mprecise_float\u001b[0m\u001b[0;34m=\u001b[0m\u001b[0mself\u001b[0m\u001b[0;34m.\u001b[0m\u001b[0mprecise_float\u001b[0m\u001b[0;34m)\u001b[0m\u001b[0;34m,\u001b[0m \u001b[0mdtype\u001b[0m\u001b[0;34m=\u001b[0m\u001b[0;32mNone\u001b[0m\u001b[0;34m\u001b[0m\u001b[0;34m\u001b[0m\u001b[0m\n\u001b[0m\u001b[1;32m   1120\u001b[0m             )\n\u001b[1;32m   1121\u001b[0m         \u001b[0;32melif\u001b[0m \u001b[0morient\u001b[0m \u001b[0;34m==\u001b[0m \u001b[0;34m\"split\"\u001b[0m\u001b[0;34m:\u001b[0m\u001b[0;34m\u001b[0m\u001b[0;34m\u001b[0m\u001b[0m\n",
      "\u001b[0;31mValueError\u001b[0m: Expected object or value"
     ]
    }
   ],
   "source": [
    "dfT = pd.read_json('./data/df_tucholsky.json',lines=True)"
   ]
  },
  {
   "cell_type": "code",
   "execution_count": 4,
   "metadata": {},
   "outputs": [
    {
     "data": {
      "text/html": [
       "<div>\n",
       "<style scoped>\n",
       "    .dataframe tbody tr th:only-of-type {\n",
       "        vertical-align: middle;\n",
       "    }\n",
       "\n",
       "    .dataframe tbody tr th {\n",
       "        vertical-align: top;\n",
       "    }\n",
       "\n",
       "    .dataframe thead th {\n",
       "        text-align: right;\n",
       "    }\n",
       "</style>\n",
       "<table border=\"1\" class=\"dataframe\">\n",
       "  <thead>\n",
       "    <tr style=\"text-align: right;\">\n",
       "      <th></th>\n",
       "      <th>ids</th>\n",
       "      <th>year</th>\n",
       "      <th>title</th>\n",
       "      <th>text</th>\n",
       "    </tr>\n",
       "  </thead>\n",
       "  <tbody>\n",
       "    <tr>\n",
       "      <th>0</th>\n",
       "      <td>tg1736.wmbd.0</td>\n",
       "      <td>1932</td>\n",
       "      <td>Der Floh</td>\n",
       "      <td>\\n\\n                              Der Floh\\n\\n...</td>\n",
       "    </tr>\n",
       "    <tr>\n",
       "      <th>1</th>\n",
       "      <td>tg1737.wg20.0</td>\n",
       "      <td>1932</td>\n",
       "      <td>Das Lied von der Gleichgültigkeit</td>\n",
       "      <td>\\n\\n                              Das Lied von...</td>\n",
       "    </tr>\n",
       "    <tr>\n",
       "      <th>2</th>\n",
       "      <td>tg1738.wjbn.0</td>\n",
       "      <td>1932</td>\n",
       "      <td>Fräulein Nietzsche</td>\n",
       "      <td>\\n\\n                              Fräulein Nie...</td>\n",
       "    </tr>\n",
       "    <tr>\n",
       "      <th>3</th>\n",
       "      <td>tg1739.wg1q.0</td>\n",
       "      <td>1932</td>\n",
       "      <td>Europa</td>\n",
       "      <td>\\n\\n                              Europa\\n\\n  ...</td>\n",
       "    </tr>\n",
       "    <tr>\n",
       "      <th>4</th>\n",
       "      <td>tg1740.wgz7.0</td>\n",
       "      <td>1932</td>\n",
       "      <td>Zoologie</td>\n",
       "      <td>\\n\\n                              Zoologie\\n\\n...</td>\n",
       "    </tr>\n",
       "    <tr>\n",
       "      <th>...</th>\n",
       "      <td>...</td>\n",
       "      <td>...</td>\n",
       "      <td>...</td>\n",
       "      <td>...</td>\n",
       "    </tr>\n",
       "    <tr>\n",
       "      <th>1732</th>\n",
       "      <td>tg151.whmb.0</td>\n",
       "      <td>1917</td>\n",
       "      <td>Papiernot</td>\n",
       "      <td>\\n\\n                              Papiernot\\n\\...</td>\n",
       "    </tr>\n",
       "    <tr>\n",
       "      <th>1733</th>\n",
       "      <td>tg152.whkf.0</td>\n",
       "      <td>1917</td>\n",
       "      <td>Vorher!</td>\n",
       "      <td>\\n\\n                              Vorher!\\n\\n ...</td>\n",
       "    </tr>\n",
       "    <tr>\n",
       "      <th>1734</th>\n",
       "      <td>tg153.whfg.0</td>\n",
       "      <td>1917</td>\n",
       "      <td>Unterwegs 1915</td>\n",
       "      <td>\\n\\n                              Unterwegs 19...</td>\n",
       "    </tr>\n",
       "    <tr>\n",
       "      <th>1735</th>\n",
       "      <td>tg154.wnjn.0</td>\n",
       "      <td>1917</td>\n",
       "      <td>Die Einsiedlerschule</td>\n",
       "      <td>\\n\\n                              Die Einsiedl...</td>\n",
       "    </tr>\n",
       "    <tr>\n",
       "      <th>1736</th>\n",
       "      <td>tg155.wkb6.0</td>\n",
       "      <td>1917</td>\n",
       "      <td>Die Träume</td>\n",
       "      <td>\\n\\n                              Die Träume\\n...</td>\n",
       "    </tr>\n",
       "  </tbody>\n",
       "</table>\n",
       "<p>1737 rows × 4 columns</p>\n",
       "</div>"
      ],
      "text/plain": [
       "                ids  year                              title  \\\n",
       "0     tg1736.wmbd.0  1932                           Der Floh   \n",
       "1     tg1737.wg20.0  1932  Das Lied von der Gleichgültigkeit   \n",
       "2     tg1738.wjbn.0  1932                 Fräulein Nietzsche   \n",
       "3     tg1739.wg1q.0  1932                             Europa   \n",
       "4     tg1740.wgz7.0  1932                           Zoologie   \n",
       "...             ...   ...                                ...   \n",
       "1732   tg151.whmb.0  1917                          Papiernot   \n",
       "1733   tg152.whkf.0  1917                            Vorher!   \n",
       "1734   tg153.whfg.0  1917                     Unterwegs 1915   \n",
       "1735   tg154.wnjn.0  1917               Die Einsiedlerschule   \n",
       "1736   tg155.wkb6.0  1917                         Die Träume   \n",
       "\n",
       "                                                   text  \n",
       "0     \\n\\n                              Der Floh\\n\\n...  \n",
       "1     \\n\\n                              Das Lied von...  \n",
       "2     \\n\\n                              Fräulein Nie...  \n",
       "3     \\n\\n                              Europa\\n\\n  ...  \n",
       "4     \\n\\n                              Zoologie\\n\\n...  \n",
       "...                                                 ...  \n",
       "1732  \\n\\n                              Papiernot\\n\\...  \n",
       "1733  \\n\\n                              Vorher!\\n\\n ...  \n",
       "1734  \\n\\n                              Unterwegs 19...  \n",
       "1735  \\n\\n                              Die Einsiedl...  \n",
       "1736  \\n\\n                              Die Träume\\n...  \n",
       "\n",
       "[1737 rows x 4 columns]"
      ]
     },
     "execution_count": 4,
     "metadata": {},
     "output_type": "execute_result"
    }
   ],
   "source": [
    "dfT"
   ]
  },
  {
   "cell_type": "code",
   "execution_count": 5,
   "metadata": {},
   "outputs": [],
   "source": [
    "#dfT.text.apply(lambda x: textLength(x))"
   ]
  },
  {
   "cell_type": "code",
   "execution_count": 9,
   "metadata": {},
   "outputs": [
    {
     "data": {
      "text/plain": [
       "True"
      ]
     },
     "execution_count": 9,
     "metadata": {},
     "output_type": "execute_result"
    }
   ],
   "source": [
    "text.strip().startswith('Der')"
   ]
  },
  {
   "cell_type": "code",
   "execution_count": 26,
   "metadata": {},
   "outputs": [],
   "source": [
    "titleM = dfT['title'].str.contains('Krieg') \n",
    "yearM = dfT['year'] > 1930"
   ]
  },
  {
   "cell_type": "code",
   "execution_count": 27,
   "metadata": {},
   "outputs": [
    {
     "data": {
      "text/html": [
       "<div>\n",
       "<style scoped>\n",
       "    .dataframe tbody tr th:only-of-type {\n",
       "        vertical-align: middle;\n",
       "    }\n",
       "\n",
       "    .dataframe tbody tr th {\n",
       "        vertical-align: top;\n",
       "    }\n",
       "\n",
       "    .dataframe thead th {\n",
       "        text-align: right;\n",
       "    }\n",
       "</style>\n",
       "<table border=\"1\" class=\"dataframe\">\n",
       "  <thead>\n",
       "    <tr style=\"text-align: right;\">\n",
       "      <th></th>\n",
       "      <th>ids</th>\n",
       "      <th>year</th>\n",
       "      <th>title</th>\n",
       "      <th>text</th>\n",
       "    </tr>\n",
       "  </thead>\n",
       "  <tbody>\n",
       "    <tr>\n",
       "      <th>36</th>\n",
       "      <td>tg1772.wn13.0</td>\n",
       "      <td>1932</td>\n",
       "      <td>Krieg gleich Mord</td>\n",
       "      <td>\\n\\n                              Krieg gleich...</td>\n",
       "    </tr>\n",
       "    <tr>\n",
       "      <th>536</th>\n",
       "      <td>tg1685.wfwb.0</td>\n",
       "      <td>1931</td>\n",
       "      <td>Der bewachte Kriegsschauplatz</td>\n",
       "      <td>\\n\\n                              Der bewachte...</td>\n",
       "    </tr>\n",
       "  </tbody>\n",
       "</table>\n",
       "</div>"
      ],
      "text/plain": [
       "               ids  year                          title  \\\n",
       "36   tg1772.wn13.0  1932              Krieg gleich Mord   \n",
       "536  tg1685.wfwb.0  1931  Der bewachte Kriegsschauplatz   \n",
       "\n",
       "                                                  text  \n",
       "36   \\n\\n                              Krieg gleich...  \n",
       "536  \\n\\n                              Der bewachte...  "
      ]
     },
     "execution_count": 27,
     "metadata": {},
     "output_type": "execute_result"
    }
   ],
   "source": [
    "dfT[(titleM & yearM)]"
   ]
  },
  {
   "cell_type": "code",
   "execution_count": 7,
   "metadata": {},
   "outputs": [
    {
     "data": {
      "text/html": [
       "<div>\n",
       "<style scoped>\n",
       "    .dataframe tbody tr th:only-of-type {\n",
       "        vertical-align: middle;\n",
       "    }\n",
       "\n",
       "    .dataframe tbody tr th {\n",
       "        vertical-align: top;\n",
       "    }\n",
       "\n",
       "    .dataframe thead th {\n",
       "        text-align: right;\n",
       "    }\n",
       "</style>\n",
       "<table border=\"1\" class=\"dataframe\">\n",
       "  <thead>\n",
       "    <tr style=\"text-align: right;\">\n",
       "      <th></th>\n",
       "      <th>ids</th>\n",
       "      <th>year</th>\n",
       "      <th>title</th>\n",
       "      <th>text</th>\n",
       "    </tr>\n",
       "  </thead>\n",
       "  <tbody>\n",
       "    <tr>\n",
       "      <th>36</th>\n",
       "      <td>tg1772.wn13.0</td>\n",
       "      <td>1932</td>\n",
       "      <td>Krieg gleich Mord</td>\n",
       "      <td>\\n\\n                              Krieg gleich...</td>\n",
       "    </tr>\n",
       "    <tr>\n",
       "      <th>291</th>\n",
       "      <td>tg415.whd1.0</td>\n",
       "      <td>1920</td>\n",
       "      <td>Kriegsandenken</td>\n",
       "      <td>\\n\\n                              Kriegsandenk...</td>\n",
       "    </tr>\n",
       "    <tr>\n",
       "      <th>375</th>\n",
       "      <td>tg1069.wn55.0</td>\n",
       "      <td>1927</td>\n",
       "      <td>Kopenhagener krabbeln auf ein Kriegsschiff</td>\n",
       "      <td>\\n\\n                              Kopenhagener...</td>\n",
       "    </tr>\n",
       "    <tr>\n",
       "      <th>392</th>\n",
       "      <td>tg1086.wg3r.0</td>\n",
       "      <td>1927</td>\n",
       "      <td>Der Krieg und die deutsche Frau</td>\n",
       "      <td>\\n\\n                              Der Krieg un...</td>\n",
       "    </tr>\n",
       "    <tr>\n",
       "      <th>432</th>\n",
       "      <td>tg1126.wmbq.0</td>\n",
       "      <td>1927</td>\n",
       "      <td>Französischer Kriegsfilm</td>\n",
       "      <td>\\n\\n                              Französische...</td>\n",
       "    </tr>\n",
       "    <tr>\n",
       "      <th>536</th>\n",
       "      <td>tg1685.wfwb.0</td>\n",
       "      <td>1931</td>\n",
       "      <td>Der bewachte Kriegsschauplatz</td>\n",
       "      <td>\\n\\n                              Der bewachte...</td>\n",
       "    </tr>\n",
       "    <tr>\n",
       "      <th>899</th>\n",
       "      <td>tg737.whq2.0</td>\n",
       "      <td>1925</td>\n",
       "      <td>Zwischen zwei Kriegen</td>\n",
       "      <td>\\n\\n                              Zwischen zwe...</td>\n",
       "    </tr>\n",
       "    <tr>\n",
       "      <th>1040</th>\n",
       "      <td>tg879.wk7b.0</td>\n",
       "      <td>1926</td>\n",
       "      <td>Waffe gegen den Krieg</td>\n",
       "      <td>\\n\\n                              Waffe gegen ...</td>\n",
       "    </tr>\n",
       "    <tr>\n",
       "      <th>1053</th>\n",
       "      <td>tg892.whzr.0</td>\n",
       "      <td>1926</td>\n",
       "      <td>Wo waren Sie im Kriege, Herr -?</td>\n",
       "      <td>\\n\\n                              Wo waren Sie...</td>\n",
       "    </tr>\n",
       "    <tr>\n",
       "      <th>1166</th>\n",
       "      <td>tg142.wkp2.0</td>\n",
       "      <td>1916</td>\n",
       "      <td>Der Kriegslieferant</td>\n",
       "      <td>\\n\\n                              Der Kriegsli...</td>\n",
       "    </tr>\n",
       "    <tr>\n",
       "      <th>1240</th>\n",
       "      <td>tg1517.wmg3.0</td>\n",
       "      <td>1930</td>\n",
       "      <td>Wie würden Sie sich im Falle eines Krieges geg...</td>\n",
       "      <td>\\n\\n                              Wie würden S...</td>\n",
       "    </tr>\n",
       "    <tr>\n",
       "      <th>1401</th>\n",
       "      <td>tg232.wmmr.0</td>\n",
       "      <td>1919</td>\n",
       "      <td>Kriegsgefangen</td>\n",
       "      <td>\\n\\n                              Kriegsgefang...</td>\n",
       "    </tr>\n",
       "    <tr>\n",
       "      <th>1426</th>\n",
       "      <td>tg257.wnjc.0</td>\n",
       "      <td>1919</td>\n",
       "      <td>Krieg dem Kriege</td>\n",
       "      <td>\\n\\n                              Krieg dem Kr...</td>\n",
       "    </tr>\n",
       "    <tr>\n",
       "      <th>1441</th>\n",
       "      <td>tg272.wmhp.0</td>\n",
       "      <td>1919</td>\n",
       "      <td>'s ist Krieg!</td>\n",
       "      <td>\\n\\n                              's ist Krieg...</td>\n",
       "    </tr>\n",
       "    <tr>\n",
       "      <th>1448</th>\n",
       "      <td>tg279.wg5s.0</td>\n",
       "      <td>1919</td>\n",
       "      <td>Der Krieg ohne Namen</td>\n",
       "      <td>\\n\\n                              Der Krieg oh...</td>\n",
       "    </tr>\n",
       "    <tr>\n",
       "      <th>1449</th>\n",
       "      <td>tg280.wmhw.0</td>\n",
       "      <td>1919</td>\n",
       "      <td>Krieg</td>\n",
       "      <td>\\n\\n                              Krieg\\n\\n   ...</td>\n",
       "    </tr>\n",
       "    <tr>\n",
       "      <th>1521</th>\n",
       "      <td>tg1317.wgqs.0</td>\n",
       "      <td>1929</td>\n",
       "      <td>Der Kriegsschauplatz</td>\n",
       "      <td>\\n\\n                              Der Kriegssc...</td>\n",
       "    </tr>\n",
       "  </tbody>\n",
       "</table>\n",
       "</div>"
      ],
      "text/plain": [
       "                ids  year                                              title  \\\n",
       "36    tg1772.wn13.0  1932                                  Krieg gleich Mord   \n",
       "291    tg415.whd1.0  1920                                     Kriegsandenken   \n",
       "375   tg1069.wn55.0  1927         Kopenhagener krabbeln auf ein Kriegsschiff   \n",
       "392   tg1086.wg3r.0  1927                    Der Krieg und die deutsche Frau   \n",
       "432   tg1126.wmbq.0  1927                           Französischer Kriegsfilm   \n",
       "536   tg1685.wfwb.0  1931                      Der bewachte Kriegsschauplatz   \n",
       "899    tg737.whq2.0  1925                              Zwischen zwei Kriegen   \n",
       "1040   tg879.wk7b.0  1926                              Waffe gegen den Krieg   \n",
       "1053   tg892.whzr.0  1926                    Wo waren Sie im Kriege, Herr -?   \n",
       "1166   tg142.wkp2.0  1916                                Der Kriegslieferant   \n",
       "1240  tg1517.wmg3.0  1930  Wie würden Sie sich im Falle eines Krieges geg...   \n",
       "1401   tg232.wmmr.0  1919                                     Kriegsgefangen   \n",
       "1426   tg257.wnjc.0  1919                                   Krieg dem Kriege   \n",
       "1441   tg272.wmhp.0  1919                                      's ist Krieg!   \n",
       "1448   tg279.wg5s.0  1919                               Der Krieg ohne Namen   \n",
       "1449   tg280.wmhw.0  1919                                              Krieg   \n",
       "1521  tg1317.wgqs.0  1929                               Der Kriegsschauplatz   \n",
       "\n",
       "                                                   text  \n",
       "36    \\n\\n                              Krieg gleich...  \n",
       "291   \\n\\n                              Kriegsandenk...  \n",
       "375   \\n\\n                              Kopenhagener...  \n",
       "392   \\n\\n                              Der Krieg un...  \n",
       "432   \\n\\n                              Französische...  \n",
       "536   \\n\\n                              Der bewachte...  \n",
       "899   \\n\\n                              Zwischen zwe...  \n",
       "1040  \\n\\n                              Waffe gegen ...  \n",
       "1053  \\n\\n                              Wo waren Sie...  \n",
       "1166  \\n\\n                              Der Kriegsli...  \n",
       "1240  \\n\\n                              Wie würden S...  \n",
       "1401  \\n\\n                              Kriegsgefang...  \n",
       "1426  \\n\\n                              Krieg dem Kr...  \n",
       "1441  \\n\\n                              's ist Krieg...  \n",
       "1448  \\n\\n                              Der Krieg oh...  \n",
       "1449  \\n\\n                              Krieg\\n\\n   ...  \n",
       "1521  \\n\\n                              Der Kriegssc...  "
      ]
     },
     "execution_count": 7,
     "metadata": {},
     "output_type": "execute_result"
    }
   ],
   "source": [
    "dfT[dfT.title.str.contains('Krieg')]"
   ]
  },
  {
   "cell_type": "markdown",
   "metadata": {},
   "source": [
    "# Tucholskys output over the years"
   ]
  },
  {
   "cell_type": "code",
   "execution_count": 6,
   "metadata": {},
   "outputs": [],
   "source": [
    "df1 = dfT.groupby('year').size()#.plot()"
   ]
  },
  {
   "cell_type": "code",
   "execution_count": 7,
   "metadata": {},
   "outputs": [],
   "source": [
    "words = ['Weltbühne', 'Tucholsky', 'Panter', 'Hauser','Wrobel','Tiger']\n",
    "dataframes = []\n",
    "for word in words:\n",
    "    dataframes.append(dfT[dfT.text.str.contains(word)].groupby('year').size())"
   ]
  },
  {
   "cell_type": "code",
   "execution_count": 8,
   "metadata": {},
   "outputs": [
    {
     "data": {
      "text/plain": [
       "6"
      ]
     },
     "execution_count": 8,
     "metadata": {},
     "output_type": "execute_result"
    }
   ],
   "source": [
    "len(dataframes)"
   ]
  },
  {
   "cell_type": "code",
   "execution_count": 9,
   "metadata": {},
   "outputs": [
    {
     "data": {
      "text/plain": [
       "year\n",
       "1912     1\n",
       "1913    11\n",
       "1914    11\n",
       "1917     1\n",
       "1918     2\n",
       "1919     4\n",
       "1920     6\n",
       "1921     3\n",
       "1922     4\n",
       "1924     2\n",
       "1926     5\n",
       "1927    13\n",
       "1928     3\n",
       "1929    18\n",
       "1930     2\n",
       "1931    10\n",
       "1932     3\n",
       "dtype: int64"
      ]
     },
     "execution_count": 9,
     "metadata": {},
     "output_type": "execute_result"
    }
   ],
   "source": [
    "dataframes[1]"
   ]
  },
  {
   "cell_type": "code",
   "execution_count": 10,
   "metadata": {},
   "outputs": [],
   "source": [
    "dfRes = pd.concat(map(lambda x: x/df1, dataframes),axis=1).rename(columns={x:word for x,word in enumerate(words)})"
   ]
  },
  {
   "cell_type": "code",
   "execution_count": 12,
   "metadata": {},
   "outputs": [
    {
     "data": {
      "text/html": [
       "<div>\n",
       "<style scoped>\n",
       "    .dataframe tbody tr th:only-of-type {\n",
       "        vertical-align: middle;\n",
       "    }\n",
       "\n",
       "    .dataframe tbody tr th {\n",
       "        vertical-align: top;\n",
       "    }\n",
       "\n",
       "    .dataframe thead th {\n",
       "        text-align: right;\n",
       "    }\n",
       "</style>\n",
       "<table border=\"1\" class=\"dataframe\">\n",
       "  <thead>\n",
       "    <tr style=\"text-align: right;\">\n",
       "      <th></th>\n",
       "      <th>Weltbühne</th>\n",
       "      <th>Tucholsky</th>\n",
       "      <th>Panter</th>\n",
       "      <th>Hauser</th>\n",
       "      <th>Wrobel</th>\n",
       "      <th>Tiger</th>\n",
       "    </tr>\n",
       "    <tr>\n",
       "      <th>year</th>\n",
       "      <th></th>\n",
       "      <th></th>\n",
       "      <th></th>\n",
       "      <th></th>\n",
       "      <th></th>\n",
       "      <th></th>\n",
       "    </tr>\n",
       "  </thead>\n",
       "  <tbody>\n",
       "    <tr>\n",
       "      <th>1907</th>\n",
       "      <td>NaN</td>\n",
       "      <td>NaN</td>\n",
       "      <td>NaN</td>\n",
       "      <td>NaN</td>\n",
       "      <td>NaN</td>\n",
       "      <td>NaN</td>\n",
       "    </tr>\n",
       "    <tr>\n",
       "      <th>1911</th>\n",
       "      <td>NaN</td>\n",
       "      <td>NaN</td>\n",
       "      <td>NaN</td>\n",
       "      <td>NaN</td>\n",
       "      <td>NaN</td>\n",
       "      <td>NaN</td>\n",
       "    </tr>\n",
       "  </tbody>\n",
       "</table>\n",
       "</div>"
      ],
      "text/plain": [
       "      Weltbühne  Tucholsky  Panter  Hauser  Wrobel  Tiger\n",
       "year                                                     \n",
       "1907        NaN        NaN     NaN     NaN     NaN    NaN\n",
       "1911        NaN        NaN     NaN     NaN     NaN    NaN"
      ]
     },
     "execution_count": 12,
     "metadata": {},
     "output_type": "execute_result"
    }
   ],
   "source": [
    "dfRes.head(2)"
   ]
  },
  {
   "cell_type": "code",
   "execution_count": 18,
   "metadata": {},
   "outputs": [
    {
     "data": {
      "text/plain": [
       "<matplotlib.axes._subplots.AxesSubplot at 0x7fea36b21340>"
      ]
     },
     "execution_count": 18,
     "metadata": {},
     "output_type": "execute_result"
    },
    {
     "data": {
      "image/png": "[encoded data removed]",
      "text/plain": [
       "<Figure size 432x288 with 1 Axes>"
      ]
     },
     "metadata": {
      "filenames": {
       "image/png": "/home/arbeit/Dokumente/GMPG/jupyterbook/books-as-knowledge-source/_build/jupyter_execute/notebooks/readingdata/Sem2_1_Reading_with_Data_15_1.png"
      },
      "needs_background": "light"
     },
     "output_type": "display_data"
    }
   ],
   "source": [
    "dfRes.plot()"
   ]
  },
  {
   "cell_type": "code",
   "execution_count": 38,
   "metadata": {},
   "outputs": [
    {
     "data": {
      "text/html": [
       "<div>\n",
       "<style scoped>\n",
       "    .dataframe tbody tr th:only-of-type {\n",
       "        vertical-align: middle;\n",
       "    }\n",
       "\n",
       "    .dataframe tbody tr th {\n",
       "        vertical-align: top;\n",
       "    }\n",
       "\n",
       "    .dataframe thead th {\n",
       "        text-align: right;\n",
       "    }\n",
       "</style>\n",
       "<table border=\"1\" class=\"dataframe\">\n",
       "  <thead>\n",
       "    <tr style=\"text-align: right;\">\n",
       "      <th></th>\n",
       "      <th>ids</th>\n",
       "      <th>year</th>\n",
       "      <th>title</th>\n",
       "      <th>text</th>\n",
       "    </tr>\n",
       "  </thead>\n",
       "  <tbody>\n",
       "    <tr>\n",
       "      <th>1726</th>\n",
       "      <td>tg145.wk8j.0</td>\n",
       "      <td>1917</td>\n",
       "      <td>Die Sekt-Eule</td>\n",
       "      <td>\\n\\n                              Die Sekt-Eul...</td>\n",
       "    </tr>\n",
       "    <tr>\n",
       "      <th>1727</th>\n",
       "      <td>tg146.wjhd.0</td>\n",
       "      <td>1917</td>\n",
       "      <td>Meinen Freunden den Idealisten</td>\n",
       "      <td>\\n\\n                              Meinen Freun...</td>\n",
       "    </tr>\n",
       "    <tr>\n",
       "      <th>1728</th>\n",
       "      <td>tg147.wm8p.0</td>\n",
       "      <td>1917</td>\n",
       "      <td>Das grüne Gesicht</td>\n",
       "      <td>\\n\\n                              Das grüne Ge...</td>\n",
       "    </tr>\n",
       "    <tr>\n",
       "      <th>1729</th>\n",
       "      <td>tg148.wj3b.0</td>\n",
       "      <td>1917</td>\n",
       "      <td>Das Geheimnis des gelben Zimmers</td>\n",
       "      <td>\\n\\n                              Das Geheimni...</td>\n",
       "    </tr>\n",
       "    <tr>\n",
       "      <th>1730</th>\n",
       "      <td>tg149.wmb5.0</td>\n",
       "      <td>1917</td>\n",
       "      <td>An einen garnisondienstfähigen Dichter</td>\n",
       "      <td>\\n\\n                              An einen gar...</td>\n",
       "    </tr>\n",
       "    <tr>\n",
       "      <th>1731</th>\n",
       "      <td>tg150.wj6t.0</td>\n",
       "      <td>1917</td>\n",
       "      <td>Auf Urlaub</td>\n",
       "      <td>\\n\\n                              Auf Urlaub\\n...</td>\n",
       "    </tr>\n",
       "    <tr>\n",
       "      <th>1732</th>\n",
       "      <td>tg151.whmb.0</td>\n",
       "      <td>1917</td>\n",
       "      <td>Papiernot</td>\n",
       "      <td>\\n\\n                              Papiernot\\n\\...</td>\n",
       "    </tr>\n",
       "    <tr>\n",
       "      <th>1733</th>\n",
       "      <td>tg152.whkf.0</td>\n",
       "      <td>1917</td>\n",
       "      <td>Vorher!</td>\n",
       "      <td>\\n\\n                              Vorher!\\n\\n ...</td>\n",
       "    </tr>\n",
       "    <tr>\n",
       "      <th>1734</th>\n",
       "      <td>tg153.whfg.0</td>\n",
       "      <td>1917</td>\n",
       "      <td>Unterwegs 1915</td>\n",
       "      <td>\\n\\n                              Unterwegs 19...</td>\n",
       "    </tr>\n",
       "    <tr>\n",
       "      <th>1735</th>\n",
       "      <td>tg154.wnjn.0</td>\n",
       "      <td>1917</td>\n",
       "      <td>Die Einsiedlerschule</td>\n",
       "      <td>\\n\\n                              Die Einsiedl...</td>\n",
       "    </tr>\n",
       "    <tr>\n",
       "      <th>1736</th>\n",
       "      <td>tg155.wkb6.0</td>\n",
       "      <td>1917</td>\n",
       "      <td>Die Träume</td>\n",
       "      <td>\\n\\n                              Die Träume\\n...</td>\n",
       "    </tr>\n",
       "  </tbody>\n",
       "</table>\n",
       "</div>"
      ],
      "text/plain": [
       "               ids  year                                   title  \\\n",
       "1726  tg145.wk8j.0  1917                           Die Sekt-Eule   \n",
       "1727  tg146.wjhd.0  1917          Meinen Freunden den Idealisten   \n",
       "1728  tg147.wm8p.0  1917                       Das grüne Gesicht   \n",
       "1729  tg148.wj3b.0  1917        Das Geheimnis des gelben Zimmers   \n",
       "1730  tg149.wmb5.0  1917  An einen garnisondienstfähigen Dichter   \n",
       "1731  tg150.wj6t.0  1917                              Auf Urlaub   \n",
       "1732  tg151.whmb.0  1917                               Papiernot   \n",
       "1733  tg152.whkf.0  1917                                 Vorher!   \n",
       "1734  tg153.whfg.0  1917                          Unterwegs 1915   \n",
       "1735  tg154.wnjn.0  1917                    Die Einsiedlerschule   \n",
       "1736  tg155.wkb6.0  1917                              Die Träume   \n",
       "\n",
       "                                                   text  \n",
       "1726  \\n\\n                              Die Sekt-Eul...  \n",
       "1727  \\n\\n                              Meinen Freun...  \n",
       "1728  \\n\\n                              Das grüne Ge...  \n",
       "1729  \\n\\n                              Das Geheimni...  \n",
       "1730  \\n\\n                              An einen gar...  \n",
       "1731  \\n\\n                              Auf Urlaub\\n...  \n",
       "1732  \\n\\n                              Papiernot\\n\\...  \n",
       "1733  \\n\\n                              Vorher!\\n\\n ...  \n",
       "1734  \\n\\n                              Unterwegs 19...  \n",
       "1735  \\n\\n                              Die Einsiedl...  \n",
       "1736  \\n\\n                              Die Träume\\n...  "
      ]
     },
     "execution_count": 38,
     "metadata": {},
     "output_type": "execute_result"
    }
   ],
   "source": [
    "dfT.groupby('year').get_group(1917)"
   ]
  },
  {
   "cell_type": "code",
   "execution_count": 28,
   "metadata": {},
   "outputs": [],
   "source": [
    "tempVol = []\n",
    "for i, g in dfT.groupby('year'):\n",
    "    tempVol.append((i,g.shape[0]))"
   ]
  },
  {
   "cell_type": "code",
   "execution_count": 29,
   "metadata": {},
   "outputs": [],
   "source": [
    "weltb = []\n",
    "dfWeltb = dfT[dfT.text.str.contains('Weltbühne')]\n",
    "for i, g in dfWeltb.groupby('year'):\n",
    "    weltb.append((i,g.shape[0]))"
   ]
  },
  {
   "cell_type": "code",
   "execution_count": 30,
   "metadata": {},
   "outputs": [],
   "source": [
    "dfTOutput = pd.DataFrame(tempVol).set_index(0)"
   ]
  },
  {
   "cell_type": "code",
   "execution_count": 31,
   "metadata": {},
   "outputs": [],
   "source": [
    "dfWeltbOutput = pd.DataFrame(weltb).set_index(0)"
   ]
  },
  {
   "cell_type": "code",
   "execution_count": 32,
   "metadata": {},
   "outputs": [
    {
     "data": {
      "text/plain": [
       "<matplotlib.axes._subplots.AxesSubplot at 0x7f1f60e48250>"
      ]
     },
     "execution_count": 32,
     "metadata": {},
     "output_type": "execute_result"
    },
    {
     "data": {
      "image/png": "[encoded data removed]",
      "text/plain": [
       "<Figure size 432x288 with 1 Axes>"
      ]
     },
     "metadata": {
      "filenames": {
       "image/png": "/home/arbeit/Dokumente/GMPG/jupyterbook/books-as-knowledge-source/_build/jupyter_execute/notebooks/readingdata/Sem2_1_Reading_with_Data_21_1.png"
      },
      "needs_background": "light"
     },
     "output_type": "display_data"
    }
   ],
   "source": [
    "dfTOutput.merge(dfWeltbOutput,left_index=True,right_index=True,how='outer').plot.bar()"
   ]
  },
  {
   "cell_type": "markdown",
   "metadata": {},
   "source": [
    "## How much did he write? \n",
    "\n",
    "Count words in each text, find the most common used words."
   ]
  },
  {
   "cell_type": "code",
   "execution_count": 26,
   "metadata": {},
   "outputs": [],
   "source": [
    "from collections import Counter"
   ]
  },
  {
   "cell_type": "code",
   "execution_count": 5,
   "metadata": {},
   "outputs": [],
   "source": [
    "def textLength(row):\n",
    "    return len(re.findall(\"\\w+\",row))"
   ]
  },
  {
   "cell_type": "code",
   "execution_count": 24,
   "metadata": {},
   "outputs": [],
   "source": [
    "def countWords(row):\n",
    "    allWords = re.findall(\"\\w+\",row)\n",
    "    counts = Counter(allWords)\n",
    "    total = len(allWords)\n",
    "    resTemp = {k: v / total for k, v in counts.items()}\n",
    "    res = {k: v for k, v in sorted(resTemp.items(), key=lambda item: item[1],reverse=True)}\n",
    "    return res"
   ]
  },
  {
   "cell_type": "code",
   "execution_count": 6,
   "metadata": {},
   "outputs": [],
   "source": [
    "dfT['textLength'] = dfT.text.apply(lambda row: textLength(row))"
   ]
  },
  {
   "cell_type": "code",
   "execution_count": 7,
   "metadata": {},
   "outputs": [
    {
     "data": {
      "text/html": [
       "<div>\n",
       "<style scoped>\n",
       "    .dataframe tbody tr th:only-of-type {\n",
       "        vertical-align: middle;\n",
       "    }\n",
       "\n",
       "    .dataframe tbody tr th {\n",
       "        vertical-align: top;\n",
       "    }\n",
       "\n",
       "    .dataframe thead th {\n",
       "        text-align: right;\n",
       "    }\n",
       "</style>\n",
       "<table border=\"1\" class=\"dataframe\">\n",
       "  <thead>\n",
       "    <tr style=\"text-align: right;\">\n",
       "      <th></th>\n",
       "      <th>ids</th>\n",
       "      <th>year</th>\n",
       "      <th>title</th>\n",
       "      <th>text</th>\n",
       "      <th>textLength</th>\n",
       "    </tr>\n",
       "  </thead>\n",
       "  <tbody>\n",
       "    <tr>\n",
       "      <th>0</th>\n",
       "      <td>tg1736.wmbd.0</td>\n",
       "      <td>1932</td>\n",
       "      <td>Der Floh</td>\n",
       "      <td>\\n\\n                              Der Floh\\n\\n...</td>\n",
       "      <td>214</td>\n",
       "    </tr>\n",
       "    <tr>\n",
       "      <th>1</th>\n",
       "      <td>tg1737.wg20.0</td>\n",
       "      <td>1932</td>\n",
       "      <td>Das Lied von der Gleichgültigkeit</td>\n",
       "      <td>\\n\\n                              Das Lied von...</td>\n",
       "      <td>236</td>\n",
       "    </tr>\n",
       "    <tr>\n",
       "      <th>2</th>\n",
       "      <td>tg1738.wjbn.0</td>\n",
       "      <td>1932</td>\n",
       "      <td>Fräulein Nietzsche</td>\n",
       "      <td>\\n\\n                              Fräulein Nie...</td>\n",
       "      <td>2470</td>\n",
       "    </tr>\n",
       "    <tr>\n",
       "      <th>3</th>\n",
       "      <td>tg1739.wg1q.0</td>\n",
       "      <td>1932</td>\n",
       "      <td>Europa</td>\n",
       "      <td>\\n\\n                              Europa\\n\\n  ...</td>\n",
       "      <td>257</td>\n",
       "    </tr>\n",
       "    <tr>\n",
       "      <th>4</th>\n",
       "      <td>tg1740.wgz7.0</td>\n",
       "      <td>1932</td>\n",
       "      <td>Zoologie</td>\n",
       "      <td>\\n\\n                              Zoologie\\n\\n...</td>\n",
       "      <td>94</td>\n",
       "    </tr>\n",
       "    <tr>\n",
       "      <th>...</th>\n",
       "      <td>...</td>\n",
       "      <td>...</td>\n",
       "      <td>...</td>\n",
       "      <td>...</td>\n",
       "      <td>...</td>\n",
       "    </tr>\n",
       "    <tr>\n",
       "      <th>1732</th>\n",
       "      <td>tg151.whmb.0</td>\n",
       "      <td>1917</td>\n",
       "      <td>Papiernot</td>\n",
       "      <td>\\n\\n                              Papiernot\\n\\...</td>\n",
       "      <td>170</td>\n",
       "    </tr>\n",
       "    <tr>\n",
       "      <th>1733</th>\n",
       "      <td>tg152.whkf.0</td>\n",
       "      <td>1917</td>\n",
       "      <td>Vorher!</td>\n",
       "      <td>\\n\\n                              Vorher!\\n\\n ...</td>\n",
       "      <td>670</td>\n",
       "    </tr>\n",
       "    <tr>\n",
       "      <th>1734</th>\n",
       "      <td>tg153.whfg.0</td>\n",
       "      <td>1917</td>\n",
       "      <td>Unterwegs 1915</td>\n",
       "      <td>\\n\\n                              Unterwegs 19...</td>\n",
       "      <td>2501</td>\n",
       "    </tr>\n",
       "    <tr>\n",
       "      <th>1735</th>\n",
       "      <td>tg154.wnjn.0</td>\n",
       "      <td>1917</td>\n",
       "      <td>Die Einsiedlerschule</td>\n",
       "      <td>\\n\\n                              Die Einsiedl...</td>\n",
       "      <td>1533</td>\n",
       "    </tr>\n",
       "    <tr>\n",
       "      <th>1736</th>\n",
       "      <td>tg155.wkb6.0</td>\n",
       "      <td>1917</td>\n",
       "      <td>Die Träume</td>\n",
       "      <td>\\n\\n                              Die Träume\\n...</td>\n",
       "      <td>2139</td>\n",
       "    </tr>\n",
       "  </tbody>\n",
       "</table>\n",
       "<p>1737 rows × 5 columns</p>\n",
       "</div>"
      ],
      "text/plain": [
       "                ids  year                              title  \\\n",
       "0     tg1736.wmbd.0  1932                           Der Floh   \n",
       "1     tg1737.wg20.0  1932  Das Lied von der Gleichgültigkeit   \n",
       "2     tg1738.wjbn.0  1932                 Fräulein Nietzsche   \n",
       "3     tg1739.wg1q.0  1932                             Europa   \n",
       "4     tg1740.wgz7.0  1932                           Zoologie   \n",
       "...             ...   ...                                ...   \n",
       "1732   tg151.whmb.0  1917                          Papiernot   \n",
       "1733   tg152.whkf.0  1917                            Vorher!   \n",
       "1734   tg153.whfg.0  1917                     Unterwegs 1915   \n",
       "1735   tg154.wnjn.0  1917               Die Einsiedlerschule   \n",
       "1736   tg155.wkb6.0  1917                         Die Träume   \n",
       "\n",
       "                                                   text  textLength  \n",
       "0     \\n\\n                              Der Floh\\n\\n...         214  \n",
       "1     \\n\\n                              Das Lied von...         236  \n",
       "2     \\n\\n                              Fräulein Nie...        2470  \n",
       "3     \\n\\n                              Europa\\n\\n  ...         257  \n",
       "4     \\n\\n                              Zoologie\\n\\n...          94  \n",
       "...                                                 ...         ...  \n",
       "1732  \\n\\n                              Papiernot\\n\\...         170  \n",
       "1733  \\n\\n                              Vorher!\\n\\n ...         670  \n",
       "1734  \\n\\n                              Unterwegs 19...        2501  \n",
       "1735  \\n\\n                              Die Einsiedl...        1533  \n",
       "1736  \\n\\n                              Die Träume\\n...        2139  \n",
       "\n",
       "[1737 rows x 5 columns]"
      ]
     },
     "execution_count": 7,
     "metadata": {},
     "output_type": "execute_result"
    }
   ],
   "source": [
    "dfT"
   ]
  },
  {
   "cell_type": "code",
   "execution_count": 27,
   "metadata": {},
   "outputs": [],
   "source": [
    "dfT['wordOccurance'] = dfT.text.apply(lambda row: countWords(row))"
   ]
  },
  {
   "cell_type": "code",
   "execution_count": 32,
   "metadata": {},
   "outputs": [],
   "source": [
    "#dfT.wordOccurance.iloc[23]"
   ]
  },
  {
   "cell_type": "markdown",
   "metadata": {},
   "source": [
    "You can easily manipulate data and the view on it, simply change mean to median or sum."
   ]
  },
  {
   "cell_type": "code",
   "execution_count": 14,
   "metadata": {},
   "outputs": [],
   "source": [
    "#dfT[['year','textLength']]"
   ]
  },
  {
   "cell_type": "code",
   "execution_count": 23,
   "metadata": {},
   "outputs": [
    {
     "data": {
      "text/plain": [
       "<matplotlib.axes._subplots.AxesSubplot at 0x7fcb09af0700>"
      ]
     },
     "execution_count": 23,
     "metadata": {},
     "output_type": "execute_result"
    },
    {
     "data": {
      "image/png": "[encoded data removed]",
      "text/plain": [
       "<Figure size 432x288 with 1 Axes>"
      ]
     },
     "metadata": {
      "filenames": {
       "image/png": "/home/arbeit/Dokumente/GMPG/jupyterbook/books-as-knowledge-source/_build/jupyter_execute/notebooks/readingdata/Sem2_1_Reading_with_Data_32_1.png"
      },
      "needs_background": "light"
     },
     "output_type": "display_data"
    }
   ],
   "source": [
    "dfT[['year','textLength']].groupby('year').median().plot.bar()"
   ]
  },
  {
   "cell_type": "markdown",
   "metadata": {},
   "source": [
    "What happend in 1912, 1927, 1931?"
   ]
  },
  {
   "cell_type": "code",
   "execution_count": 35,
   "metadata": {},
   "outputs": [
    {
     "name": "stdout",
     "output_type": "stream",
     "text": [
      "\n",
      "\n",
      "                              Viel zu fein!\n",
      "\n",
      "                              Ein Millionär trat einst ein Pekinesen-Hündchen. Und entschuldigte sich beim Besitzer. Da rief der Mann: »Was! Sie wollen ein Millionär sein und rufen nicht; ›Bringen Sie mir noch ein Hündchen‹!«\n",
      "\n",
      "Es ist schon ein bißchen besser geworden, aber der Film und mancher Romanautor, sie könnens nicht lassen: es ist bei ihnen alles viel zu fein.\n",
      "Die gnädigen Frauen nehmen ihre Schokolade in einer spitzenüberrieselten Liebesgondel, die Tassen sind innen mit Seide ausgeschlagen, das Stubenmädchen ist so schön wie . . . (nach Belieben auszufüllen);  vorn stehen Diener, hinten stehen Diener, und in der Mitte stehn Silberdiener; Rechtsanwälte gehen in Paquinmodellen auf den Ball und Halbweltdamen nur im Frack ins Bett . . . oder habe ich das verwechselt – kurz: es ist alles so fein, daß man sich ordentlich nach einer richtigen Schmalzenstulle sehnt. Warum ist es so fein –?\n",
      " Der Wunschtraum – ich weiß schon.\n",
      " Ja, mit dem Wunschtraum . . . Habt ihr eigentlich in eurer Bekanntschaft viele Leute, die heute noch so töricht, so dumm und so kindlich sind, daß sie auf so etwas hereinfallen – daß sie so etwas wollen? Und man soll die andern Menschen, die um uns herumleben, nun ja nicht für dümmer halten – dergleichen hat sich schon oft bitter gerächt. Der Wunschtraum . . . Was sind denn das für Träume, die uns die Filmdirektoren und die Romanschreiber da vorträumen?\n",
      " Das sind verjährte Wunschträume.\n",
      " Das sind Ideale in den Formen von gestern und vorgestern und vorvorgestern. Wollen das die Leute?\n",
      " Immer haben sie sich nach Luxus gesehnt, nach Reichtum . . . gewiß. Aber die Dinge liegen doch in Mitteleuropa heute so, daß die Mehrzahl aller Menschen froh ist, wenn sie folgende Sachen haben: Arbeit, auskömmlichen Verdienst, Brot, ein Dach überm Kopf, Wärme, keinen Hunger und keine Krankheiten . . . Das ist schon sehr, sehr viel. Wollen die Leute nun diesen Filmzauber wirklich? Und, wenn sie ihn wollen: gibt es nicht auch so etwas wie eine Verantwortung der Film- und Romanindustrie, dem Publikum gegenüber? Was ist das für billiges Opium und für dummes Zeug!\n",
      " Es stimmt nicht einmal.\n",
      " Bei den reichen Leuten sieht es meist ganz anders aus; ich will nicht sagen: snobistisch bescheiden – aber anders. Abgesehen von den ungeheuren Kosten, die solch ein Leben machte, wie es uns da vorgeführt wird: mit den Platinbadewannen, den parfümierten Staubsaugern, den in Brokat eingebundenen Schoßhündchen und den riesigen Säulenhallen vor dem WC . . . das ist doch gar nicht der Stil unserer Zeit. Auch nicht bei reichen Leuten – grade bei denen nicht. Ja, es ist denkbar, daß sich ein Industrieller einen besonders großen Reitstall hält; irgendeine Liebhaberei pflegt . . . einen Sport . . . gewiß. Aber dieses Theater da . . . ich glaube nicht.\n",
      " Von der Reklame, die ein offenbar existierender ›Weltverband des Ringes der Mädchenhändler‹ macht, ganz zu schweigen, denn das geht wirklich auf keinen Perserteppich. Welche Preise . . . ! Ich bin ja ein ehrsamer Mann mit einer so gut wie fleckenreinen Vergangenheit . . . aber wenn man das so sieht, welches Schicksal diese Undamen im Film erleiden oder vielmehr genießen – welche Preise da verlangt, geboten und gezahlt werden –: wahrlich, ich ginge hin und täte desgleichen, wenn ich nicht wüßte, daß alles Schwindel wäre und wenn  sie mich nicht eben ins falsche Geschlecht hineingeboren hätten. Dafür die vernünftige Aufklärung über Prostitution und dann diese falsche Einheit: mit Kolliers, Riesen-Schecks, als Liebeslohn immer eine Villa mit Golfteich, Entenpark, Tennisplatz für die Rehe und Auto auf dem Dach? Einer allein kann das gar nicht glauben.\n",
      " Nun weiß man nicht recht . . .\n",
      " Die Filmdirektoren und die Romanschreiber tun so, als glaubten sie, daß das Publikum glaubt, dergleichen glauben zu müssen. Wirklich? Ja? Ist das so?\n",
      " Wir sehen es fotografiert; wir bekommen es vorgegaukelt, wir lesen das in so vielen Eisenbahnromanen . . . Sonderbar wirkt solche Kunst ins Leben zurück, aus dem sie gar nicht gekommen ist . . . In manchen Gerichtsverhandlungen hören wir staunend, was einen Einbrecher oder eine Hochstaplerin bewogen hat, eine ›kleine Kiste aufzumachen‹. Sie haben einmal so leben wollen, wie sich der Magazin-Herausgeber träumt, daß es sich seine Leser träumen. Und das gibt dann ein böses Erwachen.\n",
      " Noch viele Filme werden wir sehen: mit dorischen Wintergärten, mit Bar-Tischen, die in die Badewanne eingelassen sind; mit Zederholz-Ruderbooten und silbernen Tabletts, daß es einen graust . . . Wir ergreifen eines dieser Tabletts, legen ein Kärtchen darauf und drücken dem Stubenmädchen mit dem Häubchen und den unwahrscheinlich schönen Beinen ein kleines Trinkgeld von fünfundsiebzig Mark in die Hand: sie möchte unser Kärtchen dem Unternehmer hineintragen.\n",
      " Auf dem Kärtchen steht:\n",
      "\n",
      "VIEL ZU FEIN.\n",
      "WIR DANKEN!\n",
      "\n",
      "\n",
      "\n",
      "\n",
      "· Peter Panter\n",
      "Die losen Blätter der »Dame«, 1931, Nr. 13, S. 203.\n",
      "\n",
      "\n",
      "\n",
      "\n"
     ]
    }
   ],
   "source": [
    "print(dfT[dfT.year == 1931].text.iloc[2])"
   ]
  },
  {
   "cell_type": "code",
   "execution_count": 49,
   "metadata": {},
   "outputs": [
    {
     "name": "stderr",
     "output_type": "stream",
     "text": [
      "/home/mvogl/Dokumente/GMPG/Lehre/Books-as-knowledge-reservoirs/env/lib/python3.7/site-packages/pandas/core/generic.py:2505: PerformanceWarning: \n",
      "your performance may suffer as PyTables will pickle object types that it cannot\n",
      "map directly to c-types [inferred_type->mixed,key->block1_values] [items->Index(['ids', 'title', 'text', 'wordOccurance'], dtype='object')]\n",
      "\n",
      "  encoding=encoding,\n"
     ]
    }
   ],
   "source": [
    "dfT.to_hdf('./data/df_tucholsky_meta.hd5','tucholsky_meta')"
   ]
  }
 ],
 "metadata": {
  "kernelspec": {
   "display_name": "Python 3",
   "language": "python",
   "name": "python3"
  },
  "language_info": {
   "codemirror_mode": {
    "name": "ipython",
    "version": 3
   },
   "file_extension": ".py",
   "mimetype": "text/x-python",
   "name": "python",
   "nbconvert_exporter": "python",
   "pygments_lexer": "ipython3",
   "version": "3.8.5"
  }
 },
 "nbformat": 4,
 "nbformat_minor": 4
}