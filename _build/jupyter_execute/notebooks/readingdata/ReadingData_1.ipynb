{
 "cells": [
  {
   "cell_type": "markdown",
   "metadata": {},
   "source": [
    "# Load JSONL with pandas\n",
    "This notebook is purposfully not ready to be evaluated! You need to read and check every code and text cell and fill in some missing pieces. Mostly, they are marked by three question marks (???).\n",
    "\n",
    "At the end, there is a bonus question with a slightly more involved exercise.\n",
    "\n",
    "## Read file into pandas\n",
    "\n",
    "Enter the path to your downloaded corpus file."
   ]
  },
  {
   "cell_type": "code",
   "execution_count": null,
   "metadata": {},
   "outputs": [],
   "source": [
    "import pandas as pd"
   ]
  },
  {
   "cell_type": "code",
   "execution_count": null,
   "metadata": {},
   "outputs": [],
   "source": [
    "data = pd.read_json('../data/df_tucholsky.json', lines=True)"
   ]
  },
  {
   "cell_type": "markdown",
   "metadata": {},
   "source": [
    "The read-in file is now assigned to the variable `data`."
   ]
  },
  {
   "cell_type": "code",
   "execution_count": null,
   "metadata": {},
   "outputs": [],
   "source": [
    "data.head()"
   ]
  },
  {
   "cell_type": "markdown",
   "metadata": {},
   "source": [
    "The size of the dataframe (i.e. table) can be obtained by using"
   ]
  },
  {
   "cell_type": "code",
   "execution_count": null,
   "metadata": {},
   "outputs": [],
   "source": [
    "data.shape"
   ]
  },
  {
   "cell_type": "markdown",
   "metadata": {},
   "source": [
    "The first number gives the number of rows, the second the number of columns. "
   ]
  },
  {
   "cell_type": "markdown",
   "metadata": {},
   "source": [
    "## Check structure and access data"
   ]
  },
  {
   "cell_type": "markdown",
   "metadata": {},
   "source": [
    "You can access a column by using the column name, e.g. `data['name']`."
   ]
  },
  {
   "cell_type": "code",
   "execution_count": null,
   "metadata": {},
   "outputs": [],
   "source": [
    "data['ids']"
   ]
  },
  {
   "cell_type": "markdown",
   "metadata": {},
   "source": [
    "To read a specific row, you can use the function `.iloc[NUMBER]` to access by count, or select a specific row by content. \n",
    "This happens in two steps.\n",
    "First, you create a list of True/False values, and then reduce the data to rows which are True. "
   ]
  },
  {
   "cell_type": "markdown",
   "metadata": {},
   "source": [
    "To create a _boolean mask_ (True/False list) for numbers you can use _comparision operators_, i.e. `==` for equal, or `>=` for greater then. \n",
    "\n",
    "Example: `data['COLUMN'] >= 10` or `data['COLUMN'] == 17`\n",
    "\n",
    "You can combine several conditions by using AND (`&`, `and`) and OR (`|`, `or`)  operators, e.g. `cond=(cond1 & cond2)`, .\n",
    "\n",
    "Example:  `data[(cond1 & cond2)]`\n",
    "\n",
    "  - Select all rows of the year 1911\n",
    "  - BONUS: Select all rows for the years 1920 to 1925"
   ]
  },
  {
   "cell_type": "code",
   "execution_count": null,
   "metadata": {},
   "outputs": [],
   "source": [
    "yearMask1 = data.year == ???"
   ]
  },
  {
   "cell_type": "code",
   "execution_count": null,
   "metadata": {},
   "outputs": [],
   "source": [
    "data[yearMask1]"
   ]
  },
  {
   "cell_type": "code",
   "execution_count": null,
   "metadata": {},
   "outputs": [],
   "source": [
    "yearMask2 = (data.year >=1920) & ???"
   ]
  },
  {
   "cell_type": "code",
   "execution_count": null,
   "metadata": {},
   "outputs": [],
   "source": [
    "data[yearMask2].head(2)"
   ]
  },
  {
   "cell_type": "markdown",
   "metadata": {},
   "source": [
    "To select rows which contain text, we can use _string comparision_. For accessing all rows, which contain the text `hello`, we create a mask `cond = data[\"COLUMN\"].str.contains(\"hello\")` and apply it to the data as above. \n",
    "\n",
    "  - Select all rows, where the title contains the word _Krieg_, (German for _war_)\n",
    "  - BONUS: Select all rows where the title contains _Krieg_, which are published before 1924"
   ]
  },
  {
   "cell_type": "code",
   "execution_count": null,
   "metadata": {},
   "outputs": [],
   "source": [
    "text = 'test string'"
   ]
  },
  {
   "cell_type": "code",
   "execution_count": null,
   "metadata": {},
   "outputs": [],
   "source": [
    "['test' in text]"
   ]
  },
  {
   "cell_type": "code",
   "execution_count": null,
   "metadata": {},
   "outputs": [],
   "source": [
    "textMask = data.text.str.contains(???)"
   ]
  },
  {
   "cell_type": "code",
   "execution_count": null,
   "metadata": {},
   "outputs": [],
   "source": [
    "data[textMask]"
   ]
  },
  {
   "cell_type": "markdown",
   "metadata": {},
   "source": [
    "To test whether the text is correctly found, we can simply read the full text of a found work."
   ]
  },
  {
   "cell_type": "code",
   "execution_count": null,
   "metadata": {},
   "outputs": [],
   "source": [
    "data[textMask].text.iloc[2]"
   ]
  },
  {
   "cell_type": "markdown",
   "metadata": {},
   "source": [
    "## Sort data by publication years\n",
    "\n",
    "To group a dataset by a certain column, we can use pandas `.groupby` function. It returns a _generator_-like object containing tuples of sub-dataframes with the value of the grouped column, e.g. `1911,data_for_1911)`.\n",
    "\n",
    "To get a specific group, you can use `.get_group(VALUE)` on the resulting grouped object.  "
   ]
  },
  {
   "cell_type": "code",
   "execution_count": null,
   "metadata": {},
   "outputs": [],
   "source": [
    "grouped = data.groupby('year')"
   ]
  },
  {
   "cell_type": "markdown",
   "metadata": {},
   "source": [
    " - Select the group for the year 1917"
   ]
  },
  {
   "cell_type": "code",
   "execution_count": null,
   "metadata": {},
   "outputs": [],
   "source": [
    "grouped.get_group(???)"
   ]
  },
  {
   "cell_type": "markdown",
   "metadata": {},
   "source": [
    "For the size of each group (i.e. number of rows) we have the function `.size()`.\n",
    "  - Get a list of sizes for each year group"
   ]
  },
  {
   "cell_type": "code",
   "execution_count": null,
   "metadata": {},
   "outputs": [],
   "source": [
    "grouped.???"
   ]
  },
  {
   "cell_type": "markdown",
   "metadata": {},
   "source": [
    "## Plot resulting dataset\n",
    "\n",
    "Sometimes a plot gives a good overview over a dataset.\n",
    "\n",
    "For dataframes containing only numbers, its easy to generate graphs with pandas build-in functions `.plot()`. Bar charts can be obtained with `.plot.bar()`."
   ]
  },
  {
   "cell_type": "markdown",
   "metadata": {},
   "source": [
    "  - Generate a plot of the number of publications per year"
   ]
  },
  {
   "cell_type": "markdown",
   "metadata": {},
   "source": [
    " - Bonus: Generate a plot of the number of publications, which where published with the different pseudonyms of Tucholsky ('Wrobel', 'Hauser', 'Tiger', 'Panter') and compare them to the overall publication output and the publications published under his real name. Can you normalize the data for each year? "
   ]
  },
  {
   "cell_type": "code",
   "execution_count": null,
   "metadata": {},
   "outputs": [],
   "source": []
  }
 ],
 "metadata": {
  "kernelspec": {
   "display_name": "Python 3",
   "language": "python",
   "name": "python3"
  },
  "language_info": {
   "codemirror_mode": {
    "name": "ipython",
    "version": 3
   },
   "file_extension": ".py",
   "mimetype": "text/x-python",
   "name": "python",
   "nbconvert_exporter": "python",
   "pygments_lexer": "ipython3",
   "version": "3.8.5"
  }
 },
 "nbformat": 4,
 "nbformat_minor": 4
}