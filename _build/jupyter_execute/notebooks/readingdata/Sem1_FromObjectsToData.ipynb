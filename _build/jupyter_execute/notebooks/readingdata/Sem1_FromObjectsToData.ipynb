{
 "cells": [
  {
   "cell_type": "markdown",
   "metadata": {},
   "source": [
    "# From objects to data"
   ]
  },
  {
   "cell_type": "markdown",
   "metadata": {},
   "source": [
    "## OCR \n",
    "\n",
    "Using tesseract or Abby we can transform Images to machine-readable text files. Tesseract is OpenSource and useful tutorials can be found, see e.g. [here](https://medium.com/better-programming/beginners-guide-to-tesseract-ocr-using-python-10ecbb426c3d)."
   ]
  },
  {
   "cell_type": "markdown",
   "metadata": {},
   "source": [
    "## Grobid\n",
    "\n",
    "Grobid overs a pre-trained machine-learning model to separete PDFs with embedded OCR to structured text files in the TEI format. A test instance is available [here](http://cloud.science-miner.com/grobid/)."
   ]
  },
  {
   "cell_type": "markdown",
   "metadata": {},
   "source": [
    "## Reading TEI file\n",
    "\n",
    "Textual corpora are mostly encoded in TEI XML format. Collected works of Kurt Tucholsky can for example be found in [TextGrid](https://textgrid.de/digitale-bibliothek).\n",
    "\n",
    "Source:\n",
    "\n",
    "    TextGrid Repository (2012). Tucholsky, Kurt. Werke. Digitale Bibliothek. TextGrid. https://hdl.handle.net/11858/00-1734-0000-0005-61C5-B "
   ]
  },
  {
   "cell_type": "code",
   "execution_count": 1,
   "metadata": {},
   "outputs": [
    {
     "ename": "ModuleNotFoundError",
     "evalue": "No module named 'tqdm'",
     "output_type": "error",
     "traceback": [
      "\u001b[0;31m---------------------------------------------------------------------------\u001b[0m",
      "\u001b[0;31mModuleNotFoundError\u001b[0m                       Traceback (most recent call last)",
      "\u001b[0;32m<ipython-input-1-36418c5eb31e>\u001b[0m in \u001b[0;36m<module>\u001b[0;34m\u001b[0m\n\u001b[1;32m      2\u001b[0m \u001b[0;32mimport\u001b[0m \u001b[0mre\u001b[0m\u001b[0;34m\u001b[0m\u001b[0;34m\u001b[0m\u001b[0m\n\u001b[1;32m      3\u001b[0m \u001b[0;32mfrom\u001b[0m \u001b[0mmultiprocessing\u001b[0m \u001b[0;32mimport\u001b[0m \u001b[0mPool\u001b[0m\u001b[0;34m,\u001b[0m \u001b[0mcpu_count\u001b[0m\u001b[0;34m\u001b[0m\u001b[0;34m\u001b[0m\u001b[0m\n\u001b[0;32m----> 4\u001b[0;31m \u001b[0;32mfrom\u001b[0m \u001b[0mtqdm\u001b[0m \u001b[0;32mimport\u001b[0m \u001b[0mtqdm\u001b[0m\u001b[0;34m\u001b[0m\u001b[0;34m\u001b[0m\u001b[0m\n\u001b[0m\u001b[1;32m      5\u001b[0m \u001b[0;32mimport\u001b[0m \u001b[0mpandas\u001b[0m \u001b[0;32mas\u001b[0m \u001b[0mpd\u001b[0m\u001b[0;34m\u001b[0m\u001b[0;34m\u001b[0m\u001b[0m\n\u001b[1;32m      6\u001b[0m \u001b[0;32mfrom\u001b[0m \u001b[0mbs4\u001b[0m \u001b[0;32mimport\u001b[0m \u001b[0mBeautifulSoup\u001b[0m\u001b[0;34m\u001b[0m\u001b[0;34m\u001b[0m\u001b[0m\n",
      "\u001b[0;31mModuleNotFoundError\u001b[0m: No module named 'tqdm'"
     ]
    }
   ],
   "source": [
    "import os\n",
    "import re\n",
    "from multiprocessing import Pool, cpu_count\n",
    "from tqdm import tqdm\n",
    "import pandas as pd\n",
    "from bs4 import BeautifulSoup\n",
    "import xml.etree.ElementTree as etree"
   ]
  },
  {
   "cell_type": "code",
   "execution_count": 2,
   "metadata": {},
   "outputs": [],
   "source": [
    "fileList = os.listdir('../../data/tei/')"
   ]
  },
  {
   "cell_type": "markdown",
   "metadata": {},
   "source": [
    "### Reducing the structure\n",
    "\n",
    "Since we are not concerned with the finer textual structure, we simple read the full text of every identified text.\n",
    "\n",
    "First, we look at XML elements of the form _./tei:teiCorpus/tei:TEI_ and extract the title and publication year. \n",
    "Then, we open the file with BeatifulSoup to find _div_ elements which have the correct _textID_ and collect the fulltext from them. \n",
    "\n",
    "The resulting list contains all texts by Tucholsky which are available in this resource, their titles and publication years. \n",
    "Overall, we have around 1700 texts between 1917 and 1934."
   ]
  },
  {
   "cell_type": "code",
   "execution_count": 3,
   "metadata": {},
   "outputs": [],
   "source": [
    "def getText(path):\n",
    "    ##\n",
    "    ns = {'tei':\"http://www.tei-c.org/ns/1.0\",\"xml\":\"http://www.w3.org/XML/1998/namespace\"}\n",
    "    dateRegex = re.compile('(?<=/Literatur/M/Tucholsky, Kurt/Werke/)\\d{4}(?=/)')\n",
    "    titleRegex = re.compile('(?<=/Literatur/M/Tucholsky, Kurt/Werke/\\d{4}/).+')\n",
    "    basePath = '../../data/tei/'\n",
    "    ###\n",
    "    filePath = basePath + path\n",
    "    tempList = []\n",
    "    if os.path.isfile(filePath) and path.endswith('.xml'):\n",
    "        tree = etree.parse(filePath)\n",
    "        root = tree.getroot()\n",
    "        TEIs = root.findall(\"./tei:teiCorpus/tei:TEI\",ns)\n",
    "        for el in TEIs:\n",
    "            tempDict = {}\n",
    "            tempDict['ids'] = el.attrib[\"{http://www.w3.org/XML/1998/namespace}id\"]\n",
    "            tei_path = el.attrib['n']\n",
    "            tempDict['year'] = int(re.findall(dateRegex,tei_path)[0])\n",
    "            tempDict['title'] =  re.findall(titleRegex,tei_path)[0]\n",
    "            tempList.append(tempDict)\n",
    "        with open(filePath) as file:\n",
    "            soup = BeautifulSoup(file,'lxml')\n",
    "            for ids in tempList:\n",
    "                try:\n",
    "                    search = re.compile(ids['ids'].split('.')[0] + '+')\n",
    "                    elems = soup.findAll('div',{'xml:id':search})\n",
    "                    assert len(elems) == 1\n",
    "                    text = elems[0].getText()\n",
    "                    ids.update({'text':text})\n",
    "                except:\n",
    "                    print(ids)\n",
    "                    search = re.compile(ids['title'] + '+')\n",
    "                    elems = soup.findAll('div',{'n':search})\n",
    "                    textList = [x.getText() for x in elems]\n",
    "                    text = '\\n\\n\\n\\n'.join(textList)\n",
    "                    ids.update({'text':text})\n",
    "                    print('Found text for ids')\n",
    "    return tempList"
   ]
  },
  {
   "cell_type": "code",
   "execution_count": 4,
   "metadata": {},
   "outputs": [
    {
     "name": "stdout",
     "output_type": "stream",
     "text": [
      "{'ids': 'tg996.wncv.0', 'year': 1927, 'title': 'Ein Pyrenäenbuch'}\n",
      "{'ids': 'tg1603.wnfc.0', 'year': 1931, 'title': 'Schloß Gripsholm'}\n",
      "Found text for ids\n",
      "Found text for ids\n"
     ]
    }
   ],
   "source": [
    "pool = Pool(cpu_count() - 1)"
   ]
  },
  {
   "cell_type": "code",
   "execution_count": 5,
   "metadata": {},
   "outputs": [
    {
     "name": "stderr",
     "output_type": "stream",
     "text": [
      "  0%|          | 0/22 [00:00<?, ?it/s]"
     ]
    }
   ],
   "source": [
    "result = tqdm(pool.map(getText,fileList))"
   ]
  },
  {
   "cell_type": "code",
   "execution_count": 6,
   "metadata": {},
   "outputs": [
    {
     "name": "stderr",
     "output_type": "stream",
     "text": [
      "100%|██████████| 22/22 [00:00<00:00, 2314.39it/s]\n"
     ]
    }
   ],
   "source": [
    "flatt = [x for y in result for x in y]"
   ]
  },
  {
   "cell_type": "code",
   "execution_count": 7,
   "metadata": {},
   "outputs": [],
   "source": [
    "dfT = pd.DataFrame(flatt)"
   ]
  },
  {
   "cell_type": "code",
   "execution_count": 8,
   "metadata": {},
   "outputs": [
    {
     "data": {
      "text/html": [
       "<div>\n",
       "<style scoped>\n",
       "    .dataframe tbody tr th:only-of-type {\n",
       "        vertical-align: middle;\n",
       "    }\n",
       "\n",
       "    .dataframe tbody tr th {\n",
       "        vertical-align: top;\n",
       "    }\n",
       "\n",
       "    .dataframe thead th {\n",
       "        text-align: right;\n",
       "    }\n",
       "</style>\n",
       "<table border=\"1\" class=\"dataframe\">\n",
       "  <thead>\n",
       "    <tr style=\"text-align: right;\">\n",
       "      <th></th>\n",
       "      <th>ids</th>\n",
       "      <th>year</th>\n",
       "      <th>title</th>\n",
       "      <th>text</th>\n",
       "    </tr>\n",
       "  </thead>\n",
       "  <tbody>\n",
       "  </tbody>\n",
       "</table>\n",
       "</div>"
      ],
      "text/plain": [
       "Empty DataFrame\n",
       "Columns: [ids, year, title, text]\n",
       "Index: []"
      ]
     },
     "execution_count": 8,
     "metadata": {},
     "output_type": "execute_result"
    }
   ],
   "source": [
    "dfT[dfT.text.isna()]"
   ]
  },
  {
   "cell_type": "code",
   "execution_count": 11,
   "metadata": {},
   "outputs": [],
   "source": [
    "dfT.to_json('./data/df_tucholsky.json', orient='records', lines=True)"
   ]
  }
 ],
 "metadata": {
  "kernelspec": {
   "display_name": "Python 3",
   "language": "python",
   "name": "python3"
  },
  "language_info": {
   "codemirror_mode": {
    "name": "ipython",
    "version": 3
   },
   "file_extension": ".py",
   "mimetype": "text/x-python",
   "name": "python",
   "nbconvert_exporter": "python",
   "pygments_lexer": "ipython3",
   "version": "3.8.5"
  }
 },
 "nbformat": 4,
 "nbformat_minor": 4
}