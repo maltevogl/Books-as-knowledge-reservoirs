{
 "cells": [
  {
   "cell_type": "markdown",
   "metadata": {},
   "source": [
    "# Finding and counting words\n",
    "\n",
    "As allways some cells need to be edited to run this exercise. Mostly, these parts are marked by ???.\n",
    "\n",
    "As in the previous excercise, first load the data from the saved file."
   ]
  },
  {
   "cell_type": "code",
   "execution_count": null,
   "metadata": {},
   "outputs": [],
   "source": [
    "import re\n",
    "import pandas as pd"
   ]
  },
  {
   "cell_type": "code",
   "execution_count": null,
   "metadata": {},
   "outputs": [],
   "source": [
    "data = pd.read_json('../data/df_tucholsky.json',lines=True)"
   ]
  },
  {
   "cell_type": "markdown",
   "metadata": {},
   "source": [
    "For counting the number of words in each text, we can use different methods. \n",
    "\n",
    "For example, every text variable in Python has functionalities to work with it, e.g. `.split()`, .`strip()`, .`startswith()`"
   ]
  },
  {
   "cell_type": "markdown",
   "metadata": {},
   "source": [
    "We can text some functionalities by taking the first text from the dataframe."
   ]
  },
  {
   "cell_type": "code",
   "execution_count": null,
   "metadata": {},
   "outputs": [],
   "source": [
    "data.head(2)"
   ]
  },
  {
   "cell_type": "code",
   "execution_count": null,
   "metadata": {},
   "outputs": [],
   "source": [
    "text = data['text'].iloc[0]"
   ]
  },
  {
   "cell_type": "markdown",
   "metadata": {},
   "source": [
    "The text itself is returned by printing the current variable value"
   ]
  },
  {
   "cell_type": "code",
   "execution_count": null,
   "metadata": {},
   "outputs": [],
   "source": [
    "text"
   ]
  },
  {
   "cell_type": "markdown",
   "metadata": {},
   "source": [
    "If you want to have the text correctly formated, you need to `print()` it!"
   ]
  },
  {
   "cell_type": "code",
   "execution_count": null,
   "metadata": {},
   "outputs": [],
   "source": [
    "print(text)"
   ]
  },
  {
   "cell_type": "markdown",
   "metadata": {},
   "source": [
    "If we apply `.strip()` we remove whitespaces and newlines at the beginning and end of the text."
   ]
  },
  {
   "cell_type": "code",
   "execution_count": null,
   "metadata": {},
   "outputs": [],
   "source": [
    "newtext = text.strip()\n",
    "newtext"
   ]
  },
  {
   "cell_type": "markdown",
   "metadata": {},
   "source": [
    "The new text starts with the word _Der_ which can be checked with the function `.startswith()`."
   ]
  },
  {
   "cell_type": "code",
   "execution_count": null,
   "metadata": {},
   "outputs": [],
   "source": [
    "newtext.startswith('Der')"
   ]
  },
  {
   "cell_type": "markdown",
   "metadata": {},
   "source": [
    "  - Try to use `.endswith('WORD')` on the variable _newtext_, such that the function returns True. \n"
   ]
  },
  {
   "cell_type": "code",
   "execution_count": null,
   "metadata": {},
   "outputs": [],
   "source": [
    "newtext.endswith(???)"
   ]
  },
  {
   "cell_type": "markdown",
   "metadata": {},
   "source": [
    "## Counting words"
   ]
  },
  {
   "cell_type": "markdown",
   "metadata": {},
   "source": [
    "If we apply the function `.split()` the text will be split at each whitespace, which is the default. You can also apply any string value and the text will be split for example at each letter _e_ (`.split('e'))`"
   ]
  },
  {
   "cell_type": "code",
   "execution_count": null,
   "metadata": {},
   "outputs": [],
   "source": [
    "splitted = newtext.split()"
   ]
  },
  {
   "cell_type": "markdown",
   "metadata": {},
   "source": [
    "The return value of splitting is a list of the splitted elements. To get the number of list elements, you can use the `len()` command. "
   ]
  },
  {
   "cell_type": "code",
   "execution_count": null,
   "metadata": {},
   "outputs": [],
   "source": [
    "len(splitted)"
   ]
  },
  {
   "cell_type": "markdown",
   "metadata": {},
   "source": [
    "  - What happens if you split the text on newline characters? (`\"\\n\"`) "
   ]
  },
  {
   "cell_type": "markdown",
   "metadata": {},
   "source": [
    "Splitting at whitespaces is almost a word list of the text, but there are some symbols like hyphens and words are followed by dots or so."
   ]
  },
  {
   "cell_type": "code",
   "execution_count": null,
   "metadata": {},
   "outputs": [],
   "source": [
    "splitted"
   ]
  },
  {
   "cell_type": "markdown",
   "metadata": {},
   "source": [
    "### with Regular expressions "
   ]
  },
  {
   "cell_type": "markdown",
   "metadata": {},
   "source": [
    "If we build a wordlist or count based on this list, we will get wrong results. A slightly better way is using __regular expressions__, a formal way to talk about language."
   ]
  },
  {
   "cell_type": "markdown",
   "metadata": {},
   "source": [
    "The Python package `re` imported in the first line, is dealing with regular expressions.\n",
    "\n",
    "To find regular expressions, we use `re.findall(EXPRESSION, TEXT)`."
   ]
  },
  {
   "cell_type": "markdown",
   "metadata": {},
   "source": [
    "The expression `[A-Z]` matches all capital letter. Adding a plus `[A-Z]+` matches strings of one or more capital letters. If you want to match a certain number of capital letters, you can add curly brackets with the needed numbers `{2,4}` (between two and four), `{3}` (exactly three) or `{2,}` (two or more)."
   ]
  },
  {
   "cell_type": "markdown",
   "metadata": {},
   "source": [
    " - Use regular expressions to find all capital letters\n",
    " - Are there also two capital letters together? \n",
    " - Use the parameter `\\d` to find exactly four digits. What number is this?\n",
    " - BONUS: Find an expression to match a date? (e.g. 12.06.2020)\n",
    " - BONUS: Can you create an expression to find the publishing metadata of `Die Weltbühne` (which issue, page)? "
   ]
  },
  {
   "cell_type": "markdown",
   "metadata": {},
   "source": [
    "Combining capital and small letters with a plus finds a number of word-like objects, but some special characters of German are lost (e.g. _ß_). As a shortcut, one can use `\\w` to find all alpha-numeric characters."
   ]
  },
  {
   "cell_type": "code",
   "execution_count": null,
   "metadata": {},
   "outputs": [],
   "source": [
    "#re.findall('[A-Z]..\\s[A-z]',text)"
   ]
  },
  {
   "cell_type": "markdown",
   "metadata": {},
   "source": [
    "To find the number of all words in every text, we need to write a small function in Python.\n",
    "\n",
    "A function always has the form \n",
    "\n",
    "```python\n",
    "def NAME(INPUT):\n",
    "    var = FUNCTION(INPUT)\n",
    "    return var\n",
    "```\n",
    "\n",
    "In our case, the input is a text and the returned variable should be the length of the list of words.\n",
    "\n",
    "  - Write the function with `re.findall()`, the input variable _text_ and outputing the len of the word list"
   ]
  },
  {
   "cell_type": "code",
   "execution_count": null,
   "metadata": {},
   "outputs": [],
   "source": [
    "def wordNumber(text):\n",
    "    var = len(re.findall(???,text))\n",
    "    return var"
   ]
  },
  {
   "cell_type": "markdown",
   "metadata": {},
   "source": [
    "The new function can be applied to the data by using the `.apply()` function of dataframes."
   ]
  },
  {
   "cell_type": "code",
   "execution_count": null,
   "metadata": {},
   "outputs": [],
   "source": [
    "newdata = data.text.apply(lambda x: wordNumber(x))"
   ]
  },
  {
   "cell_type": "markdown",
   "metadata": {},
   "source": [
    "This automatically applies the function to every row of the dataframe. To save the information in the dataframe, create a new column."
   ]
  },
  {
   "cell_type": "code",
   "execution_count": null,
   "metadata": {},
   "outputs": [],
   "source": [
    "data['wordCount'] = newdata "
   ]
  },
  {
   "cell_type": "markdown",
   "metadata": {},
   "source": [
    "If you want to check you result, uncomment the cell below (i.e. remove the hash sign)."
   ]
  },
  {
   "cell_type": "code",
   "execution_count": null,
   "metadata": {},
   "outputs": [],
   "source": [
    "#data.wordCount"
   ]
  },
  {
   "cell_type": "markdown",
   "metadata": {},
   "source": [
    "## Count unique words"
   ]
  },
  {
   "cell_type": "markdown",
   "metadata": {},
   "source": [
    "To get an overview of the used words in each text, we can use the `Counter` function from the in-built _collections_ package"
   ]
  },
  {
   "cell_type": "code",
   "execution_count": null,
   "metadata": {},
   "outputs": [],
   "source": [
    "from collections import Counter"
   ]
  },
  {
   "cell_type": "markdown",
   "metadata": {},
   "source": [
    "Counting the words of one text is simply done by"
   ]
  },
  {
   "cell_type": "code",
   "execution_count": null,
   "metadata": {},
   "outputs": [],
   "source": [
    "allwords = re.findall('\\w+',text)\n",
    "Counter(allwords)"
   ]
  },
  {
   "cell_type": "markdown",
   "metadata": {},
   "source": [
    "  - Write a function to return the list of counted words for each text.\n",
    "  - Bonus: Try to _normalize_ the counts by the number of words in the text. \n",
    "  - Bonus: Return the counted words ordered by the highest count. _Hint_: Try the most_common() method of the returned Counter object."
   ]
  },
  {
   "cell_type": "markdown",
   "metadata": {},
   "source": [
    "## Plotting the output of Tucholsky\n",
    "\n",
    "Using the plotting functionality of Pandas introduced in Excercise 1, we can create an overview of Tucholsky's \"productivity\" over the years.\n",
    "\n",
    "  - Frist, create a sub-dataframe by selecting the columns for year and wordcount by making a list of the column names `cols = [\"year\",\"wordCount\"]`\n",
    "  - Second, group the sub-dataframe by the `year` column\n",
    "  - Third, calculate the `.mean()`\n",
    "  - Then, plot the yearly as a bar graph by using `.plot.bar()`\n",
    "  "
   ]
  },
  {
   "cell_type": "markdown",
   "metadata": {},
   "source": [
    "Define the columns"
   ]
  },
  {
   "cell_type": "code",
   "execution_count": null,
   "metadata": {},
   "outputs": [],
   "source": [
    "#cols ="
   ]
  },
  {
   "cell_type": "markdown",
   "metadata": {},
   "source": [
    "Select the sub-dataframe."
   ]
  },
  {
   "cell_type": "code",
   "execution_count": null,
   "metadata": {},
   "outputs": [],
   "source": [
    "#subdata = data[cols]"
   ]
  },
  {
   "cell_type": "markdown",
   "metadata": {},
   "source": [
    "Group the dataframe by years"
   ]
  },
  {
   "cell_type": "code",
   "execution_count": null,
   "metadata": {},
   "outputs": [],
   "source": [
    "#grouped = "
   ]
  },
  {
   "cell_type": "markdown",
   "metadata": {},
   "source": [
    "Calculate the mean number of words for each year"
   ]
  },
  {
   "cell_type": "code",
   "execution_count": null,
   "metadata": {},
   "outputs": [],
   "source": [
    "#mean = grouped"
   ]
  },
  {
   "cell_type": "markdown",
   "metadata": {},
   "source": [
    "Plot the data as a bar graph"
   ]
  },
  {
   "cell_type": "code",
   "execution_count": null,
   "metadata": {},
   "outputs": [],
   "source": [
    "#mean"
   ]
  },
  {
   "cell_type": "markdown",
   "metadata": {},
   "source": [
    "## Save extended data to new file"
   ]
  },
  {
   "cell_type": "code",
   "execution_count": null,
   "metadata": {},
   "outputs": [],
   "source": [
    "#data.to_json('PATH_TO_NEW_FILE','tucholsky_meta')"
   ]
  },
  {
   "cell_type": "code",
   "execution_count": null,
   "metadata": {},
   "outputs": [],
   "source": []
  }
 ],
 "metadata": {
  "kernelspec": {
   "display_name": "Python 3",
   "language": "python",
   "name": "python3"
  },
  "language_info": {
   "codemirror_mode": {
    "name": "ipython",
    "version": 3
   },
   "file_extension": ".py",
   "mimetype": "text/x-python",
   "name": "python",
   "nbconvert_exporter": "python",
   "pygments_lexer": "ipython3",
   "version": "3.8.5"
  }
 },
 "nbformat": 4,
 "nbformat_minor": 4
}