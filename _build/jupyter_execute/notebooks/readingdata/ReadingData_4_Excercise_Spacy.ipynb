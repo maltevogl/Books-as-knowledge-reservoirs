{
 "cells": [
  {
   "cell_type": "markdown",
   "metadata": {},
   "source": [
    "# Using Spacy for POS tagging\n",
    "\n",
    "Many NLP tools use machine learning in the backend. This is the case for NLTK and also for Grobid, the tool that converted OCR text to TEI. [Delft](https://github.com/kermitt2/delft) is the ml framework behind Grobid and it uses pre-trainend _word embeddings_ (later!) to create models for tagging and other tasks. Tagged data from external sources e.g. using the Doccano software, can be used to train a _Tucholsky tagger_.\n",
    "\n",
    "## Some ML basics\n",
    "\n",
    "For training a ml model, we need (large) datasets. Usually a dataset is split in 80/20 % sets, where 80%  are used for training and 20% for testing the resulting model. During this _\"learning\"_ procedure the f1 score is used to monitor progress. It describes the mean of precision and recall, where _precision_ is the number of correct positives vs all returned positives and _recall_ is the number of correct positives vs all possible correct positives. This is a similar concept as the so called _confusion matrix_. \n",
    "\n",
    "## What is Spacy ? \n",
    "\n",
    "[Spacy](https://spacy.io) is slighlty more modern than NLTK. It includes pre-trained models for other languages then english (e.g. [German](https://spacy.io/models/de)) and has lots of functionality to interlink with other Python AI software. Another nice thing are the in-build functions for visualization.What"
   ]
  },
  {
   "cell_type": "markdown",
   "metadata": {},
   "source": [
    "## Using Spacy\n",
    "\n",
    "As previously, there is a cell to be edited!"
   ]
  },
  {
   "cell_type": "code",
   "execution_count": null,
   "metadata": {},
   "outputs": [],
   "source": [
    "import spacy\n",
    "from spacy import displacy\n",
    "import pandas as pd"
   ]
  },
  {
   "cell_type": "code",
   "execution_count": null,
   "metadata": {},
   "outputs": [],
   "source": [
    "data = pd.read_json('../data/df_tucholsky.json', lines=True)"
   ]
  },
  {
   "cell_type": "markdown",
   "metadata": {},
   "source": [
    "Sort entries by publishing date."
   ]
  },
  {
   "cell_type": "code",
   "execution_count": null,
   "metadata": {},
   "outputs": [],
   "source": [
    "data = data.sort_values('year') "
   ]
  },
  {
   "cell_type": "code",
   "execution_count": null,
   "metadata": {},
   "outputs": [],
   "source": [
    "data.head(4)"
   ]
  },
  {
   "cell_type": "markdown",
   "metadata": {},
   "source": [
    "The spacy model has to be loaded depending on the language. For Tucholsky we try _de_core_news_md_, which is a medium sized model, trained on two german corpora.\n",
    "\n",
    "  - Tiger corpus: https://www.ims.uni-stuttgart.de/forschung/ressourcen/korpora/tiger/\n",
    "  - WikiNER: https://figshare.com/articles/Learning_multilingual_named_entity_recognition_from_Wikipedia/5462500\n",
    "  \n",
    "Note, that both are trained on modern german language!\n",
    "\n",
    "This might take some time, up to a minute or more.\n",
    "\n",
    "To download the language model, remove the hash from the following cell. Sometimes, the kernel needs to be restarted after you have finished downloading the model."
   ]
  },
  {
   "cell_type": "code",
   "execution_count": null,
   "metadata": {},
   "outputs": [],
   "source": [
    "# ! python -m spacy download de_core_news_sm"
   ]
  },
  {
   "cell_type": "code",
   "execution_count": null,
   "metadata": {},
   "outputs": [],
   "source": [
    "nlp = spacy.load(\"de_core_news_sm\")"
   ]
  },
  {
   "cell_type": "markdown",
   "metadata": {},
   "source": [
    "In Spacy all characteristics of a text are represented in `doc` models. By default, a large number of these are created in _spacy pipelines_ automatically. We can create such a doc instance by passing the text into the `nlp` instance.\n",
    "\n",
    "  - Chose a text by accessing a row number in the text column\n",
    "  - Use a small text to speed-up calculation time"
   ]
  },
  {
   "cell_type": "code",
   "execution_count": null,
   "metadata": {},
   "outputs": [],
   "source": [
    "text = data.text.iloc[???]\n",
    "len(text)"
   ]
  },
  {
   "cell_type": "code",
   "execution_count": null,
   "metadata": {},
   "outputs": [],
   "source": [
    "doc = nlp(text)"
   ]
  },
  {
   "cell_type": "markdown",
   "metadata": {},
   "source": [
    "A document contains the text and its tokens. Tokens have different sub-methods to access e.g. the lemma, the POS tag or recognized entities. "
   ]
  },
  {
   "cell_type": "markdown",
   "metadata": {},
   "source": [
    "We first access the token tags by using"
   ]
  },
  {
   "cell_type": "code",
   "execution_count": null,
   "metadata": {},
   "outputs": [],
   "source": [
    "for token in doc[:20]:\n",
    "    print(token.text, token.lemma_, token.pos_, token.tag_)"
   ]
  },
  {
   "cell_type": "markdown",
   "metadata": {},
   "source": [
    "A build-in visualization functions `displacy.render()` allows for example to display the relations between the tokens. Note, that such plots are build for single sentences and become quite large."
   ]
  },
  {
   "cell_type": "code",
   "execution_count": null,
   "metadata": {},
   "outputs": [],
   "source": [
    "displacy.render(doc[:20], style=\"dep\")"
   ]
  },
  {
   "cell_type": "markdown",
   "metadata": {},
   "source": [
    "The loaded german model is only capable of tagging a small set of entities (_Persons_, _Locations_, _Organizations_, and _Misc_). These entites can be accessed as follows"
   ]
  },
  {
   "cell_type": "code",
   "execution_count": null,
   "metadata": {},
   "outputs": [],
   "source": [
    "for ent in doc.ents:\n",
    "    print(ent.text, ent.start_char, ent.end_char, ent.label_)"
   ]
  },
  {
   "cell_type": "markdown",
   "metadata": {},
   "source": [
    "Similar to the Doccano format, results for entities contain the text, start and stop character and the label. Using the visualization capabilities gives a similar picture to the Doccano tagging. As visible, the accuracy is pretty low. Similar excercises for english texts give much better results, since there are models available trained on much larger corpora."
   ]
  },
  {
   "cell_type": "code",
   "execution_count": null,
   "metadata": {},
   "outputs": [],
   "source": [
    "displacy.render(doc, style=\"ent\")"
   ]
  },
  {
   "cell_type": "code",
   "execution_count": null,
   "metadata": {},
   "outputs": [],
   "source": []
  }
 ],
 "metadata": {
  "kernelspec": {
   "display_name": "Python 3",
   "language": "python",
   "name": "python3"
  },
  "language_info": {
   "codemirror_mode": {
    "name": "ipython",
    "version": 3
   },
   "file_extension": ".py",
   "mimetype": "text/x-python",
   "name": "python",
   "nbconvert_exporter": "python",
   "pygments_lexer": "ipython3",
   "version": "3.8.5"
  }
 },
 "nbformat": 4,
 "nbformat_minor": 4
}