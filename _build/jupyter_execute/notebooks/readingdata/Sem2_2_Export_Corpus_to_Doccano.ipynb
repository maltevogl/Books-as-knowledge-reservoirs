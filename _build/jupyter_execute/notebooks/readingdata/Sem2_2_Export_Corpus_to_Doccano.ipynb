{
 "cells": [
  {
   "cell_type": "code",
   "execution_count": null,
   "metadata": {},
   "outputs": [],
   "source": []
  },
  {
   "cell_type": "code",
   "execution_count": 1,
   "metadata": {},
   "outputs": [],
   "source": [
    "import re\n",
    "import pandas as pd"
   ]
  },
  {
   "cell_type": "code",
   "execution_count": 2,
   "metadata": {},
   "outputs": [
    {
     "ename": "FileNotFoundError",
     "evalue": "File ./data/df_tucholsky_meta.hd5 does not exist",
     "output_type": "error",
     "traceback": [
      "\u001b[0;31m---------------------------------------------------------------------------\u001b[0m",
      "\u001b[0;31mFileNotFoundError\u001b[0m                         Traceback (most recent call last)",
      "\u001b[0;32m<ipython-input-2-cde01fc63bf2>\u001b[0m in \u001b[0;36m<module>\u001b[0;34m\u001b[0m\n\u001b[0;32m----> 1\u001b[0;31m \u001b[0mdfT\u001b[0m \u001b[0;34m=\u001b[0m \u001b[0mpd\u001b[0m\u001b[0;34m.\u001b[0m\u001b[0mread_hdf\u001b[0m\u001b[0;34m(\u001b[0m\u001b[0;34m'./data/df_tucholsky_meta.hd5'\u001b[0m\u001b[0;34m)\u001b[0m\u001b[0;34m\u001b[0m\u001b[0;34m\u001b[0m\u001b[0m\n\u001b[0m",
      "\u001b[0;32m~/Dokumente/GMPG/jupyterbook/env/lib/python3.8/site-packages/pandas/io/pytables.py\u001b[0m in \u001b[0;36mread_hdf\u001b[0;34m(path_or_buf, key, mode, errors, where, start, stop, columns, iterator, chunksize, **kwargs)\u001b[0m\n\u001b[1;32m    385\u001b[0m \u001b[0;34m\u001b[0m\u001b[0m\n\u001b[1;32m    386\u001b[0m         \u001b[0;32mif\u001b[0m \u001b[0;32mnot\u001b[0m \u001b[0mexists\u001b[0m\u001b[0;34m:\u001b[0m\u001b[0;34m\u001b[0m\u001b[0;34m\u001b[0m\u001b[0m\n\u001b[0;32m--> 387\u001b[0;31m             \u001b[0;32mraise\u001b[0m \u001b[0mFileNotFoundError\u001b[0m\u001b[0;34m(\u001b[0m\u001b[0;34mf\"File {path_or_buf} does not exist\"\u001b[0m\u001b[0;34m)\u001b[0m\u001b[0;34m\u001b[0m\u001b[0;34m\u001b[0m\u001b[0m\n\u001b[0m\u001b[1;32m    388\u001b[0m \u001b[0;34m\u001b[0m\u001b[0m\n\u001b[1;32m    389\u001b[0m         \u001b[0mstore\u001b[0m \u001b[0;34m=\u001b[0m \u001b[0mHDFStore\u001b[0m\u001b[0;34m(\u001b[0m\u001b[0mpath_or_buf\u001b[0m\u001b[0;34m,\u001b[0m \u001b[0mmode\u001b[0m\u001b[0;34m=\u001b[0m\u001b[0mmode\u001b[0m\u001b[0;34m,\u001b[0m \u001b[0merrors\u001b[0m\u001b[0;34m=\u001b[0m\u001b[0merrors\u001b[0m\u001b[0;34m,\u001b[0m \u001b[0;34m**\u001b[0m\u001b[0mkwargs\u001b[0m\u001b[0;34m)\u001b[0m\u001b[0;34m\u001b[0m\u001b[0;34m\u001b[0m\u001b[0m\n",
      "\u001b[0;31mFileNotFoundError\u001b[0m: File ./data/df_tucholsky_meta.hd5 does not exist"
     ]
    }
   ],
   "source": [
    "dfT = pd.read_hdf('./data/df_tucholsky_meta.hd5')"
   ]
  },
  {
   "cell_type": "markdown",
   "metadata": {},
   "source": [
    "## Export text to Doccano format\n"
   ]
  },
  {
   "cell_type": "code",
   "execution_count": 3,
   "metadata": {},
   "outputs": [],
   "source": [
    "dfPart = dfT.copy()# dfT[dfT.year == 1917]"
   ]
  },
  {
   "cell_type": "code",
   "execution_count": 4,
   "metadata": {},
   "outputs": [],
   "source": [
    "def createMeta(row):\n",
    "    cols = ['ids','year','title','textLength']\n",
    "    return {x:row[x] for x in cols}"
   ]
  },
  {
   "cell_type": "code",
   "execution_count": 5,
   "metadata": {},
   "outputs": [],
   "source": [
    "meta =  dfPart.apply(lambda row: createMeta(row),axis=1)\n",
    "labels = dfPart.text.apply(lambda x: [])"
   ]
  },
  {
   "cell_type": "code",
   "execution_count": 6,
   "metadata": {},
   "outputs": [],
   "source": [
    "dfPart.insert(1,'meta',meta)\n",
    "dfPart.insert(2,'labels',labels)"
   ]
  },
  {
   "cell_type": "code",
   "execution_count": 7,
   "metadata": {},
   "outputs": [
    {
     "data": {
      "text/html": [
       "<div>\n",
       "<style scoped>\n",
       "    .dataframe tbody tr th:only-of-type {\n",
       "        vertical-align: middle;\n",
       "    }\n",
       "\n",
       "    .dataframe tbody tr th {\n",
       "        vertical-align: top;\n",
       "    }\n",
       "\n",
       "    .dataframe thead th {\n",
       "        text-align: right;\n",
       "    }\n",
       "</style>\n",
       "<table border=\"1\" class=\"dataframe\">\n",
       "  <thead>\n",
       "    <tr style=\"text-align: right;\">\n",
       "      <th></th>\n",
       "      <th>ids</th>\n",
       "      <th>meta</th>\n",
       "      <th>labels</th>\n",
       "      <th>year</th>\n",
       "      <th>title</th>\n",
       "      <th>text</th>\n",
       "      <th>textLength</th>\n",
       "      <th>wordOccurance</th>\n",
       "    </tr>\n",
       "  </thead>\n",
       "  <tbody>\n",
       "    <tr>\n",
       "      <th>0</th>\n",
       "      <td>tg1736.wmbd.0</td>\n",
       "      <td>{'ids': 'tg1736.wmbd.0', 'year': 1932, 'title'...</td>\n",
       "      <td>[]</td>\n",
       "      <td>1932</td>\n",
       "      <td>Der Floh</td>\n",
       "      <td>\\n\\n                              Der Floh\\n\\n...</td>\n",
       "      <td>214</td>\n",
       "      <td>{'und': 0.037383177570093455, 'in': 0.02336448...</td>\n",
       "    </tr>\n",
       "    <tr>\n",
       "      <th>1</th>\n",
       "      <td>tg1737.wg20.0</td>\n",
       "      <td>{'ids': 'tg1737.wg20.0', 'year': 1932, 'title'...</td>\n",
       "      <td>[]</td>\n",
       "      <td>1932</td>\n",
       "      <td>Das Lied von der Gleichgültigkeit</td>\n",
       "      <td>\\n\\n                              Das Lied von...</td>\n",
       "      <td>236</td>\n",
       "      <td>{'der': 0.07203389830508475, 'mit': 0.07203389...</td>\n",
       "    </tr>\n",
       "  </tbody>\n",
       "</table>\n",
       "</div>"
      ],
      "text/plain": [
       "             ids                                               meta labels  \\\n",
       "0  tg1736.wmbd.0  {'ids': 'tg1736.wmbd.0', 'year': 1932, 'title'...     []   \n",
       "1  tg1737.wg20.0  {'ids': 'tg1737.wg20.0', 'year': 1932, 'title'...     []   \n",
       "\n",
       "   year                              title  \\\n",
       "0  1932                           Der Floh   \n",
       "1  1932  Das Lied von der Gleichgültigkeit   \n",
       "\n",
       "                                                text  textLength  \\\n",
       "0  \\n\\n                              Der Floh\\n\\n...         214   \n",
       "1  \\n\\n                              Das Lied von...         236   \n",
       "\n",
       "                                       wordOccurance  \n",
       "0  {'und': 0.037383177570093455, 'in': 0.02336448...  \n",
       "1  {'der': 0.07203389830508475, 'mit': 0.07203389...  "
      ]
     },
     "execution_count": 7,
     "metadata": {},
     "output_type": "execute_result"
    }
   ],
   "source": [
    "dfPart.head(2)"
   ]
  },
  {
   "cell_type": "code",
   "execution_count": 8,
   "metadata": {},
   "outputs": [],
   "source": [
    "dfPart = dfPart.drop(['year','ids','title','wordOccurance'],axis=1)"
   ]
  },
  {
   "cell_type": "markdown",
   "metadata": {},
   "source": [
    "Select only those texts, which contain the german word for war `Krieg`"
   ]
  },
  {
   "cell_type": "code",
   "execution_count": 9,
   "metadata": {},
   "outputs": [],
   "source": [
    "dfWar = dfPart[dfPart.text.str.contains('\\sKrieg\\s')]"
   ]
  },
  {
   "cell_type": "code",
   "execution_count": 10,
   "metadata": {},
   "outputs": [
    {
     "data": {
      "text/plain": [
       "(230, 4)"
      ]
     },
     "execution_count": 10,
     "metadata": {},
     "output_type": "execute_result"
    }
   ],
   "source": [
    "dfWar.shape"
   ]
  },
  {
   "cell_type": "markdown",
   "metadata": {},
   "source": [
    "Export this dataset to JSON line format. "
   ]
  },
  {
   "cell_type": "code",
   "execution_count": 13,
   "metadata": {},
   "outputs": [],
   "source": [
    "dataLAbels = pd.read_json('./data/doccano_corpus.json1',lines=True)"
   ]
  },
  {
   "cell_type": "code",
   "execution_count": 11,
   "metadata": {},
   "outputs": [],
   "source": [
    "dfWar.to_json('./data/warCorpusTucholsky.jsonl',orient='records',lines=True)\n"
   ]
  },
  {
   "cell_type": "code",
   "execution_count": 24,
   "metadata": {},
   "outputs": [
    {
     "data": {
      "text/html": [
       "<div>\n",
       "<style scoped>\n",
       "    .dataframe tbody tr th:only-of-type {\n",
       "        vertical-align: middle;\n",
       "    }\n",
       "\n",
       "    .dataframe tbody tr th {\n",
       "        vertical-align: top;\n",
       "    }\n",
       "\n",
       "    .dataframe thead th {\n",
       "        text-align: right;\n",
       "    }\n",
       "</style>\n",
       "<table border=\"1\" class=\"dataframe\">\n",
       "  <thead>\n",
       "    <tr style=\"text-align: right;\">\n",
       "      <th></th>\n",
       "      <th>meta</th>\n",
       "      <th>labels</th>\n",
       "      <th>text</th>\n",
       "      <th>textLength</th>\n",
       "    </tr>\n",
       "  </thead>\n",
       "  <tbody>\n",
       "    <tr>\n",
       "      <th>2</th>\n",
       "      <td>{'ids': 'tg1738.wjbn.0', 'year': 1932, 'title'...</td>\n",
       "      <td>[[188, 206, Title of piece of art], [146, 160,...</td>\n",
       "      <td>\\n\\n                              Fräulein Nie...</td>\n",
       "      <td>2470</td>\n",
       "    </tr>\n",
       "    <tr>\n",
       "      <th>11</th>\n",
       "      <td>{'ids': 'tg1747.wjgv.0', 'year': 1932, 'title'...</td>\n",
       "      <td>[]</td>\n",
       "      <td>\\n\\n                              Brief meines...</td>\n",
       "      <td>281</td>\n",
       "    </tr>\n",
       "    <tr>\n",
       "      <th>16</th>\n",
       "      <td>{'ids': 'tg1752.wmxv.0', 'year': 1932, 'title'...</td>\n",
       "      <td>[]</td>\n",
       "      <td>\\n\\n                              Recht muß Re...</td>\n",
       "      <td>262</td>\n",
       "    </tr>\n",
       "    <tr>\n",
       "      <th>17</th>\n",
       "      <td>{'ids': 'tg1753.wm6v.0', 'year': 1932, 'title'...</td>\n",
       "      <td>[]</td>\n",
       "      <td>\\n\\n                              Auf dem Nach...</td>\n",
       "      <td>2364</td>\n",
       "    </tr>\n",
       "    <tr>\n",
       "      <th>36</th>\n",
       "      <td>{'ids': 'tg1772.wn13.0', 'year': 1932, 'title'...</td>\n",
       "      <td>[]</td>\n",
       "      <td>\\n\\n                              Krieg gleich...</td>\n",
       "      <td>761</td>\n",
       "    </tr>\n",
       "    <tr>\n",
       "      <th>...</th>\n",
       "      <td>...</td>\n",
       "      <td>...</td>\n",
       "      <td>...</td>\n",
       "      <td>...</td>\n",
       "    </tr>\n",
       "    <tr>\n",
       "      <th>1625</th>\n",
       "      <td>{'ids': 'tg1421.wh2b.0', 'year': 1929, 'title'...</td>\n",
       "      <td>[]</td>\n",
       "      <td>\\n\\n                              Hat Mynona w...</td>\n",
       "      <td>1822</td>\n",
       "    </tr>\n",
       "    <tr>\n",
       "      <th>1662</th>\n",
       "      <td>{'ids': 'tg623.wgr6.0', 'year': 1923, 'title':...</td>\n",
       "      <td>[]</td>\n",
       "      <td>\\n\\n                              »Das will ke...</td>\n",
       "      <td>761</td>\n",
       "    </tr>\n",
       "    <tr>\n",
       "      <th>1683</th>\n",
       "      <td>{'ids': 'tg27.wmpq.0', 'year': 1913, 'title': ...</td>\n",
       "      <td>[]</td>\n",
       "      <td>\\n\\n                              An Arno Holz...</td>\n",
       "      <td>806</td>\n",
       "    </tr>\n",
       "    <tr>\n",
       "      <th>1726</th>\n",
       "      <td>{'ids': 'tg145.wk8j.0', 'year': 1917, 'title':...</td>\n",
       "      <td>[]</td>\n",
       "      <td>\\n\\n                              Die Sekt-Eul...</td>\n",
       "      <td>557</td>\n",
       "    </tr>\n",
       "    <tr>\n",
       "      <th>1734</th>\n",
       "      <td>{'ids': 'tg153.whfg.0', 'year': 1917, 'title':...</td>\n",
       "      <td>[]</td>\n",
       "      <td>\\n\\n                              Unterwegs 19...</td>\n",
       "      <td>2501</td>\n",
       "    </tr>\n",
       "  </tbody>\n",
       "</table>\n",
       "<p>214 rows × 4 columns</p>\n",
       "</div>"
      ],
      "text/plain": [
       "                                                   meta  \\\n",
       "2     {'ids': 'tg1738.wjbn.0', 'year': 1932, 'title'...   \n",
       "11    {'ids': 'tg1747.wjgv.0', 'year': 1932, 'title'...   \n",
       "16    {'ids': 'tg1752.wmxv.0', 'year': 1932, 'title'...   \n",
       "17    {'ids': 'tg1753.wm6v.0', 'year': 1932, 'title'...   \n",
       "36    {'ids': 'tg1772.wn13.0', 'year': 1932, 'title'...   \n",
       "...                                                 ...   \n",
       "1625  {'ids': 'tg1421.wh2b.0', 'year': 1929, 'title'...   \n",
       "1662  {'ids': 'tg623.wgr6.0', 'year': 1923, 'title':...   \n",
       "1683  {'ids': 'tg27.wmpq.0', 'year': 1913, 'title': ...   \n",
       "1726  {'ids': 'tg145.wk8j.0', 'year': 1917, 'title':...   \n",
       "1734  {'ids': 'tg153.whfg.0', 'year': 1917, 'title':...   \n",
       "\n",
       "                                                 labels  \\\n",
       "2     [[188, 206, Title of piece of art], [146, 160,...   \n",
       "11                                                   []   \n",
       "16                                                   []   \n",
       "17                                                   []   \n",
       "36                                                   []   \n",
       "...                                                 ...   \n",
       "1625                                                 []   \n",
       "1662                                                 []   \n",
       "1683                                                 []   \n",
       "1726                                                 []   \n",
       "1734                                                 []   \n",
       "\n",
       "                                                   text  textLength  \n",
       "2     \\n\\n                              Fräulein Nie...        2470  \n",
       "11    \\n\\n                              Brief meines...         281  \n",
       "16    \\n\\n                              Recht muß Re...         262  \n",
       "17    \\n\\n                              Auf dem Nach...        2364  \n",
       "36    \\n\\n                              Krieg gleich...         761  \n",
       "...                                                 ...         ...  \n",
       "1625  \\n\\n                              Hat Mynona w...        1822  \n",
       "1662  \\n\\n                              »Das will ke...         761  \n",
       "1683  \\n\\n                              An Arno Holz...         806  \n",
       "1726  \\n\\n                              Die Sekt-Eul...         557  \n",
       "1734  \\n\\n                              Unterwegs 19...        2501  \n",
       "\n",
       "[214 rows x 4 columns]"
      ]
     },
     "execution_count": 24,
     "metadata": {},
     "output_type": "execute_result"
    }
   ],
   "source": [
    "dfWar[dfWar.textLength < 3000]"
   ]
  },
  {
   "cell_type": "code",
   "execution_count": 16,
   "metadata": {},
   "outputs": [
    {
     "name": "stderr",
     "output_type": "stream",
     "text": [
      "/home/mvogl/Dokumente/GMPG/Lehre/Books-as-knowledge-reservoirs/env/lib/python3.7/site-packages/pandas/core/indexing.py:671: SettingWithCopyWarning: \n",
      "A value is trying to be set on a copy of a slice from a DataFrame\n",
      "\n",
      "See the caveats in the documentation: https://pandas.pydata.org/pandas-docs/stable/user_guide/indexing.html#returning-a-view-versus-a-copy\n",
      "  self._setitem_with_indexer(indexer, value)\n",
      "/home/mvogl/Dokumente/GMPG/Lehre/Books-as-knowledge-reservoirs/env/lib/python3.7/site-packages/ipykernel_launcher.py:1: SettingWithCopyWarning: \n",
      "A value is trying to be set on a copy of a slice from a DataFrame\n",
      "\n",
      "See the caveats in the documentation: https://pandas.pydata.org/pandas-docs/stable/user_guide/indexing.html#returning-a-view-versus-a-copy\n",
      "  \"\"\"Entry point for launching an IPython kernel.\n"
     ]
    }
   ],
   "source": [
    "dfWar.labels.iloc[0] = dataLAbels.labels.iloc[0]"
   ]
  },
  {
   "cell_type": "code",
   "execution_count": 26,
   "metadata": {},
   "outputs": [],
   "source": [
    "dfWar[dfWar.textLength < 3000][:100].to_json('./data/warCorpusTucholsky.jsonl',orient='records',lines=True)"
   ]
  },
  {
   "cell_type": "code",
   "execution_count": null,
   "metadata": {},
   "outputs": [],
   "source": []
  }
 ],
 "metadata": {
  "kernelspec": {
   "display_name": "Python 3",
   "language": "python",
   "name": "python3"
  },
  "language_info": {
   "codemirror_mode": {
    "name": "ipython",
    "version": 3
   },
   "file_extension": ".py",
   "mimetype": "text/x-python",
   "name": "python",
   "nbconvert_exporter": "python",
   "pygments_lexer": "ipython3",
   "version": "3.8.5"
  }
 },
 "nbformat": 4,
 "nbformat_minor": 4
}