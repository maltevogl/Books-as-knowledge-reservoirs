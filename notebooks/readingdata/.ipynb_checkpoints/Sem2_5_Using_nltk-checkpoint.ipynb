{
 "cells": [
  {
   "cell_type": "markdown",
   "metadata": {},
   "source": [
    "# Working with natural language processing\n",
    "\n",
    "A short introduction to the package `nltk`, which is described in full-length in the website [nltk.org/book](http://www.nltk.org/book)."
   ]
  },
  {
   "cell_type": "code",
   "execution_count": null,
   "metadata": {},
   "outputs": [],
   "source": [
    "import nltk\n",
    "from nltk import word_tokenize, FreqDist\n",
    "import pandas as pd\n",
    "import matplotlib.pylab as plt"
   ]
  },
  {
   "cell_type": "markdown",
   "metadata": {},
   "source": [
    "If you get package errors, that data is missing, you can use `nltk.download()` to get them."
   ]
  },
  {
   "cell_type": "code",
   "execution_count": null,
   "metadata": {},
   "outputs": [],
   "source": [
    "#nltk.download('stopwords')"
   ]
  },
  {
   "cell_type": "code",
   "execution_count": null,
   "metadata": {},
   "outputs": [],
   "source": [
    "data = pd.read_hdf('./data/df_tucholsky.hd5')"
   ]
  },
  {
   "cell_type": "markdown",
   "metadata": {},
   "source": [
    "Sort data by publication year"
   ]
  },
  {
   "cell_type": "code",
   "execution_count": null,
   "metadata": {},
   "outputs": [],
   "source": [
    "data = data.sort_values('year')"
   ]
  },
  {
   "cell_type": "markdown",
   "metadata": {},
   "source": [
    "Select subset of texts containing \"Krieg\" as a separate word."
   ]
  },
  {
   "cell_type": "code",
   "execution_count": null,
   "metadata": {},
   "outputs": [],
   "source": [
    "subset = data[data.text.str.contains('\\sKrieg\\s')]"
   ]
  },
  {
   "cell_type": "markdown",
   "metadata": {},
   "source": [
    "We have around 200 texts."
   ]
  },
  {
   "cell_type": "code",
   "execution_count": null,
   "metadata": {},
   "outputs": [],
   "source": [
    "subset.shape"
   ]
  },
  {
   "cell_type": "markdown",
   "metadata": {},
   "source": [
    "Create a list of transformed texts and word frequencies."
   ]
  },
  {
   "cell_type": "code",
   "execution_count": null,
   "metadata": {},
   "outputs": [],
   "source": [
    "allTexts = [] \n",
    "for i,row in subset.iterrows():\n",
    "    name = \"{0} ({1})\".format(row['title'],row['year'])\n",
    "    tokens = word_tokenize(row['text'])\n",
    "    text = nltk.Text(tokens,name)\n",
    "    fdist = FreqDist(text)\n",
    "    allTexts.append([text, fdist])"
   ]
  },
  {
   "cell_type": "markdown",
   "metadata": {},
   "source": [
    "Lets have a look at one specific text. Since the list `allTexts`contains elements of lists we can define the values for text and frequency distribution as follows"
   ]
  },
  {
   "cell_type": "code",
   "execution_count": null,
   "metadata": {},
   "outputs": [],
   "source": [
    "text5, fdist5 = allTexts[5]"
   ]
  },
  {
   "cell_type": "markdown",
   "metadata": {},
   "source": [
    "Running the code cell with only the `text5` variable, will print the title and year."
   ]
  },
  {
   "cell_type": "code",
   "execution_count": null,
   "metadata": {},
   "outputs": [],
   "source": [
    "text5"
   ]
  },
  {
   "cell_type": "markdown",
   "metadata": {},
   "source": [
    "Test the `concordance(WORD)` and other functions with some words\n",
    "  - Concordance of \"Krieg\", \"Politik\", \"Ethik\"\n",
    "  - Similar of \"Politik\"\n",
    "  - Common context of \"Politik\" and \"Ethik\""
   ]
  },
  {
   "cell_type": "code",
   "execution_count": null,
   "metadata": {},
   "outputs": [],
   "source": [
    "text5.concordance()"
   ]
  },
  {
   "cell_type": "markdown",
   "metadata": {},
   "source": [
    "We can check which words have a similar context by using `similar(WORD)`"
   ]
  },
  {
   "cell_type": "code",
   "execution_count": null,
   "metadata": {},
   "outputs": [],
   "source": [
    "text5.similar()"
   ]
  },
  {
   "cell_type": "markdown",
   "metadata": {},
   "source": [
    "Related to the `similar()` function, we can check for `common_contexts([WORD1, WORD2])`."
   ]
  },
  {
   "cell_type": "code",
   "execution_count": null,
   "metadata": {},
   "outputs": [],
   "source": [
    "text5.common_contexts([WORD,WORD])"
   ]
  },
  {
   "cell_type": "markdown",
   "metadata": {},
   "source": [
    "The function `collocations()` gives groups of words, that often occure together."
   ]
  },
  {
   "cell_type": "code",
   "execution_count": null,
   "metadata": {},
   "outputs": [],
   "source": [
    "text5.collocations()"
   ]
  },
  {
   "cell_type": "markdown",
   "metadata": {},
   "source": [
    "To quickly visualize the occurance of words throughout a text, we can use `dispersion_plot([WORD1, WORD2])`.\n",
    "\n",
    "  - Plot the dispersion of \"Krieg\", \"Politik\" and \"Ethik\""
   ]
  },
  {
   "cell_type": "code",
   "execution_count": null,
   "metadata": {},
   "outputs": [],
   "source": [
    "text5.dispersion_plot([])"
   ]
  },
  {
   "cell_type": "markdown",
   "metadata": {},
   "source": [
    "## Frequency distributions\n",
    "\n",
    "Frequency distributions describe the number of occurances of words in a text. To find the most common words use `most_common`. This returns a ordered list of words and their occurance in the text. "
   ]
  },
  {
   "cell_type": "code",
   "execution_count": null,
   "metadata": {},
   "outputs": [],
   "source": [
    "fdist5.most_common(20)"
   ]
  },
  {
   "cell_type": "markdown",
   "metadata": {},
   "source": [
    "Inputing a specific word gives the number of occurances.\n",
    "\n",
    "  - Check for \"Krieg\" and \"Politik\""
   ]
  },
  {
   "cell_type": "code",
   "execution_count": null,
   "metadata": {},
   "outputs": [],
   "source": [
    "fdist5[]"
   ]
  },
  {
   "cell_type": "markdown",
   "metadata": {},
   "source": [
    "To find the opposite end, i.e. words which occure only once, we can use `.hapaxes()`. _Hapax legomenon_ are sometimes used to characterize the unknown authors of texts. \n",
    "\n",
    "  - Are the a useful candidate for _keywords_ to describe the character of a document? \n",
    "  - why? Why not? "
   ]
  },
  {
   "cell_type": "code",
   "execution_count": null,
   "metadata": {},
   "outputs": [],
   "source": [
    "fdist5.hapaxes()[:20]"
   ]
  },
  {
   "cell_type": "markdown",
   "metadata": {},
   "source": [
    "Another option for keywords could be a mix of often occuring and long enough words.\n",
    "\n",
    "  - In the following code, find a combination of length and frequency that gives useful words"
   ]
  },
  {
   "cell_type": "code",
   "execution_count": null,
   "metadata": {},
   "outputs": [],
   "source": [
    "length = \n",
    "frequency = \n",
    "sorted(w for w in set(text5) if len(w) > length and fdist5[w] > frequency)"
   ]
  },
  {
   "cell_type": "markdown",
   "metadata": {},
   "source": [
    "Fdist also offers plotting, e.g. to see how the most common words shape the whole text."
   ]
  },
  {
   "cell_type": "code",
   "execution_count": null,
   "metadata": {},
   "outputs": [],
   "source": [
    "fdist5.plot(50, cumulative=True)"
   ]
  },
  {
   "cell_type": "code",
   "execution_count": null,
   "metadata": {},
   "outputs": [],
   "source": [
    "print(fdist5)"
   ]
  },
  {
   "cell_type": "markdown",
   "metadata": {},
   "source": [
    "Since there are only around 1200 words in the text, the 50 most common words are building 50 % of the text."
   ]
  },
  {
   "cell_type": "markdown",
   "metadata": {},
   "source": [
    "## Bonus: Zipf's law\n",
    "\n",
    "[Zipf's law](https://en.wikipedia.org/wiki/Zipf%27s_law) is claimed to be a general law in language, that in any natural language text the frequency of every word is inverse to its rank in the frequency table. This means, that if you order all words of a text by their occurance, and give them a related to their position in the ordered list, a log-log plot of (rank,frequency) should be linear. \n",
    "\n",
    "  - Bonus: Reproduce Zipf's law for a given Tucholsky text\n",
    "  - Hints: \n",
    "    - Use matplotlib [scatter plot](https://pythonspot.com/matplotlib-scatterplot/)\n",
    "    - 'fdist.B' gives the number of bins, i.e. words in a corpus, same as len(fdist)\n",
    "    - How do you get all the first elements in a list of lists?\n",
    "    - plt.xscale('log) and plt.yscale('log') set logarithmic scales\n",
    "  - Bonus II: Write a function returning the plot for any input text, with the text title as plot title\n",
    "  - Hints: \n",
    "    - plt.title(text) sets the title of a plot"
   ]
  },
  {
   "cell_type": "code",
   "execution_count": null,
   "metadata": {},
   "outputs": [],
   "source": [
    "[x[1] for x in LIST]"
   ]
  },
  {
   "cell_type": "code",
   "execution_count": null,
   "metadata": {},
   "outputs": [],
   "source": [
    "def plot(inp):\n",
    "    text = inp[0]\n",
    "    fdist = inp[1]\n",
    "    p = plt.plot(range(1,fdist.B() + 1),[x[1] for x in fdist.most_common()])\n",
    "    plt.xscale('log')\n",
    "    plt.yscale('log')\n",
    "    plt.title(text)\n",
    "    return p"
   ]
  },
  {
   "cell_type": "code",
   "execution_count": null,
   "metadata": {},
   "outputs": [],
   "source": [
    "plot(allTexts[10])"
   ]
  },
  {
   "cell_type": "code",
   "execution_count": null,
   "metadata": {},
   "outputs": [],
   "source": [
    "from HanTa import HanoverTagger as ht"
   ]
  },
  {
   "cell_type": "code",
   "execution_count": null,
   "metadata": {},
   "outputs": [],
   "source": [
    "tagger = ht.HanoverTagger('morphmodel_ger.pgz')"
   ]
  },
  {
   "cell_type": "code",
   "execution_count": null,
   "metadata": {},
   "outputs": [],
   "source": [
    "def lemmaNouns(text):\n",
    "    words = [] \n",
    "    sentences = nltk.sent_tokenize(text,language='german')\n",
    "    sentences_tok = [nltk.tokenize.word_tokenize(sent) for sent in sentences]\n",
    "    for sent in sentences_tok:\n",
    "        tags = tagger.tag_sent(sent) \n",
    "        words_from_sent = [lemma for (word,lemma,pos) in tags]\n",
    "        words.extend(words_from_sent)\n",
    "\n",
    "    return words"
   ]
  },
  {
   "cell_type": "code",
   "execution_count": null,
   "metadata": {},
   "outputs": [],
   "source": [
    "data.text.iloc[10]"
   ]
  },
  {
   "cell_type": "code",
   "execution_count": null,
   "metadata": {},
   "outputs": [],
   "source": [
    "lemmaNouns(data.text.iloc[10])"
   ]
  },
  {
   "cell_type": "code",
   "execution_count": null,
   "metadata": {},
   "outputs": [],
   "source": []
  }
 ],
 "metadata": {
  "kernelspec": {
   "display_name": "Python 3",
   "language": "python",
   "name": "python3"
  },
  "language_info": {
   "codemirror_mode": {
    "name": "ipython",
    "version": 3
   },
   "file_extension": ".py",
   "mimetype": "text/x-python",
   "name": "python",
   "nbconvert_exporter": "python",
   "pygments_lexer": "ipython3",
   "version": "3.8.5"
  }
 },
 "nbformat": 4,
 "nbformat_minor": 4
}
