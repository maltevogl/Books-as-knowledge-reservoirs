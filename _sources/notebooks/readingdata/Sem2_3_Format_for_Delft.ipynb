{
 "cells": [
  {
   "cell_type": "markdown",
   "metadata": {},
   "source": [
    "# Export format from Doccano to Delft \n",
    "\n",
    "The annotated texts from Doccano have to be re-formated to be readable by Delft, a machine-learning library for finding and annotating text parts."
   ]
  },
  {
   "cell_type": "code",
   "execution_count": 1,
   "metadata": {},
   "outputs": [],
   "source": [
    "import pandas as pd\n",
    "from itertools import tee"
   ]
  },
  {
   "cell_type": "code",
   "execution_count": 2,
   "metadata": {},
   "outputs": [],
   "source": [
    "data = pd.read_json('/home/mvogl/Downloads/file(3).json1',lines=True)"
   ]
  },
  {
   "cell_type": "code",
   "execution_count": 3,
   "metadata": {},
   "outputs": [
    {
     "data": {
      "text/html": [
       "<div>\n",
       "<style scoped>\n",
       "    .dataframe tbody tr th:only-of-type {\n",
       "        vertical-align: middle;\n",
       "    }\n",
       "\n",
       "    .dataframe tbody tr th {\n",
       "        vertical-align: top;\n",
       "    }\n",
       "\n",
       "    .dataframe thead th {\n",
       "        text-align: right;\n",
       "    }\n",
       "</style>\n",
       "<table border=\"1\" class=\"dataframe\">\n",
       "  <thead>\n",
       "    <tr style=\"text-align: right;\">\n",
       "      <th></th>\n",
       "      <th>id</th>\n",
       "      <th>text</th>\n",
       "      <th>meta</th>\n",
       "      <th>annotation_approver</th>\n",
       "      <th>labels</th>\n",
       "    </tr>\n",
       "  </thead>\n",
       "  <tbody>\n",
       "    <tr>\n",
       "      <th>0</th>\n",
       "      <td>445</td>\n",
       "      <td>Carl Sonnenschein\\n\\n                         ...</td>\n",
       "      <td>{'ids': 'tg1616.wj0c.0', 'year': 1931, 'title'...</td>\n",
       "      <td>NaN</td>\n",
       "      <td>[]</td>\n",
       "    </tr>\n",
       "    <tr>\n",
       "      <th>1</th>\n",
       "      <td>446</td>\n",
       "      <td>Gegen das Remarque-Filmverbot\\n               ...</td>\n",
       "      <td>{'ids': 'tg1641.wm06.0', 'year': 1931, 'title'...</td>\n",
       "      <td>NaN</td>\n",
       "      <td>[[0, 30, Title of piece of art], [138, 146, Pe...</td>\n",
       "    </tr>\n",
       "    <tr>\n",
       "      <th>2</th>\n",
       "      <td>447</td>\n",
       "      <td>Ein Stück Dichtung\\n\\n                        ...</td>\n",
       "      <td>{'ids': 'tg1653.wn1q.0', 'year': 1931, 'title'...</td>\n",
       "      <td>NaN</td>\n",
       "      <td>[]</td>\n",
       "    </tr>\n",
       "    <tr>\n",
       "      <th>3</th>\n",
       "      <td>448</td>\n",
       "      <td>Auf dem Nachttisch\\n\\n                        ...</td>\n",
       "      <td>{'ids': 'tg1656.wnq3.0', 'year': 1931, 'title'...</td>\n",
       "      <td>NaN</td>\n",
       "      <td>[]</td>\n",
       "    </tr>\n",
       "    <tr>\n",
       "      <th>4</th>\n",
       "      <td>449</td>\n",
       "      <td>Der neue Remarque\\n\\n                         ...</td>\n",
       "      <td>{'ids': 'tg1661.wnr3.0', 'year': 1931, 'title'...</td>\n",
       "      <td>NaN</td>\n",
       "      <td>[]</td>\n",
       "    </tr>\n",
       "  </tbody>\n",
       "</table>\n",
       "</div>"
      ],
      "text/plain": [
       "    id                                               text  \\\n",
       "0  445  Carl Sonnenschein\\n\\n                         ...   \n",
       "1  446  Gegen das Remarque-Filmverbot\\n               ...   \n",
       "2  447  Ein Stück Dichtung\\n\\n                        ...   \n",
       "3  448  Auf dem Nachttisch\\n\\n                        ...   \n",
       "4  449  Der neue Remarque\\n\\n                         ...   \n",
       "\n",
       "                                                meta  annotation_approver  \\\n",
       "0  {'ids': 'tg1616.wj0c.0', 'year': 1931, 'title'...                  NaN   \n",
       "1  {'ids': 'tg1641.wm06.0', 'year': 1931, 'title'...                  NaN   \n",
       "2  {'ids': 'tg1653.wn1q.0', 'year': 1931, 'title'...                  NaN   \n",
       "3  {'ids': 'tg1656.wnq3.0', 'year': 1931, 'title'...                  NaN   \n",
       "4  {'ids': 'tg1661.wnr3.0', 'year': 1931, 'title'...                  NaN   \n",
       "\n",
       "                                              labels  \n",
       "0                                                 []  \n",
       "1  [[0, 30, Title of piece of art], [138, 146, Pe...  \n",
       "2                                                 []  \n",
       "3                                                 []  \n",
       "4                                                 []  "
      ]
     },
     "execution_count": 3,
     "metadata": {},
     "output_type": "execute_result"
    }
   ],
   "source": [
    "data.head()"
   ]
  },
  {
   "cell_type": "markdown",
   "metadata": {},
   "source": [
    "Each annotation set has the form (start,stop,tag). In principle this allows to easily re-format. However, changing one text shifts all word boundaries. We therefore have to create a list of all tagged words and the text in between them. Tagged words are re-formated and in the end of the routine, the new re-formated text is joined together. "
   ]
  },
  {
   "cell_type": "code",
   "execution_count": 4,
   "metadata": {},
   "outputs": [],
   "source": [
    "def pairwise(iterable):\n",
    "    \"s -> (s0,s1), (s1,s2), (s2, s3), ...\"\n",
    "    a, b = tee(iterable)\n",
    "    next(b, None)\n",
    "    return zip(a, b)\n",
    "\n",
    "def formatDelft(row):\n",
    "    text = row['text']\n",
    "    \n",
    "    textParts = []\n",
    "    if not row['labels']:\n",
    "        return ''\n",
    "    for elem in pairwise(sorted(row['labels'])):\n",
    "        if elem[0][0] != 0:\n",
    "            textParts.append([0,elem[0][0],'text'])\n",
    "        textParts.append(elem[0])\n",
    "        textParts.append([elem[0][1],elem[1][0],'text'])\n",
    "    if textParts[-1][1] != len(text):\n",
    "        textParts.append([textParts[-1][1],len(text),'text'])\n",
    "        \n",
    "    formatedParts = []\n",
    "    \n",
    "    for elem in textParts:\n",
    "        textelem = text[elem[0]:elem[1]]\n",
    "        if elem[2] != 'text':\n",
    "            subtext = '<rs type=\"{0}\">{1}</rs>'.format(elem[2],textelem)\n",
    "        else:\n",
    "            subtext = textelem\n",
    "        formatedParts.append(subtext)\n",
    "        \n",
    "    return ''.join(formatedParts) #3"
   ]
  },
  {
   "cell_type": "code",
   "execution_count": 5,
   "metadata": {},
   "outputs": [],
   "source": [
    "data['delftFormated'] = data.apply(lambda row: formatDelft(row),axis=1)"
   ]
  },
  {
   "cell_type": "code",
   "execution_count": 9,
   "metadata": {},
   "outputs": [
    {
     "data": {
      "text/plain": [
       "'<rs type=\"Title of piece of art\">Gegen das Remarque-Filmverbot\\n</rs>                              \\n(Eine Umfrage der »Deutschen Liga für Menschenrechte«)\\n\\n\\nDer nordische Barde Gegen das Remarque-Filmverbot\\n                              \\n(Eine Umfrage der »Deutschen Liga für Menschenrechte«)\\n\\n\\nDer nordische Barde <rs type=\"Person (real)\">Goebbels</rs> hat in seinen Kundgebungen wiederholt darauf hingewiesen, daß der Gegen das Remarque-Filmverbot\\n                              \\n(Eine Umfrage der »Deutschen Liga für Menschenrechte«)\\n\\n\\nDer nordische Barde Goebbels hat in seinen Kundgebungen wiederholt darauf hingewiesen, daß der <rs type=\"Person (real)\">Remarque</rs>-Film ein ›Geschäft‹ sei. Das ist dieser Film sicherlich – im Gegensatz zu den Fridericus-Erzeugnissen, die über und unter Gebühr rein ideale Ausstrahlungen Gegen das Remarque-Filmverbot\\n                              \\n(Eine Umfrage der »Deutschen Liga für Menschenrechte«)\\n\\n\\nDer nordische Barde Goebbels hat in seinen Kundgebungen wiederholt darauf hingewiesen, daß der Remarque-Film ein ›Geschäft‹ sei. Das ist dieser Film sicherlich – im Gegensatz zu den Fridericus-Erzeugnissen, die über und unter Gebühr rein ideale Ausstrahlungen <rs type=\"Person (fictional)\">Baldur</rs>s zu sein scheinen.\\nFilme sind Erzeugnisse einer Industrie, gehemmt durch eine Zensur, die im Interesse der herrschenden Klasse funktioniert. Trotzdem gibt es gute und schlechte Filme.\\n Die Nationaille hat aus unlauteren Beweggründen gegen diesen Film protestiert. Es ist bedauerlich, daß ein Pazifist wie Gegen das Remarque-Filmverbot\\n                              \\n(Eine Umfrage der »Deutschen Liga für Menschenrechte«)\\n\\n\\nDer nordische Barde Goebbels hat in seinen Kundgebungen wiederholt darauf hingewiesen, daß der Remarque-Film ein ›Geschäft‹ sei. Das ist dieser Film sicherlich – im Gegensatz zu den Fridericus-Erzeugnissen, die über und unter Gebühr rein ideale Ausstrahlungen Baldurs zu sein scheinen.\\nFilme sind Erzeugnisse einer Industrie, gehemmt durch eine Zensur, die im Interesse der herrschenden Klasse funktioniert. Trotzdem gibt es gute und schlechte Filme.\\n Die Nationaille hat aus unlauteren Beweggründen gegen diesen Film protestiert. Es ist bedauerlich, daß ein Pazifist wie <rs type=\"Person (real)\">Friedrich Wilhelm Foerster</rs> Verwirrung in die Reihen des Pazifismus getragen hat, indem er sagt: »Das Szenario stellt eine tendenziöse Auswahl seitens einer Art von sentimentalem, ja oft weinerlichem Pazifismus dar, bei dem der Abscheu gegen den Krieg nicht aus den Tiefen der moralischen Menschennatur kommt, sondern aus dem Nervensystem, dem Magen, dem Schlafbedürfnis . . . « Aus dem Nervensystem! Nur aus dem Nervensystem? Wir haben oft zu Gegen das Remarque-Filmverbot\\n                              \\n(Eine Umfrage der »Deutschen Liga für Menschenrechte«)\\n\\n\\nDer nordische Barde Goebbels hat in seinen Kundgebungen wiederholt darauf hingewiesen, daß der Remarque-Film ein ›Geschäft‹ sei. Das ist dieser Film sicherlich – im Gegensatz zu den Fridericus-Erzeugnissen, die über und unter Gebühr rein ideale Ausstrahlungen Baldurs zu sein scheinen.\\nFilme sind Erzeugnisse einer Industrie, gehemmt durch eine Zensur, die im Interesse der herrschenden Klasse funktioniert. Trotzdem gibt es gute und schlechte Filme.\\n Die Nationaille hat aus unlauteren Beweggründen gegen diesen Film protestiert. Es ist bedauerlich, daß ein Pazifist wie Friedrich Wilhelm Foerster Verwirrung in die Reihen des Pazifismus getragen hat, indem er sagt: »Das Szenario stellt eine tendenziöse Auswahl seitens einer Art von sentimentalem, ja oft weinerlichem Pazifismus dar, bei dem der Abscheu gegen den Krieg nicht aus den Tiefen der moralischen Menschennatur kommt, sondern aus dem Nervensystem, dem Magen, dem Schlafbedürfnis . . . « Aus dem Nervensystem! Nur aus dem Nervensystem? Wir haben oft zu <rs type=\"Person (real)\">Foerster</rs> gehalten. In diesem Falle ist dem Vorsteher eines kleineren katholischen Moralamtes nur zu wünschen, daß er einmal in die Lage kommt, nur aus dem Nervensystem gegen den Krieg protestieren zu müssen – also etwa nach achtundvierzigstündigem Trommelfeuer.\\n Noch der niedrigste Pazifismus hat gegen den edelsten Militarismus tausendmal recht! Es gibt kein Mittel, das uns nicht recht wäre, den Moloch des Kriegswahnsinns und des Staatswahnsinns zu bekämpfen.\\n Der Tod der zehn Millionen ist sinnlos gewesen – sie sind für nichts gefallen.\\n Nachträglich muß die trauernde Mutter, die trauernde Frau, müssen die Reklamefachleute für den nächsten Krieg, diesem Gemetzel, das selbst der Papst ›ehrlos‹ genannt hat, einen Sinn unterlegen – was die Hinterbliebenen angeht, so brauchen sie diesen Trost: es ist so schwer, sonst weiterzuleben . . . Ehre der Trauer. Schmach dem Kriege!\\n Wir brauchen keine Kartenkunststücke, die uns den angeblichen Sinn dieses Wahnsinns vormachen sollen.\\n Und darum ist uns jeder, jeder Film recht, der der Menschheit den Krieg auch in seinen niederen Formen, gerade in seinen niedrigsten Formen vorführt. Mussolini zeigt seinem Volk nur die Fahnen und nichts als das – Gegen das Remarque-Filmverbot\\n                              \\n(Eine Umfrage der »Deutschen Liga für Menschenrechte«)\\n\\n\\nDer nordische Barde Goebbels hat in seinen Kundgebungen wiederholt darauf hingewiesen, daß der Remarque-Film ein ›Geschäft‹ sei. Das ist dieser Film sicherlich – im Gegensatz zu den Fridericus-Erzeugnissen, die über und unter Gebühr rein ideale Ausstrahlungen Baldurs zu sein scheinen.\\nFilme sind Erzeugnisse einer Industrie, gehemmt durch eine Zensur, die im Interesse der herrschenden Klasse funktioniert. Trotzdem gibt es gute und schlechte Filme.\\n Die Nationaille hat aus unlauteren Beweggründen gegen diesen Film protestiert. Es ist bedauerlich, daß ein Pazifist wie Friedrich Wilhelm Foerster Verwirrung in die Reihen des Pazifismus getragen hat, indem er sagt: »Das Szenario stellt eine tendenziöse Auswahl seitens einer Art von sentimentalem, ja oft weinerlichem Pazifismus dar, bei dem der Abscheu gegen den Krieg nicht aus den Tiefen der moralischen Menschennatur kommt, sondern aus dem Nervensystem, dem Magen, dem Schlafbedürfnis . . . « Aus dem Nervensystem! Nur aus dem Nervensystem? Wir haben oft zu Foerster gehalten. In diesem Falle ist dem Vorsteher eines kleineren katholischen Moralamtes nur zu wünschen, daß er einmal in die Lage kommt, nur aus dem Nervensystem gegen den Krieg protestieren zu müssen – also etwa nach achtundvierzigstündigem Trommelfeuer.\\n Noch der niedrigste Pazifismus hat gegen den edelsten Militarismus tausendmal recht! Es gibt kein Mittel, das uns nicht recht wäre, den Moloch des Kriegswahnsinns und des Staatswahnsinns zu bekämpfen.\\n Der Tod der zehn Millionen ist sinnlos gewesen – sie sind für nichts gefallen.\\n Nachträglich muß die trauernde Mutter, die trauernde Frau, müssen die Reklamefachleute für den nächsten Krieg, diesem Gemetzel, das selbst der Papst ›ehrlos‹ genannt hat, einen Sinn unterlegen – was die Hinterbliebenen angeht, so brauchen sie diesen Trost: es ist so schwer, sonst weiterzuleben . . . Ehre der Trauer. Schmach dem Kriege!\\n Wir brauchen keine Kartenkunststücke, die uns den angeblichen Sinn dieses Wahnsinns vormachen sollen.\\n Und darum ist uns jeder, jeder Film recht, der der Menschheit den Krieg auch in seinen niederen Formen, gerade in seinen niedrigsten Formen vorführt. Mussolini zeigt seinem Volk nur die Fahnen und nichts als das – <rs type=\"Person (real)\">Remarque</rs> zeigt uns die Fahnen und den Rest: die Zerfetzten und die Taumelnden, die Blutenden und die Zerschossenen – und wer sich daran begeistern will, der mag es tun.\\n Wir andern rufen gegen die Weltenschande: Nieder mit dem Kriege!\\n\\n\\n\\n · Gegen das Remarque-Filmverbot\\n                              \\n(Eine Umfrage der »Deutschen Liga für Menschenrechte«)\\n\\n\\nDer nordische Barde Goebbels hat in seinen Kundgebungen wiederholt darauf hingewiesen, daß der Remarque-Film ein ›Geschäft‹ sei. Das ist dieser Film sicherlich – im Gegensatz zu den Fridericus-Erzeugnissen, die über und unter Gebühr rein ideale Ausstrahlungen Baldurs zu sein scheinen.\\nFilme sind Erzeugnisse einer Industrie, gehemmt durch eine Zensur, die im Interesse der herrschenden Klasse funktioniert. Trotzdem gibt es gute und schlechte Filme.\\n Die Nationaille hat aus unlauteren Beweggründen gegen diesen Film protestiert. Es ist bedauerlich, daß ein Pazifist wie Friedrich Wilhelm Foerster Verwirrung in die Reihen des Pazifismus getragen hat, indem er sagt: »Das Szenario stellt eine tendenziöse Auswahl seitens einer Art von sentimentalem, ja oft weinerlichem Pazifismus dar, bei dem der Abscheu gegen den Krieg nicht aus den Tiefen der moralischen Menschennatur kommt, sondern aus dem Nervensystem, dem Magen, dem Schlafbedürfnis . . . « Aus dem Nervensystem! Nur aus dem Nervensystem? Wir haben oft zu Foerster gehalten. In diesem Falle ist dem Vorsteher eines kleineren katholischen Moralamtes nur zu wünschen, daß er einmal in die Lage kommt, nur aus dem Nervensystem gegen den Krieg protestieren zu müssen – also etwa nach achtundvierzigstündigem Trommelfeuer.\\n Noch der niedrigste Pazifismus hat gegen den edelsten Militarismus tausendmal recht! Es gibt kein Mittel, das uns nicht recht wäre, den Moloch des Kriegswahnsinns und des Staatswahnsinns zu bekämpfen.\\n Der Tod der zehn Millionen ist sinnlos gewesen – sie sind für nichts gefallen.\\n Nachträglich muß die trauernde Mutter, die trauernde Frau, müssen die Reklamefachleute für den nächsten Krieg, diesem Gemetzel, das selbst der Papst ›ehrlos‹ genannt hat, einen Sinn unterlegen – was die Hinterbliebenen angeht, so brauchen sie diesen Trost: es ist so schwer, sonst weiterzuleben . . . Ehre der Trauer. Schmach dem Kriege!\\n Wir brauchen keine Kartenkunststücke, die uns den angeblichen Sinn dieses Wahnsinns vormachen sollen.\\n Und darum ist uns jeder, jeder Film recht, der der Menschheit den Krieg auch in seinen niederen Formen, gerade in seinen niedrigsten Formen vorführt. Mussolini zeigt seinem Volk nur die Fahnen und nichts als das – Remarque zeigt uns die Fahnen und den Rest: die Zerfetzten und die Taumelnden, die Blutenden und die Zerschossenen – und wer sich daran begeistern will, der mag es tun.\\n Wir andern rufen gegen die Weltenschande: Nieder mit dem Kriege!\\n\\n\\n\\n · <rs type=\"Pseudonym\">Kurt Tucholsky</rs>\\nGegen das Remarque-Filmverbot\\n                              \\n(Eine Umfrage der »Deutschen Liga für Menschenrechte«)\\n\\n\\nDer nordische Barde Goebbels hat in seinen Kundgebungen wiederholt darauf hingewiesen, daß der Remarque-Film ein ›Geschäft‹ sei. Das ist dieser Film sicherlich – im Gegensatz zu den Fridericus-Erzeugnissen, die über und unter Gebühr rein ideale Ausstrahlungen Baldurs zu sein scheinen.\\nFilme sind Erzeugnisse einer Industrie, gehemmt durch eine Zensur, die im Interesse der herrschenden Klasse funktioniert. Trotzdem gibt es gute und schlechte Filme.\\n Die Nationaille hat aus unlauteren Beweggründen gegen diesen Film protestiert. Es ist bedauerlich, daß ein Pazifist wie Friedrich Wilhelm Foerster Verwirrung in die Reihen des Pazifismus getragen hat, indem er sagt: »Das Szenario stellt eine tendenziöse Auswahl seitens einer Art von sentimentalem, ja oft weinerlichem Pazifismus dar, bei dem der Abscheu gegen den Krieg nicht aus den Tiefen der moralischen Menschennatur kommt, sondern aus dem Nervensystem, dem Magen, dem Schlafbedürfnis . . . « Aus dem Nervensystem! Nur aus dem Nervensystem? Wir haben oft zu Foerster gehalten. In diesem Falle ist dem Vorsteher eines kleineren katholischen Moralamtes nur zu wünschen, daß er einmal in die Lage kommt, nur aus dem Nervensystem gegen den Krieg protestieren zu müssen – also etwa nach achtundvierzigstündigem Trommelfeuer.\\n Noch der niedrigste Pazifismus hat gegen den edelsten Militarismus tausendmal recht! Es gibt kein Mittel, das uns nicht recht wäre, den Moloch des Kriegswahnsinns und des Staatswahnsinns zu bekämpfen.\\n Der Tod der zehn Millionen ist sinnlos gewesen – sie sind für nichts gefallen.\\n Nachträglich muß die trauernde Mutter, die trauernde Frau, müssen die Reklamefachleute für den nächsten Krieg, diesem Gemetzel, das selbst der Papst ›ehrlos‹ genannt hat, einen Sinn unterlegen – was die Hinterbliebenen angeht, so brauchen sie diesen Trost: es ist so schwer, sonst weiterzuleben . . . Ehre der Trauer. Schmach dem Kriege!\\n Wir brauchen keine Kartenkunststücke, die uns den angeblichen Sinn dieses Wahnsinns vormachen sollen.\\n Und darum ist uns jeder, jeder Film recht, der der Menschheit den Krieg auch in seinen niederen Formen, gerade in seinen niedrigsten Formen vorführt. Mussolini zeigt seinem Volk nur die Fahnen und nichts als das – Remarque zeigt uns die Fahnen und den Rest: die Zerfetzten und die Taumelnden, die Blutenden und die Zerschossenen – und wer sich daran begeistern will, der mag es tun.\\n Wir andern rufen gegen die Weltenschande: Nieder mit dem Kriege!\\n\\n\\n\\n · Kurt Tucholsky\\n<rs type=\"Publication name\">Die Menschenrechte</rs>, 20.03.1931, Nr. 3, Jg 4.'"
      ]
     },
     "execution_count": 9,
     "metadata": {},
     "output_type": "execute_result"
    }
   ],
   "source": [
    "data[data['delftFormated'] != ''].delftFormated.iloc[0]"
   ]
  },
  {
   "cell_type": "code",
   "execution_count": 24,
   "metadata": {},
   "outputs": [],
   "source": [
    "startTEI = \"\"\"\n",
    "<?xml version=\"1.0\" encoding=\"UTF-8\"?>\n",
    "<TEI xmlns:mml=\"http://www.w3.org/1998/Math/MathML\" xmlns:xlink=\"http://www.w3.org/1999/xlink\" xmlns=\"http://www.tei-c.org/ns/1.0\">\n",
    "\"\"\"\n",
    "endTEI = \"</TEI>\""
   ]
  },
  {
   "cell_type": "code",
   "execution_count": 25,
   "metadata": {},
   "outputs": [],
   "source": [
    "with open('./data/delft_test.xml','a+') as file:\n",
    "    file.write(startTEI)\n",
    "    for line in data.delftFormated.unique():\n",
    "        if line:\n",
    "            file.write(\"<p>{0}</p>\".format(line))\n",
    "    file.write(endTEI)\n",
    "    "
   ]
  },
  {
   "cell_type": "code",
   "execution_count": null,
   "metadata": {},
   "outputs": [],
   "source": []
  }
 ],
 "metadata": {
  "kernelspec": {
   "display_name": "Python 3",
   "language": "python",
   "name": "python3"
  },
  "language_info": {
   "codemirror_mode": {
    "name": "ipython",
    "version": 3
   },
   "file_extension": ".py",
   "mimetype": "text/x-python",
   "name": "python",
   "nbconvert_exporter": "python",
   "pygments_lexer": "ipython3",
   "version": "3.8.2"
  }
 },
 "nbformat": 4,
 "nbformat_minor": 4
}
