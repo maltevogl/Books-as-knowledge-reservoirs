{
 "cells": [
  {
   "cell_type": "markdown",
   "metadata": {},
   "source": [
    "# Read all works by Tucholsky\n",
    "\n",
    "The basic dataset for the book will be a collection of all works by Tucholsky. The reason for this is simply that building a clean research corpus is a difficult and long processes in itself, deeply connected to your research question. For the aim of this book, it is therefore easier to focus on an already existing corpus. "
   ]
  },
  {
   "cell_type": "markdown",
   "metadata": {},
   "source": [
    "## Reading TEI file\n",
    "\n",
    "Textual corpora are mostly encoded in TEI XML format. Collected works of Kurt Tucholsky can for example be found in the [TextGrid](https://textgrid.de/digitale-bibliothek) repository.\n",
    "\n",
    "Source:\n",
    "\n",
    "  >  TextGrid Repository (2012). Tucholsky, Kurt. Werke. Digitale Bibliothek. TextGrid. https://hdl.handle.net/11858/00-1734-0000-0005-61C5-B "
   ]
  },
  {
   "cell_type": "code",
   "execution_count": 1,
   "metadata": {},
   "outputs": [],
   "source": [
    "import os\n",
    "import re\n",
    "from multiprocessing import Pool, cpu_count\n",
    "from tqdm import tqdm\n",
    "import pandas as pd\n",
    "from bs4 import BeautifulSoup\n",
    "import xml.etree.ElementTree as etree"
   ]
  },
  {
   "cell_type": "code",
   "execution_count": 2,
   "metadata": {},
   "outputs": [],
   "source": [
    "fileList = os.listdir('../data/tei/')"
   ]
  },
  {
   "cell_type": "markdown",
   "metadata": {},
   "source": [
    "### Reducing the structure\n",
    "\n",
    "Since we are not concerned with the finer textual structure, we simple read the full text of every identified text.\n",
    "\n",
    "First, we look at XML elements of the form _./tei:teiCorpus/tei:TEI_ and extract the title and publication year. \n",
    "Then, we open the file with BeatifulSoup to find _div_ elements which have the correct _textID_ and collect the full text from them. \n",
    "\n",
    "The resulting list contains all texts by Tucholsky which are available in this resource, their titles and publication years. \n",
    "Overall, we have around 1700 texts between 1917 and 1934."
   ]
  },
  {
   "cell_type": "code",
   "execution_count": 3,
   "metadata": {},
   "outputs": [],
   "source": [
    "def getText(path):\n",
    "    ##\n",
    "    ns = {'tei':\"http://www.tei-c.org/ns/1.0\",\"xml\":\"http://www.w3.org/XML/1998/namespace\"}\n",
    "    dateRegex = re.compile('(?<=/Literatur/M/Tucholsky, Kurt/Werke/)\\d{4}(?=/)')\n",
    "    titleRegex = re.compile('(?<=/Literatur/M/Tucholsky, Kurt/Werke/\\d{4}/).+')\n",
    "    basePath = '../data/tei/'\n",
    "    ###\n",
    "    filePath = basePath + path\n",
    "    tempList = []\n",
    "    if os.path.isfile(filePath) and path.endswith('.xml'):\n",
    "        tree = etree.parse(filePath)\n",
    "        root = tree.getroot()\n",
    "        TEIs = root.findall(\"./tei:teiCorpus/tei:TEI\",ns)\n",
    "        for el in TEIs:\n",
    "            tempDict = {}\n",
    "            tempDict['ids'] = el.attrib[\"{http://www.w3.org/XML/1998/namespace}id\"]\n",
    "            tei_path = el.attrib['n']\n",
    "            tempDict['year'] = int(re.findall(dateRegex,tei_path)[0])\n",
    "            tempDict['title'] =  re.findall(titleRegex,tei_path)[0]\n",
    "            tempList.append(tempDict)\n",
    "        with open(filePath) as file:\n",
    "            soup = BeautifulSoup(file,'lxml')\n",
    "            for ids in tempList:\n",
    "                try:\n",
    "                    search = re.compile(ids['ids'].split('.')[0] + '+')\n",
    "                    elems = soup.findAll('div',{'xml:id':search})\n",
    "                    assert len(elems) == 1\n",
    "                    text = elems[0].getText()\n",
    "                    ids.update({'text':text})\n",
    "                except:\n",
    "                    print(ids)\n",
    "                    search = re.compile(ids['title'] + '+')\n",
    "                    elems = soup.findAll('div',{'n':search})\n",
    "                    textList = [x.getText() for x in elems]\n",
    "                    text = '\\n\\n\\n\\n'.join(textList)\n",
    "                    ids.update({'text':text})\n",
    "                    print('Found text for ids')\n",
    "    return tempList"
   ]
  },
  {
   "cell_type": "code",
   "execution_count": 4,
   "metadata": {},
   "outputs": [
    {
     "name": "stdout",
     "output_type": "stream",
     "text": [
      "{'ids': 'tg996.wncv.0', 'year': 1927, 'title': 'Ein Pyrenäenbuch'}\n",
      "Found text for ids\n",
      "{'ids': 'tg1603.wnfc.0', 'year': 1931, 'title': 'Schloß Gripsholm'}\n",
      "Found text for ids\n"
     ]
    }
   ],
   "source": [
    "pool = Pool(cpu_count() - 1)"
   ]
  },
  {
   "cell_type": "code",
   "execution_count": 5,
   "metadata": {},
   "outputs": [],
   "source": [
    "result = pool.map(getText,fileList)"
   ]
  },
  {
   "cell_type": "code",
   "execution_count": 6,
   "metadata": {},
   "outputs": [],
   "source": [
    "flatt = [x for y in result for x in y]"
   ]
  },
  {
   "cell_type": "code",
   "execution_count": 8,
   "metadata": {},
   "outputs": [
    {
     "data": {
      "text/html": [
       "<div>\n",
       "<style scoped>\n",
       "    .dataframe tbody tr th:only-of-type {\n",
       "        vertical-align: middle;\n",
       "    }\n",
       "\n",
       "    .dataframe tbody tr th {\n",
       "        vertical-align: top;\n",
       "    }\n",
       "\n",
       "    .dataframe thead th {\n",
       "        text-align: right;\n",
       "    }\n",
       "</style>\n",
       "<table border=\"1\" class=\"dataframe\">\n",
       "  <thead>\n",
       "    <tr style=\"text-align: right;\">\n",
       "      <th></th>\n",
       "      <th>ids</th>\n",
       "      <th>year</th>\n",
       "      <th>title</th>\n",
       "      <th>text</th>\n",
       "    </tr>\n",
       "  </thead>\n",
       "  <tbody>\n",
       "    <tr>\n",
       "      <th>0</th>\n",
       "      <td>tg203.wkgc.0</td>\n",
       "      <td>1919</td>\n",
       "      <td>Ein Deutschland!</td>\n",
       "      <td>\\n\\n                              Ein Deutschl...</td>\n",
       "    </tr>\n",
       "    <tr>\n",
       "      <th>1</th>\n",
       "      <td>tg204.wkxr.0</td>\n",
       "      <td>1919</td>\n",
       "      <td>Achtundvierzig</td>\n",
       "      <td>\\n\\n                              Achtundvierz...</td>\n",
       "    </tr>\n",
       "  </tbody>\n",
       "</table>\n",
       "</div>"
      ],
      "text/plain": [
       "            ids  year             title  \\\n",
       "0  tg203.wkgc.0  1919  Ein Deutschland!   \n",
       "1  tg204.wkxr.0  1919    Achtundvierzig   \n",
       "\n",
       "                                                text  \n",
       "0  \\n\\n                              Ein Deutschl...  \n",
       "1  \\n\\n                              Achtundvierz...  "
      ]
     },
     "execution_count": 8,
     "metadata": {},
     "output_type": "execute_result"
    }
   ],
   "source": [
    "dfT = pd.DataFrame(flatt)\n",
    "dfT.head(2)"
   ]
  },
  {
   "cell_type": "markdown",
   "metadata": {},
   "source": [
    "We can easily check that all ids have a corresponding text."
   ]
  },
  {
   "cell_type": "code",
   "execution_count": null,
   "metadata": {},
   "outputs": [],
   "source": [
    "dfT[dfT.text.isna()]"
   ]
  },
  {
   "cell_type": "markdown",
   "metadata": {},
   "source": [
    "The resulting dataframe is saved in JSONL format for further processing."
   ]
  },
  {
   "cell_type": "code",
   "execution_count": 10,
   "metadata": {},
   "outputs": [],
   "source": [
    "dfT.to_json('../data/df_tucholsky.json', orient='records', lines=True)"
   ]
  },
  {
   "cell_type": "code",
   "execution_count": null,
   "metadata": {},
   "outputs": [],
   "source": []
  }
 ],
 "metadata": {
  "kernelspec": {
   "display_name": "Python 3",
   "language": "python",
   "name": "python3"
  },
  "language_info": {
   "codemirror_mode": {
    "name": "ipython",
    "version": 3
   },
   "file_extension": ".py",
   "mimetype": "text/x-python",
   "name": "python",
   "nbconvert_exporter": "python",
   "pygments_lexer": "ipython3",
   "version": "3.8.5"
  }
 },
 "nbformat": 4,
 "nbformat_minor": 4
}
