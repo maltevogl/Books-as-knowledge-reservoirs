{
 "cells": [
  {
   "cell_type": "markdown",
   "metadata": {},
   "source": [
    "# Structuring a Notebook\n",
    "Text can be structured. \n"
   ]
  },
  {
   "cell_type": "code",
   "execution_count": 1,
   "metadata": {},
   "outputs": [
    {
     "name": "stdout",
     "output_type": "stream",
     "text": [
      "This input, prints the output below.\n"
     ]
    }
   ],
   "source": [
    "print('This input, prints the output below.')"
   ]
  },
  {
   "cell_type": "markdown",
   "metadata": {},
   "source": [
    "## Formating markdown text\n",
    "\n",
    "### Title 1\n",
    "\n",
    "Text has _many_ options for **formating**. \n",
    "\n",
    "E.g. `[Link](https://www.mpiwg-berlin.mpg.de)` becomes [Links](https://www.mpiwg-berlin.mpg.de) \n",
    "\n",
    "#### Subsection 1\n",
    "\n",
    "Formulares can be writen in Latex: `$\\int_0^{10} x^3 dx$` becomes $\\int_0^{10} x^3 dx$"
   ]
  },
  {
   "cell_type": "code",
   "execution_count": null,
   "metadata": {},
   "outputs": [],
   "source": []
  }
 ],
 "metadata": {
  "kernelspec": {
   "display_name": "Python 3",
   "language": "python",
   "name": "python3"
  },
  "language_info": {
   "codemirror_mode": {
    "name": "ipython",
    "version": 3
   },
   "file_extension": ".py",
   "mimetype": "text/x-python",
   "name": "python",
   "nbconvert_exporter": "python",
   "pygments_lexer": "ipython3",
   "version": "3.8.2"
  },
  "toc": {
   "base_numbering": 1,
   "nav_menu": {},
   "number_sections": true,
   "sideBar": true,
   "skip_h1_title": false,
   "title_cell": "Table of Contents",
   "title_sidebar": "Contents",
   "toc_cell": false,
   "toc_position": {},
   "toc_section_display": true,
   "toc_window_display": false
  }
 },
 "nbformat": 4,
 "nbformat_minor": 4
}
